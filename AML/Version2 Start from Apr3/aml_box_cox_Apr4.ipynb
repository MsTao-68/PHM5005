{
 "metadata": {
  "kernelspec": {
   "display_name": "Python 3",
   "language": "python",
   "name": "python3"
  },
  "language_info": {
   "name": "python",
   "version": "3.10.13",
   "mimetype": "text/x-python",
   "codemirror_mode": {
    "name": "ipython",
    "version": 3
   },
   "pygments_lexer": "ipython3",
   "nbconvert_exporter": "python",
   "file_extension": ".py"
  },
  "kaggle": {
   "accelerator": "none",
   "dataSources": [
    {
     "sourceId": 8014819,
     "sourceType": "datasetVersion",
     "datasetId": 4721952
    }
   ],
   "dockerImageVersionId": 30673,
   "isInternetEnabled": true,
   "language": "python",
   "sourceType": "notebook",
   "isGpuEnabled": false
  }
 },
 "nbformat_minor": 4,
 "nbformat": 4,
 "cells": [
  {
   "cell_type": "code",
   "source": [
    "import pandas as pd\n",
    "gene = pd.read_csv(\"/kaggle/input/aml-dataset/gene.csv\")\n",
    "gene.head()"
   ],
   "metadata": {
    "ExecuteTime": {
     "end_time": "2024-04-03T01:08:32.077610Z",
     "start_time": "2024-04-03T01:08:29.952399Z"
    },
    "execution": {
     "iopub.status.busy": "2024-04-04T00:26:24.355393Z",
     "iopub.execute_input": "2024-04-04T00:26:24.355755Z",
     "iopub.status.idle": "2024-04-04T00:26:28.364400Z",
     "shell.execute_reply.started": "2024-04-04T00:26:24.355723Z",
     "shell.execute_reply": "2024-04-04T00:26:28.363275Z"
    },
    "trusted": true
   },
   "execution_count": 1,
   "outputs": [
    {
     "execution_count": 1,
     "output_type": "execute_result",
     "data": {
      "text/plain": "       ID_REF  1007_s_at   1053_at     117_at    121_at  1255_g_at    1294_at  \\\n0  GSM1682614   492.5000   988.500  1677.0000  2856.200  197.50000   3948.200   \n1  GSM1682615   992.2914  1671.248   312.9964  1514.233   68.79980   6455.948   \n2  GSM1682616   639.9207  2475.515   369.9277  2167.405   93.66864  10215.440   \n3  GSM1682617  1586.2420  1669.516   395.1871  1687.894  137.29080   4501.796   \n4  GSM1682618   673.6545  2246.731   857.8096  1973.064   83.86870   5533.674   \n\n    1316_at    1320_at  1405_i_at  ...  206927_s_at  206928_at  206929_s_at  \\\n0  749.4000  216.50000   1561.100  ...    136.00000   3003.800     489.8000   \n1  585.3797   33.89514   1053.610  ...    190.01090   4108.014    1030.2210   \n2  682.4297   50.10245   6135.089  ...    330.32360   5128.173    1402.8630   \n3  403.4219   18.10369  19350.590  ...    367.85490   5427.443     807.0797   \n4  530.7810   32.94907  12308.010  ...     18.18558   2551.292    1081.4950   \n\n   206930_at  206931_at  206932_at  206933_s_at  206934_at  206935_at  \\\n0  379.60000   945.8000  102.70000     95.00000  1124.5000   91.40000   \n1  109.02470   767.2295   11.72884    173.57690   169.2777    5.28214   \n2  195.03890   331.0485  101.89820    207.26920   245.7526   46.15807   \n3   73.01001   926.1743  230.80090    119.15180   195.9008   13.60067   \n4  219.95090   371.7992  177.03040     21.19365  1220.5080  192.27200   \n\n   206936_x_at  \n0     2573.400  \n1     1985.431  \n2     3002.954  \n3     2641.230  \n4     1311.488  \n\n[5 rows x 16384 columns]",
      "text/html": "<div>\n<style scoped>\n    .dataframe tbody tr th:only-of-type {\n        vertical-align: middle;\n    }\n\n    .dataframe tbody tr th {\n        vertical-align: top;\n    }\n\n    .dataframe thead th {\n        text-align: right;\n    }\n</style>\n<table border=\"1\" class=\"dataframe\">\n  <thead>\n    <tr style=\"text-align: right;\">\n      <th></th>\n      <th>ID_REF</th>\n      <th>1007_s_at</th>\n      <th>1053_at</th>\n      <th>117_at</th>\n      <th>121_at</th>\n      <th>1255_g_at</th>\n      <th>1294_at</th>\n      <th>1316_at</th>\n      <th>1320_at</th>\n      <th>1405_i_at</th>\n      <th>...</th>\n      <th>206927_s_at</th>\n      <th>206928_at</th>\n      <th>206929_s_at</th>\n      <th>206930_at</th>\n      <th>206931_at</th>\n      <th>206932_at</th>\n      <th>206933_s_at</th>\n      <th>206934_at</th>\n      <th>206935_at</th>\n      <th>206936_x_at</th>\n    </tr>\n  </thead>\n  <tbody>\n    <tr>\n      <th>0</th>\n      <td>GSM1682614</td>\n      <td>492.5000</td>\n      <td>988.500</td>\n      <td>1677.0000</td>\n      <td>2856.200</td>\n      <td>197.50000</td>\n      <td>3948.200</td>\n      <td>749.4000</td>\n      <td>216.50000</td>\n      <td>1561.100</td>\n      <td>...</td>\n      <td>136.00000</td>\n      <td>3003.800</td>\n      <td>489.8000</td>\n      <td>379.60000</td>\n      <td>945.8000</td>\n      <td>102.70000</td>\n      <td>95.00000</td>\n      <td>1124.5000</td>\n      <td>91.40000</td>\n      <td>2573.400</td>\n    </tr>\n    <tr>\n      <th>1</th>\n      <td>GSM1682615</td>\n      <td>992.2914</td>\n      <td>1671.248</td>\n      <td>312.9964</td>\n      <td>1514.233</td>\n      <td>68.79980</td>\n      <td>6455.948</td>\n      <td>585.3797</td>\n      <td>33.89514</td>\n      <td>1053.610</td>\n      <td>...</td>\n      <td>190.01090</td>\n      <td>4108.014</td>\n      <td>1030.2210</td>\n      <td>109.02470</td>\n      <td>767.2295</td>\n      <td>11.72884</td>\n      <td>173.57690</td>\n      <td>169.2777</td>\n      <td>5.28214</td>\n      <td>1985.431</td>\n    </tr>\n    <tr>\n      <th>2</th>\n      <td>GSM1682616</td>\n      <td>639.9207</td>\n      <td>2475.515</td>\n      <td>369.9277</td>\n      <td>2167.405</td>\n      <td>93.66864</td>\n      <td>10215.440</td>\n      <td>682.4297</td>\n      <td>50.10245</td>\n      <td>6135.089</td>\n      <td>...</td>\n      <td>330.32360</td>\n      <td>5128.173</td>\n      <td>1402.8630</td>\n      <td>195.03890</td>\n      <td>331.0485</td>\n      <td>101.89820</td>\n      <td>207.26920</td>\n      <td>245.7526</td>\n      <td>46.15807</td>\n      <td>3002.954</td>\n    </tr>\n    <tr>\n      <th>3</th>\n      <td>GSM1682617</td>\n      <td>1586.2420</td>\n      <td>1669.516</td>\n      <td>395.1871</td>\n      <td>1687.894</td>\n      <td>137.29080</td>\n      <td>4501.796</td>\n      <td>403.4219</td>\n      <td>18.10369</td>\n      <td>19350.590</td>\n      <td>...</td>\n      <td>367.85490</td>\n      <td>5427.443</td>\n      <td>807.0797</td>\n      <td>73.01001</td>\n      <td>926.1743</td>\n      <td>230.80090</td>\n      <td>119.15180</td>\n      <td>195.9008</td>\n      <td>13.60067</td>\n      <td>2641.230</td>\n    </tr>\n    <tr>\n      <th>4</th>\n      <td>GSM1682618</td>\n      <td>673.6545</td>\n      <td>2246.731</td>\n      <td>857.8096</td>\n      <td>1973.064</td>\n      <td>83.86870</td>\n      <td>5533.674</td>\n      <td>530.7810</td>\n      <td>32.94907</td>\n      <td>12308.010</td>\n      <td>...</td>\n      <td>18.18558</td>\n      <td>2551.292</td>\n      <td>1081.4950</td>\n      <td>219.95090</td>\n      <td>371.7992</td>\n      <td>177.03040</td>\n      <td>21.19365</td>\n      <td>1220.5080</td>\n      <td>192.27200</td>\n      <td>1311.488</td>\n    </tr>\n  </tbody>\n</table>\n<p>5 rows × 16384 columns</p>\n</div>"
     },
     "metadata": {}
    }
   ]
  },
  {
   "cell_type": "code",
   "source": [
    "gene.head()\n",
    "gene.shape"
   ],
   "metadata": {
    "collapsed": false,
    "ExecuteTime": {
     "end_time": "2024-04-03T01:08:32.078880Z",
     "start_time": "2024-04-03T01:08:32.060589Z"
    },
    "execution": {
     "iopub.status.busy": "2024-04-04T00:26:33.222064Z",
     "iopub.execute_input": "2024-04-04T00:26:33.222498Z",
     "iopub.status.idle": "2024-04-04T00:26:33.231684Z",
     "shell.execute_reply.started": "2024-04-04T00:26:33.222468Z",
     "shell.execute_reply": "2024-04-04T00:26:33.230262Z"
    },
    "trusted": true
   },
   "execution_count": 2,
   "outputs": [
    {
     "execution_count": 2,
     "output_type": "execute_result",
     "data": {
      "text/plain": "(183, 16384)"
     },
     "metadata": {}
    }
   ]
  },
  {
   "cell_type": "code",
   "source": [
    "chort = pd.read_csv(\"/kaggle/input/aml-dataset/Chort.csv\")\n",
    "chort.head()"
   ],
   "metadata": {
    "collapsed": false,
    "ExecuteTime": {
     "end_time": "2024-04-03T01:08:32.142313Z",
     "start_time": "2024-04-03T01:08:32.075349Z"
    },
    "execution": {
     "iopub.status.busy": "2024-04-04T00:26:35.693320Z",
     "iopub.execute_input": "2024-04-04T00:26:35.693705Z",
     "iopub.status.idle": "2024-04-04T00:26:35.717671Z",
     "shell.execute_reply.started": "2024-04-04T00:26:35.693674Z",
     "shell.execute_reply": "2024-04-04T00:26:35.716674Z"
    },
    "trusted": true
   },
   "execution_count": 3,
   "outputs": [
    {
     "execution_count": 3,
     "output_type": "execute_result",
     "data": {
      "text/plain": "       ID_REF  AGE SUBTYPES GENDER\n0  GSM1682614   56       M1      M\n1  GSM1682615   43       M1      F\n2  GSM1682616   45       M2      F\n3  GSM1682617   70       M1      F\n4  GSM1682618   62       M5      M",
      "text/html": "<div>\n<style scoped>\n    .dataframe tbody tr th:only-of-type {\n        vertical-align: middle;\n    }\n\n    .dataframe tbody tr th {\n        vertical-align: top;\n    }\n\n    .dataframe thead th {\n        text-align: right;\n    }\n</style>\n<table border=\"1\" class=\"dataframe\">\n  <thead>\n    <tr style=\"text-align: right;\">\n      <th></th>\n      <th>ID_REF</th>\n      <th>AGE</th>\n      <th>SUBTYPES</th>\n      <th>GENDER</th>\n    </tr>\n  </thead>\n  <tbody>\n    <tr>\n      <th>0</th>\n      <td>GSM1682614</td>\n      <td>56</td>\n      <td>M1</td>\n      <td>M</td>\n    </tr>\n    <tr>\n      <th>1</th>\n      <td>GSM1682615</td>\n      <td>43</td>\n      <td>M1</td>\n      <td>F</td>\n    </tr>\n    <tr>\n      <th>2</th>\n      <td>GSM1682616</td>\n      <td>45</td>\n      <td>M2</td>\n      <td>F</td>\n    </tr>\n    <tr>\n      <th>3</th>\n      <td>GSM1682617</td>\n      <td>70</td>\n      <td>M1</td>\n      <td>F</td>\n    </tr>\n    <tr>\n      <th>4</th>\n      <td>GSM1682618</td>\n      <td>62</td>\n      <td>M5</td>\n      <td>M</td>\n    </tr>\n  </tbody>\n</table>\n</div>"
     },
     "metadata": {}
    }
   ]
  },
  {
   "cell_type": "code",
   "source": [
    "df = pd.merge(gene, chort, on='ID_REF', how='outer')\n",
    "df.shape"
   ],
   "metadata": {
    "collapsed": false,
    "ExecuteTime": {
     "end_time": "2024-04-03T01:08:32.258158Z",
     "start_time": "2024-04-03T01:08:32.098127Z"
    },
    "execution": {
     "iopub.status.busy": "2024-04-04T00:26:38.434807Z",
     "iopub.execute_input": "2024-04-04T00:26:38.435537Z",
     "iopub.status.idle": "2024-04-04T00:26:38.472391Z",
     "shell.execute_reply.started": "2024-04-04T00:26:38.435494Z",
     "shell.execute_reply": "2024-04-04T00:26:38.471189Z"
    },
    "trusted": true
   },
   "execution_count": 4,
   "outputs": [
    {
     "execution_count": 4,
     "output_type": "execute_result",
     "data": {
      "text/plain": "(183, 16387)"
     },
     "metadata": {}
    }
   ]
  },
  {
   "cell_type": "code",
   "source": [
    "from sklearn.preprocessing import LabelEncoder\n",
    "label_encoder = LabelEncoder()\n",
    "df['GENDER'] = label_encoder.fit_transform(df['GENDER'])\n",
    "df.head()"
   ],
   "metadata": {
    "collapsed": false,
    "ExecuteTime": {
     "end_time": "2024-04-03T01:08:32.285336Z",
     "start_time": "2024-04-03T01:08:32.150442Z"
    },
    "execution": {
     "iopub.status.busy": "2024-04-04T00:26:40.724467Z",
     "iopub.execute_input": "2024-04-04T00:26:40.725356Z",
     "iopub.status.idle": "2024-04-04T00:26:42.335594Z",
     "shell.execute_reply.started": "2024-04-04T00:26:40.725310Z",
     "shell.execute_reply": "2024-04-04T00:26:42.332869Z"
    },
    "trusted": true
   },
   "execution_count": 5,
   "outputs": [
    {
     "execution_count": 5,
     "output_type": "execute_result",
     "data": {
      "text/plain": "       ID_REF  1007_s_at   1053_at     117_at    121_at  1255_g_at    1294_at  \\\n0  GSM1682614   492.5000   988.500  1677.0000  2856.200  197.50000   3948.200   \n1  GSM1682615   992.2914  1671.248   312.9964  1514.233   68.79980   6455.948   \n2  GSM1682616   639.9207  2475.515   369.9277  2167.405   93.66864  10215.440   \n3  GSM1682617  1586.2420  1669.516   395.1871  1687.894  137.29080   4501.796   \n4  GSM1682618   673.6545  2246.731   857.8096  1973.064   83.86870   5533.674   \n\n    1316_at    1320_at  1405_i_at  ...  206930_at  206931_at  206932_at  \\\n0  749.4000  216.50000   1561.100  ...  379.60000   945.8000  102.70000   \n1  585.3797   33.89514   1053.610  ...  109.02470   767.2295   11.72884   \n2  682.4297   50.10245   6135.089  ...  195.03890   331.0485  101.89820   \n3  403.4219   18.10369  19350.590  ...   73.01001   926.1743  230.80090   \n4  530.7810   32.94907  12308.010  ...  219.95090   371.7992  177.03040   \n\n   206933_s_at  206934_at  206935_at  206936_x_at  AGE  SUBTYPES  GENDER  \n0     95.00000  1124.5000   91.40000     2573.400   56        M1       1  \n1    173.57690   169.2777    5.28214     1985.431   43        M1       0  \n2    207.26920   245.7526   46.15807     3002.954   45        M2       0  \n3    119.15180   195.9008   13.60067     2641.230   70        M1       0  \n4     21.19365  1220.5080  192.27200     1311.488   62        M5       1  \n\n[5 rows x 16387 columns]",
      "text/html": "<div>\n<style scoped>\n    .dataframe tbody tr th:only-of-type {\n        vertical-align: middle;\n    }\n\n    .dataframe tbody tr th {\n        vertical-align: top;\n    }\n\n    .dataframe thead th {\n        text-align: right;\n    }\n</style>\n<table border=\"1\" class=\"dataframe\">\n  <thead>\n    <tr style=\"text-align: right;\">\n      <th></th>\n      <th>ID_REF</th>\n      <th>1007_s_at</th>\n      <th>1053_at</th>\n      <th>117_at</th>\n      <th>121_at</th>\n      <th>1255_g_at</th>\n      <th>1294_at</th>\n      <th>1316_at</th>\n      <th>1320_at</th>\n      <th>1405_i_at</th>\n      <th>...</th>\n      <th>206930_at</th>\n      <th>206931_at</th>\n      <th>206932_at</th>\n      <th>206933_s_at</th>\n      <th>206934_at</th>\n      <th>206935_at</th>\n      <th>206936_x_at</th>\n      <th>AGE</th>\n      <th>SUBTYPES</th>\n      <th>GENDER</th>\n    </tr>\n  </thead>\n  <tbody>\n    <tr>\n      <th>0</th>\n      <td>GSM1682614</td>\n      <td>492.5000</td>\n      <td>988.500</td>\n      <td>1677.0000</td>\n      <td>2856.200</td>\n      <td>197.50000</td>\n      <td>3948.200</td>\n      <td>749.4000</td>\n      <td>216.50000</td>\n      <td>1561.100</td>\n      <td>...</td>\n      <td>379.60000</td>\n      <td>945.8000</td>\n      <td>102.70000</td>\n      <td>95.00000</td>\n      <td>1124.5000</td>\n      <td>91.40000</td>\n      <td>2573.400</td>\n      <td>56</td>\n      <td>M1</td>\n      <td>1</td>\n    </tr>\n    <tr>\n      <th>1</th>\n      <td>GSM1682615</td>\n      <td>992.2914</td>\n      <td>1671.248</td>\n      <td>312.9964</td>\n      <td>1514.233</td>\n      <td>68.79980</td>\n      <td>6455.948</td>\n      <td>585.3797</td>\n      <td>33.89514</td>\n      <td>1053.610</td>\n      <td>...</td>\n      <td>109.02470</td>\n      <td>767.2295</td>\n      <td>11.72884</td>\n      <td>173.57690</td>\n      <td>169.2777</td>\n      <td>5.28214</td>\n      <td>1985.431</td>\n      <td>43</td>\n      <td>M1</td>\n      <td>0</td>\n    </tr>\n    <tr>\n      <th>2</th>\n      <td>GSM1682616</td>\n      <td>639.9207</td>\n      <td>2475.515</td>\n      <td>369.9277</td>\n      <td>2167.405</td>\n      <td>93.66864</td>\n      <td>10215.440</td>\n      <td>682.4297</td>\n      <td>50.10245</td>\n      <td>6135.089</td>\n      <td>...</td>\n      <td>195.03890</td>\n      <td>331.0485</td>\n      <td>101.89820</td>\n      <td>207.26920</td>\n      <td>245.7526</td>\n      <td>46.15807</td>\n      <td>3002.954</td>\n      <td>45</td>\n      <td>M2</td>\n      <td>0</td>\n    </tr>\n    <tr>\n      <th>3</th>\n      <td>GSM1682617</td>\n      <td>1586.2420</td>\n      <td>1669.516</td>\n      <td>395.1871</td>\n      <td>1687.894</td>\n      <td>137.29080</td>\n      <td>4501.796</td>\n      <td>403.4219</td>\n      <td>18.10369</td>\n      <td>19350.590</td>\n      <td>...</td>\n      <td>73.01001</td>\n      <td>926.1743</td>\n      <td>230.80090</td>\n      <td>119.15180</td>\n      <td>195.9008</td>\n      <td>13.60067</td>\n      <td>2641.230</td>\n      <td>70</td>\n      <td>M1</td>\n      <td>0</td>\n    </tr>\n    <tr>\n      <th>4</th>\n      <td>GSM1682618</td>\n      <td>673.6545</td>\n      <td>2246.731</td>\n      <td>857.8096</td>\n      <td>1973.064</td>\n      <td>83.86870</td>\n      <td>5533.674</td>\n      <td>530.7810</td>\n      <td>32.94907</td>\n      <td>12308.010</td>\n      <td>...</td>\n      <td>219.95090</td>\n      <td>371.7992</td>\n      <td>177.03040</td>\n      <td>21.19365</td>\n      <td>1220.5080</td>\n      <td>192.27200</td>\n      <td>1311.488</td>\n      <td>62</td>\n      <td>M5</td>\n      <td>1</td>\n    </tr>\n  </tbody>\n</table>\n<p>5 rows × 16387 columns</p>\n</div>"
     },
     "metadata": {}
    }
   ]
  },
  {
   "cell_type": "code",
   "source": [
    "df['SUBTYPES'] = label_encoder.fit_transform(df['SUBTYPES'])\n",
    "df.head()"
   ],
   "metadata": {
    "collapsed": false,
    "ExecuteTime": {
     "end_time": "2024-04-03T01:08:32.312867Z",
     "start_time": "2024-04-03T01:08:32.185557Z"
    },
    "execution": {
     "iopub.status.busy": "2024-04-04T00:26:45.568150Z",
     "iopub.execute_input": "2024-04-04T00:26:45.568627Z",
     "iopub.status.idle": "2024-04-04T00:26:45.604110Z",
     "shell.execute_reply.started": "2024-04-04T00:26:45.568589Z",
     "shell.execute_reply": "2024-04-04T00:26:45.602485Z"
    },
    "trusted": true
   },
   "execution_count": 6,
   "outputs": [
    {
     "execution_count": 6,
     "output_type": "execute_result",
     "data": {
      "text/plain": "       ID_REF  1007_s_at   1053_at     117_at    121_at  1255_g_at    1294_at  \\\n0  GSM1682614   492.5000   988.500  1677.0000  2856.200  197.50000   3948.200   \n1  GSM1682615   992.2914  1671.248   312.9964  1514.233   68.79980   6455.948   \n2  GSM1682616   639.9207  2475.515   369.9277  2167.405   93.66864  10215.440   \n3  GSM1682617  1586.2420  1669.516   395.1871  1687.894  137.29080   4501.796   \n4  GSM1682618   673.6545  2246.731   857.8096  1973.064   83.86870   5533.674   \n\n    1316_at    1320_at  1405_i_at  ...  206930_at  206931_at  206932_at  \\\n0  749.4000  216.50000   1561.100  ...  379.60000   945.8000  102.70000   \n1  585.3797   33.89514   1053.610  ...  109.02470   767.2295   11.72884   \n2  682.4297   50.10245   6135.089  ...  195.03890   331.0485  101.89820   \n3  403.4219   18.10369  19350.590  ...   73.01001   926.1743  230.80090   \n4  530.7810   32.94907  12308.010  ...  219.95090   371.7992  177.03040   \n\n   206933_s_at  206934_at  206935_at  206936_x_at  AGE  SUBTYPES  GENDER  \n0     95.00000  1124.5000   91.40000     2573.400   56         2       1  \n1    173.57690   169.2777    5.28214     1985.431   43         2       0  \n2    207.26920   245.7526   46.15807     3002.954   45         3       0  \n3    119.15180   195.9008   13.60067     2641.230   70         2       0  \n4     21.19365  1220.5080  192.27200     1311.488   62         6       1  \n\n[5 rows x 16387 columns]",
      "text/html": "<div>\n<style scoped>\n    .dataframe tbody tr th:only-of-type {\n        vertical-align: middle;\n    }\n\n    .dataframe tbody tr th {\n        vertical-align: top;\n    }\n\n    .dataframe thead th {\n        text-align: right;\n    }\n</style>\n<table border=\"1\" class=\"dataframe\">\n  <thead>\n    <tr style=\"text-align: right;\">\n      <th></th>\n      <th>ID_REF</th>\n      <th>1007_s_at</th>\n      <th>1053_at</th>\n      <th>117_at</th>\n      <th>121_at</th>\n      <th>1255_g_at</th>\n      <th>1294_at</th>\n      <th>1316_at</th>\n      <th>1320_at</th>\n      <th>1405_i_at</th>\n      <th>...</th>\n      <th>206930_at</th>\n      <th>206931_at</th>\n      <th>206932_at</th>\n      <th>206933_s_at</th>\n      <th>206934_at</th>\n      <th>206935_at</th>\n      <th>206936_x_at</th>\n      <th>AGE</th>\n      <th>SUBTYPES</th>\n      <th>GENDER</th>\n    </tr>\n  </thead>\n  <tbody>\n    <tr>\n      <th>0</th>\n      <td>GSM1682614</td>\n      <td>492.5000</td>\n      <td>988.500</td>\n      <td>1677.0000</td>\n      <td>2856.200</td>\n      <td>197.50000</td>\n      <td>3948.200</td>\n      <td>749.4000</td>\n      <td>216.50000</td>\n      <td>1561.100</td>\n      <td>...</td>\n      <td>379.60000</td>\n      <td>945.8000</td>\n      <td>102.70000</td>\n      <td>95.00000</td>\n      <td>1124.5000</td>\n      <td>91.40000</td>\n      <td>2573.400</td>\n      <td>56</td>\n      <td>2</td>\n      <td>1</td>\n    </tr>\n    <tr>\n      <th>1</th>\n      <td>GSM1682615</td>\n      <td>992.2914</td>\n      <td>1671.248</td>\n      <td>312.9964</td>\n      <td>1514.233</td>\n      <td>68.79980</td>\n      <td>6455.948</td>\n      <td>585.3797</td>\n      <td>33.89514</td>\n      <td>1053.610</td>\n      <td>...</td>\n      <td>109.02470</td>\n      <td>767.2295</td>\n      <td>11.72884</td>\n      <td>173.57690</td>\n      <td>169.2777</td>\n      <td>5.28214</td>\n      <td>1985.431</td>\n      <td>43</td>\n      <td>2</td>\n      <td>0</td>\n    </tr>\n    <tr>\n      <th>2</th>\n      <td>GSM1682616</td>\n      <td>639.9207</td>\n      <td>2475.515</td>\n      <td>369.9277</td>\n      <td>2167.405</td>\n      <td>93.66864</td>\n      <td>10215.440</td>\n      <td>682.4297</td>\n      <td>50.10245</td>\n      <td>6135.089</td>\n      <td>...</td>\n      <td>195.03890</td>\n      <td>331.0485</td>\n      <td>101.89820</td>\n      <td>207.26920</td>\n      <td>245.7526</td>\n      <td>46.15807</td>\n      <td>3002.954</td>\n      <td>45</td>\n      <td>3</td>\n      <td>0</td>\n    </tr>\n    <tr>\n      <th>3</th>\n      <td>GSM1682617</td>\n      <td>1586.2420</td>\n      <td>1669.516</td>\n      <td>395.1871</td>\n      <td>1687.894</td>\n      <td>137.29080</td>\n      <td>4501.796</td>\n      <td>403.4219</td>\n      <td>18.10369</td>\n      <td>19350.590</td>\n      <td>...</td>\n      <td>73.01001</td>\n      <td>926.1743</td>\n      <td>230.80090</td>\n      <td>119.15180</td>\n      <td>195.9008</td>\n      <td>13.60067</td>\n      <td>2641.230</td>\n      <td>70</td>\n      <td>2</td>\n      <td>0</td>\n    </tr>\n    <tr>\n      <th>4</th>\n      <td>GSM1682618</td>\n      <td>673.6545</td>\n      <td>2246.731</td>\n      <td>857.8096</td>\n      <td>1973.064</td>\n      <td>83.86870</td>\n      <td>5533.674</td>\n      <td>530.7810</td>\n      <td>32.94907</td>\n      <td>12308.010</td>\n      <td>...</td>\n      <td>219.95090</td>\n      <td>371.7992</td>\n      <td>177.03040</td>\n      <td>21.19365</td>\n      <td>1220.5080</td>\n      <td>192.27200</td>\n      <td>1311.488</td>\n      <td>62</td>\n      <td>6</td>\n      <td>1</td>\n    </tr>\n  </tbody>\n</table>\n<p>5 rows × 16387 columns</p>\n</div>"
     },
     "metadata": {}
    }
   ]
  },
  {
   "cell_type": "code",
   "source": [
    "# df.to_csv(\"/kaggle/working/AML.csv\", index=True)"
   ],
   "metadata": {
    "collapsed": false,
    "ExecuteTime": {
     "end_time": "2024-04-03T01:08:36.280856Z",
     "start_time": "2024-04-03T01:08:32.218854Z"
    },
    "execution": {
     "iopub.status.busy": "2024-04-03T11:37:34.546507Z",
     "iopub.execute_input": "2024-04-03T11:37:34.547436Z",
     "iopub.status.idle": "2024-04-03T11:37:34.579011Z",
     "shell.execute_reply.started": "2024-04-03T11:37:34.547390Z",
     "shell.execute_reply": "2024-04-03T11:37:34.577194Z"
    },
    "trusted": true
   },
   "execution_count": null,
   "outputs": []
  },
  {
   "cell_type": "code",
   "source": [
    "# pip install biothings_client"
   ],
   "metadata": {
    "execution": {
     "iopub.status.busy": "2024-04-03T11:38:04.920507Z",
     "iopub.execute_input": "2024-04-03T11:38:04.920907Z",
     "iopub.status.idle": "2024-04-03T11:38:04.925889Z",
     "shell.execute_reply.started": "2024-04-03T11:38:04.920875Z",
     "shell.execute_reply": "2024-04-03T11:38:04.924574Z"
    },
    "trusted": true
   },
   "execution_count": null,
   "outputs": []
  },
  {
   "cell_type": "code",
   "source": [
    "import numpy as np\n",
    "\n",
    "# Statistical Analysis & Machine Learning Packages/Libraries \n",
    "from sklearn.model_selection import train_test_split\n",
    "from sklearn.feature_selection import RFE # <--- Recursive Feature Eliminator\n",
    "from sklearn.tree import DecisionTreeClassifier\n",
    "from scipy.stats import pearsonr # <--- Pearson Correlation\n",
    "from sklearn.feature_selection import SelectKBest, chi2 # <--- Chi-Squared Test\n",
    "from sklearn.feature_selection import SelectKBest, f_classif # <--- Analysis of Variance\n",
    "from sklearn.ensemble import RandomForestClassifier # <--- Random Forest Regressor\n",
    "from sklearn.model_selection import GridSearchCV, KFold\n",
    "from sklearn.metrics import accuracy_score\n",
    "from sklearn.metrics import roc_auc_score, f1_score\n",
    "from sklearn.svm import SVC # <--  Support Vector Machine\n",
    "import xgboost as xgb # <--  XGBoost\n",
    "from sklearn.metrics import mean_squared_error\n",
    "import sklearn.neighbors # <--- k-Nearest Neighbors\n",
    "from sklearn.feature_selection import mutual_info_classif\n",
    "from sklearn.neural_network import MLPClassifier # <--- Multi-Layer Perceptron\n",
    "from sklearn.preprocessing import StandardScaler\n",
    "from sklearn.pipeline import Pipeline\n",
    "from scipy.stats import uniform, randint\n",
    "import sklearn.ensemble # <--- Soft Voting Machine\n",
    "from sklearn.metrics import confusion_matrix\n",
    "\n",
    "# Data Visualization Packages/Libraries \n",
    "import matplotlib.pyplot as plt\n",
    "import matplotlib\n",
    "import seaborn as sns\n",
    "from sklearn.tree import plot_tree\n",
    "\n",
    "# Miscellaneous Packages/Libraries \n",
    "import warnings\n",
    "# from biothings_client import get_client\n",
    "from sklearn.exceptions import ConvergenceWarning\n",
    "\n",
    "# Hardcoded Values\n",
    "random_state = 42 # <--- Random State\n",
    "test_size = 0.3 # <--- Test/Train Split\n",
    "\n",
    "kfold = KFold(n_splits = 6, shuffle = True, random_state = random_state) # <--- KFold\n",
    "warnings.filterwarnings(\"ignore\", category = ConvergenceWarning) # <--- Supress Warnings"
   ],
   "metadata": {
    "collapsed": false,
    "ExecuteTime": {
     "end_time": "2024-04-03T01:08:36.300775Z",
     "start_time": "2024-04-03T01:08:36.284300Z"
    },
    "execution": {
     "iopub.status.busy": "2024-04-04T00:26:59.821820Z",
     "iopub.execute_input": "2024-04-04T00:26:59.823276Z",
     "iopub.status.idle": "2024-04-04T00:27:01.001417Z",
     "shell.execute_reply.started": "2024-04-04T00:26:59.823208Z",
     "shell.execute_reply": "2024-04-04T00:27:00.999632Z"
    },
    "trusted": true
   },
   "execution_count": 7,
   "outputs": []
  },
  {
   "cell_type": "code",
   "source": [
    "# Feature Selection \n",
    "y = df['SUBTYPES'] # <--- Target (Case/Control)\n",
    "x = df.drop(['SUBTYPES', 'ID_REF'], axis = 1) # <--- Features (Genomic/Clinical)\n",
    "\n",
    "# normalization\n",
    "# log\n",
    "x_log_transformed = np.log1p(x) \n",
    "x_log_train, x_log_test, y_log_train, y_log_test = train_test_split(x_log_transformed, y, test_size = test_size, random_state = random_state) # <-- Test/Train\n",
    "\n",
    "#sqrt\n",
    "x_sqrt_transformed = np.sqrt(x)\n",
    "x_sqrt_train, x_sqrt_test, y_sqrt_train, y_sqrt_test = train_test_split(x_sqrt_transformed, y, test_size = test_size, random_state = random_state) # <-- Test/Train"
   ],
   "metadata": {
    "collapsed": false,
    "ExecuteTime": {
     "end_time": "2024-04-03T01:08:36.356757Z",
     "start_time": "2024-04-03T01:08:36.315566Z"
    },
    "execution": {
     "iopub.status.busy": "2024-04-04T00:33:58.140816Z",
     "iopub.execute_input": "2024-04-04T00:33:58.141713Z",
     "iopub.status.idle": "2024-04-04T00:33:58.261545Z",
     "shell.execute_reply.started": "2024-04-04T00:33:58.141672Z",
     "shell.execute_reply": "2024-04-04T00:33:58.260641Z"
    },
    "trusted": true
   },
   "execution_count": 10,
   "outputs": []
  },
  {
   "cell_type": "code",
   "source": [
    "x_log_train.head()"
   ],
   "metadata": {
    "execution": {
     "iopub.status.busy": "2024-04-04T00:34:12.140045Z",
     "iopub.execute_input": "2024-04-04T00:34:12.140507Z",
     "iopub.status.idle": "2024-04-04T00:34:12.174221Z",
     "shell.execute_reply.started": "2024-04-04T00:34:12.140473Z",
     "shell.execute_reply": "2024-04-04T00:34:12.172930Z"
    },
    "trusted": true
   },
   "execution_count": 11,
   "outputs": [
    {
     "execution_count": 11,
     "output_type": "execute_result",
     "data": {
      "text/plain": "     1007_s_at   1053_at    117_at    121_at  1255_g_at   1294_at   1316_at  \\\n171   5.885270  7.326466  7.816175  7.832213   4.900820  8.311325  6.531461   \n154   7.031741  8.421915  5.689684  8.101223   5.430222  8.791881  6.219994   \n85    6.736258  7.352867  4.975172  7.478643   4.583598  8.468423  7.056516   \n166   5.939734  7.582221  6.155347  7.821734   5.488134  8.925217  6.174747   \n26    6.776536  7.375414  6.745337  7.409115   3.768956  9.182097  6.398042   \n\n      1320_at  1405_i_at   1431_at  ...  206929_s_at  206930_at  206931_at  \\\n171  3.339322   8.290267  6.184355  ...     5.712412   6.107913   6.492694   \n154  5.769258   8.717911  5.638355  ...     6.590026   6.180638   6.250361   \n85   3.521017   7.914415  5.011526  ...     7.106834   5.431639   5.858231   \n166  2.873181   8.788984  5.843126  ...     6.353253   5.294488   6.708565   \n26   5.807675   9.305239  7.113580  ...     7.380291   5.401076   6.697005   \n\n     206932_at  206933_s_at  206934_at  206935_at  206936_x_at       AGE  \\\n171   3.555348     5.364573   7.696894   4.744932     7.886194  4.060443   \n154   5.901266     4.483003   4.487512   3.113515     7.327518  4.234107   \n85    3.034968     5.762978   5.593125   4.710718     7.740019  4.110874   \n166   3.111686     3.006816   6.680460   3.493993     8.027555  3.737670   \n26    2.684994     3.559427   6.081578   3.588368     7.577688  3.891820   \n\n       GENDER  \n171  0.000000  \n154  0.693147  \n85   0.000000  \n166  0.693147  \n26   0.000000  \n\n[5 rows x 16385 columns]",
      "text/html": "<div>\n<style scoped>\n    .dataframe tbody tr th:only-of-type {\n        vertical-align: middle;\n    }\n\n    .dataframe tbody tr th {\n        vertical-align: top;\n    }\n\n    .dataframe thead th {\n        text-align: right;\n    }\n</style>\n<table border=\"1\" class=\"dataframe\">\n  <thead>\n    <tr style=\"text-align: right;\">\n      <th></th>\n      <th>1007_s_at</th>\n      <th>1053_at</th>\n      <th>117_at</th>\n      <th>121_at</th>\n      <th>1255_g_at</th>\n      <th>1294_at</th>\n      <th>1316_at</th>\n      <th>1320_at</th>\n      <th>1405_i_at</th>\n      <th>1431_at</th>\n      <th>...</th>\n      <th>206929_s_at</th>\n      <th>206930_at</th>\n      <th>206931_at</th>\n      <th>206932_at</th>\n      <th>206933_s_at</th>\n      <th>206934_at</th>\n      <th>206935_at</th>\n      <th>206936_x_at</th>\n      <th>AGE</th>\n      <th>GENDER</th>\n    </tr>\n  </thead>\n  <tbody>\n    <tr>\n      <th>171</th>\n      <td>5.885270</td>\n      <td>7.326466</td>\n      <td>7.816175</td>\n      <td>7.832213</td>\n      <td>4.900820</td>\n      <td>8.311325</td>\n      <td>6.531461</td>\n      <td>3.339322</td>\n      <td>8.290267</td>\n      <td>6.184355</td>\n      <td>...</td>\n      <td>5.712412</td>\n      <td>6.107913</td>\n      <td>6.492694</td>\n      <td>3.555348</td>\n      <td>5.364573</td>\n      <td>7.696894</td>\n      <td>4.744932</td>\n      <td>7.886194</td>\n      <td>4.060443</td>\n      <td>0.000000</td>\n    </tr>\n    <tr>\n      <th>154</th>\n      <td>7.031741</td>\n      <td>8.421915</td>\n      <td>5.689684</td>\n      <td>8.101223</td>\n      <td>5.430222</td>\n      <td>8.791881</td>\n      <td>6.219994</td>\n      <td>5.769258</td>\n      <td>8.717911</td>\n      <td>5.638355</td>\n      <td>...</td>\n      <td>6.590026</td>\n      <td>6.180638</td>\n      <td>6.250361</td>\n      <td>5.901266</td>\n      <td>4.483003</td>\n      <td>4.487512</td>\n      <td>3.113515</td>\n      <td>7.327518</td>\n      <td>4.234107</td>\n      <td>0.693147</td>\n    </tr>\n    <tr>\n      <th>85</th>\n      <td>6.736258</td>\n      <td>7.352867</td>\n      <td>4.975172</td>\n      <td>7.478643</td>\n      <td>4.583598</td>\n      <td>8.468423</td>\n      <td>7.056516</td>\n      <td>3.521017</td>\n      <td>7.914415</td>\n      <td>5.011526</td>\n      <td>...</td>\n      <td>7.106834</td>\n      <td>5.431639</td>\n      <td>5.858231</td>\n      <td>3.034968</td>\n      <td>5.762978</td>\n      <td>5.593125</td>\n      <td>4.710718</td>\n      <td>7.740019</td>\n      <td>4.110874</td>\n      <td>0.000000</td>\n    </tr>\n    <tr>\n      <th>166</th>\n      <td>5.939734</td>\n      <td>7.582221</td>\n      <td>6.155347</td>\n      <td>7.821734</td>\n      <td>5.488134</td>\n      <td>8.925217</td>\n      <td>6.174747</td>\n      <td>2.873181</td>\n      <td>8.788984</td>\n      <td>5.843126</td>\n      <td>...</td>\n      <td>6.353253</td>\n      <td>5.294488</td>\n      <td>6.708565</td>\n      <td>3.111686</td>\n      <td>3.006816</td>\n      <td>6.680460</td>\n      <td>3.493993</td>\n      <td>8.027555</td>\n      <td>3.737670</td>\n      <td>0.693147</td>\n    </tr>\n    <tr>\n      <th>26</th>\n      <td>6.776536</td>\n      <td>7.375414</td>\n      <td>6.745337</td>\n      <td>7.409115</td>\n      <td>3.768956</td>\n      <td>9.182097</td>\n      <td>6.398042</td>\n      <td>5.807675</td>\n      <td>9.305239</td>\n      <td>7.113580</td>\n      <td>...</td>\n      <td>7.380291</td>\n      <td>5.401076</td>\n      <td>6.697005</td>\n      <td>2.684994</td>\n      <td>3.559427</td>\n      <td>6.081578</td>\n      <td>3.588368</td>\n      <td>7.577688</td>\n      <td>3.891820</td>\n      <td>0.000000</td>\n    </tr>\n  </tbody>\n</table>\n<p>5 rows × 16385 columns</p>\n</div>"
     },
     "metadata": {}
    }
   ]
  },
  {
   "cell_type": "code",
   "source": [
    "x_sqrt_train.head()"
   ],
   "metadata": {
    "execution": {
     "iopub.status.busy": "2024-04-04T00:34:24.560268Z",
     "iopub.execute_input": "2024-04-04T00:34:24.561382Z",
     "iopub.status.idle": "2024-04-04T00:34:24.591221Z",
     "shell.execute_reply.started": "2024-04-04T00:34:24.561281Z",
     "shell.execute_reply": "2024-04-04T00:34:24.589597Z"
    },
    "trusted": true
   },
   "execution_count": 12,
   "outputs": [
    {
     "execution_count": 12,
     "output_type": "execute_result",
     "data": {
      "text/plain": "     1007_s_at    1053_at     117_at     121_at  1255_g_at    1294_at  \\\n171  18.939377  38.974351  49.793574  50.194621  11.549892  63.786362   \n154  33.630343  67.413648  17.169741  57.423863  15.073155  81.114734   \n85   29.006937  39.492594  11.990567  42.057556   9.842049  69.000000   \n166  19.463656  44.294289  21.684799  49.932214  15.517912  86.707647   \n26   29.597730  39.940618  29.139079  40.619749   6.506519  98.592703   \n\n       1316_at    1320_at   1405_i_at    1431_at  ...  206929_s_at  206930_at  \\\n171  26.180145   5.215362   63.118143  22.002273  ...    17.366635  21.175457   \n154  22.398661  17.868968   78.169048  16.733201  ...    26.959228  21.961330   \n85   34.049890   5.728770   52.301491  12.212027  ...    34.918161  15.083885   \n166  21.896605   4.085732   80.997290  18.543344  ...    23.944895  14.079616   \n26   24.488109  18.216600  104.854518  35.036238  ...    40.038194  14.854114   \n\n     206931_at  206932_at  206933_s_at  206934_at  206935_at  206936_x_at  \\\n171  25.676838   5.830952    14.584238  46.909487  10.677078    51.568401   \n154  22.742032  19.091883     9.354143   9.375500   4.636809    38.994871   \n85   18.684330   4.449755    17.812771  16.357677  10.494375    47.932411   \n166  28.607581   4.632372     4.384394  28.207896   5.649525    55.346554   \n26   28.442512   3.695688     5.843205  20.897828   5.930851    44.193948   \n\n          AGE  GENDER  \n171  7.549834     0.0  \n154  8.246211     1.0  \n85   7.745967     0.0  \n166  6.403124     1.0  \n26   6.928203     0.0  \n\n[5 rows x 16385 columns]",
      "text/html": "<div>\n<style scoped>\n    .dataframe tbody tr th:only-of-type {\n        vertical-align: middle;\n    }\n\n    .dataframe tbody tr th {\n        vertical-align: top;\n    }\n\n    .dataframe thead th {\n        text-align: right;\n    }\n</style>\n<table border=\"1\" class=\"dataframe\">\n  <thead>\n    <tr style=\"text-align: right;\">\n      <th></th>\n      <th>1007_s_at</th>\n      <th>1053_at</th>\n      <th>117_at</th>\n      <th>121_at</th>\n      <th>1255_g_at</th>\n      <th>1294_at</th>\n      <th>1316_at</th>\n      <th>1320_at</th>\n      <th>1405_i_at</th>\n      <th>1431_at</th>\n      <th>...</th>\n      <th>206929_s_at</th>\n      <th>206930_at</th>\n      <th>206931_at</th>\n      <th>206932_at</th>\n      <th>206933_s_at</th>\n      <th>206934_at</th>\n      <th>206935_at</th>\n      <th>206936_x_at</th>\n      <th>AGE</th>\n      <th>GENDER</th>\n    </tr>\n  </thead>\n  <tbody>\n    <tr>\n      <th>171</th>\n      <td>18.939377</td>\n      <td>38.974351</td>\n      <td>49.793574</td>\n      <td>50.194621</td>\n      <td>11.549892</td>\n      <td>63.786362</td>\n      <td>26.180145</td>\n      <td>5.215362</td>\n      <td>63.118143</td>\n      <td>22.002273</td>\n      <td>...</td>\n      <td>17.366635</td>\n      <td>21.175457</td>\n      <td>25.676838</td>\n      <td>5.830952</td>\n      <td>14.584238</td>\n      <td>46.909487</td>\n      <td>10.677078</td>\n      <td>51.568401</td>\n      <td>7.549834</td>\n      <td>0.0</td>\n    </tr>\n    <tr>\n      <th>154</th>\n      <td>33.630343</td>\n      <td>67.413648</td>\n      <td>17.169741</td>\n      <td>57.423863</td>\n      <td>15.073155</td>\n      <td>81.114734</td>\n      <td>22.398661</td>\n      <td>17.868968</td>\n      <td>78.169048</td>\n      <td>16.733201</td>\n      <td>...</td>\n      <td>26.959228</td>\n      <td>21.961330</td>\n      <td>22.742032</td>\n      <td>19.091883</td>\n      <td>9.354143</td>\n      <td>9.375500</td>\n      <td>4.636809</td>\n      <td>38.994871</td>\n      <td>8.246211</td>\n      <td>1.0</td>\n    </tr>\n    <tr>\n      <th>85</th>\n      <td>29.006937</td>\n      <td>39.492594</td>\n      <td>11.990567</td>\n      <td>42.057556</td>\n      <td>9.842049</td>\n      <td>69.000000</td>\n      <td>34.049890</td>\n      <td>5.728770</td>\n      <td>52.301491</td>\n      <td>12.212027</td>\n      <td>...</td>\n      <td>34.918161</td>\n      <td>15.083885</td>\n      <td>18.684330</td>\n      <td>4.449755</td>\n      <td>17.812771</td>\n      <td>16.357677</td>\n      <td>10.494375</td>\n      <td>47.932411</td>\n      <td>7.745967</td>\n      <td>0.0</td>\n    </tr>\n    <tr>\n      <th>166</th>\n      <td>19.463656</td>\n      <td>44.294289</td>\n      <td>21.684799</td>\n      <td>49.932214</td>\n      <td>15.517912</td>\n      <td>86.707647</td>\n      <td>21.896605</td>\n      <td>4.085732</td>\n      <td>80.997290</td>\n      <td>18.543344</td>\n      <td>...</td>\n      <td>23.944895</td>\n      <td>14.079616</td>\n      <td>28.607581</td>\n      <td>4.632372</td>\n      <td>4.384394</td>\n      <td>28.207896</td>\n      <td>5.649525</td>\n      <td>55.346554</td>\n      <td>6.403124</td>\n      <td>1.0</td>\n    </tr>\n    <tr>\n      <th>26</th>\n      <td>29.597730</td>\n      <td>39.940618</td>\n      <td>29.139079</td>\n      <td>40.619749</td>\n      <td>6.506519</td>\n      <td>98.592703</td>\n      <td>24.488109</td>\n      <td>18.216600</td>\n      <td>104.854518</td>\n      <td>35.036238</td>\n      <td>...</td>\n      <td>40.038194</td>\n      <td>14.854114</td>\n      <td>28.442512</td>\n      <td>3.695688</td>\n      <td>5.843205</td>\n      <td>20.897828</td>\n      <td>5.930851</td>\n      <td>44.193948</td>\n      <td>6.928203</td>\n      <td>0.0</td>\n    </tr>\n  </tbody>\n</table>\n<p>5 rows × 16385 columns</p>\n</div>"
     },
     "metadata": {}
    }
   ]
  },
  {
   "cell_type": "code",
   "source": [
    "#box-cox\n",
    "from scipy.stats import boxcox\n",
    "\n",
    "# Convert DataFrame to NumPy array\n",
    "xtrain_np = x.to_numpy()\n",
    "\n",
    "# Initialize transformed array\n",
    "xtrain_boxcox = np.zeros_like(xtrain_np, dtype=np.float64)\n",
    "\n",
    "# Loop through each column and perform Box-Cox transformation\n",
    "for i in range(xtrain_np.shape[1]):\n",
    "    xtrain_boxcox[:, i], _ = boxcox(xtrain_np[:, i] + 1)  # Adding 1 to avoid non-positive values\n",
    "\n",
    "# Convert transformed array back to DataFrame\n",
    "xtrain_boxcox_df = pd.DataFrame(xtrain_boxcox, columns=x.columns)\n",
    "\n",
    "# Print the shape of transformed DataFrame\n",
    "print(\"Shape of transformed DataFrame:\", xtrain_boxcox_df.shape)"
   ],
   "metadata": {
    "collapsed": false,
    "ExecuteTime": {
     "end_time": "2024-04-03T01:08:36.356757Z",
     "start_time": "2024-04-03T01:08:36.315566Z"
    },
    "execution": {
     "iopub.status.busy": "2024-04-04T00:39:56.215445Z",
     "iopub.execute_input": "2024-04-04T00:39:56.215901Z",
     "iopub.status.idle": "2024-04-04T00:40:25.186337Z",
     "shell.execute_reply.started": "2024-04-04T00:39:56.215867Z",
     "shell.execute_reply": "2024-04-04T00:40:25.185167Z"
    },
    "trusted": true
   },
   "execution_count": 24,
   "outputs": [
    {
     "name": "stdout",
     "text": "Shape of transformed DataFrame: (183, 16385)\n",
     "output_type": "stream"
    }
   ]
  },
  {
   "cell_type": "code",
   "source": [
    "x_bc_train, x_bc_test, y_bc_train, y_bc_test = train_test_split(xtrain_boxcox_df, y, test_size = test_size, random_state = random_state) # <-- Test/Train"
   ],
   "metadata": {
    "collapsed": false,
    "ExecuteTime": {
     "end_time": "2024-04-03T01:08:36.356757Z",
     "start_time": "2024-04-03T01:08:36.315566Z"
    },
    "execution": {
     "iopub.status.busy": "2024-04-04T00:40:53.427435Z",
     "iopub.execute_input": "2024-04-04T00:40:53.428084Z",
     "iopub.status.idle": "2024-04-04T00:40:53.454978Z",
     "shell.execute_reply.started": "2024-04-04T00:40:53.428049Z",
     "shell.execute_reply": "2024-04-04T00:40:53.453759Z"
    },
    "trusted": true
   },
   "execution_count": 25,
   "outputs": []
  },
  {
   "cell_type": "code",
   "source": [
    "x_bc_train.head()"
   ],
   "metadata": {
    "execution": {
     "iopub.status.busy": "2024-04-04T00:41:03.574399Z",
     "iopub.execute_input": "2024-04-04T00:41:03.574775Z",
     "iopub.status.idle": "2024-04-04T00:41:03.607423Z",
     "shell.execute_reply.started": "2024-04-04T00:41:03.574747Z",
     "shell.execute_reply": "2024-04-04T00:41:03.606350Z"
    },
    "trusted": true
   },
   "execution_count": 26,
   "outputs": [
    {
     "execution_count": 26,
     "output_type": "execute_result",
     "data": {
      "text/plain": "     1007_s_at     1053_at    117_at     121_at  1255_g_at   1294_at  \\\n171   5.093870  226.278830  5.446631  11.462108   8.137654  3.317618   \n154   5.922362  483.648771  4.352996  12.020944   9.565545  3.365703   \n85    5.713382  230.467296  3.930885  10.748282   7.349057  3.334027   \n166   5.134319  270.251827  4.612493  11.440617   9.730733  3.377979   \n26    5.742052  234.105171  4.924593  10.610614   5.530843  3.400421   \n\n       1316_at   1320_at  1405_i_at   1431_at  ...  206929_s_at  206930_at  \\\n171  12.960200  2.099022  24.070286  5.360230  ...    36.748377  12.136764   \n154  11.911715  2.722915  26.933789  4.947662  ...    59.519474  12.391375   \n85   14.874679  2.163184  21.769956  4.460662  ...    78.782213   9.941473   \n166  11.764507  1.917279  27.436789  5.103644  ...    52.303796   9.532007   \n26   12.503453  2.729546  31.340491  6.038276  ...    91.310629   9.849230   \n\n     206931_at  206932_at  206933_s_at  206934_at  206935_at  206936_x_at  \\\n171  31.013905   4.039605     4.055473  14.911022   5.200664     3.782646   \n154  27.920067   7.315277     3.541497   6.504604   3.305617     3.674852   \n85   23.507129   3.383395     4.271943   8.938864   5.159700     3.755688   \n166  34.033916   3.478633     2.561392  11.780425   3.737110     3.807917   \n26   33.865513   2.955392     2.946990  10.155800   3.845110     3.724735   \n\n            AGE    GENDER  \n171  281.797729  0.000000  \n154  365.072470  0.896305  \n85   303.805940  0.000000  \n166  174.080942  0.896305  \n26   219.125599  0.000000  \n\n[5 rows x 16385 columns]",
      "text/html": "<div>\n<style scoped>\n    .dataframe tbody tr th:only-of-type {\n        vertical-align: middle;\n    }\n\n    .dataframe tbody tr th {\n        vertical-align: top;\n    }\n\n    .dataframe thead th {\n        text-align: right;\n    }\n</style>\n<table border=\"1\" class=\"dataframe\">\n  <thead>\n    <tr style=\"text-align: right;\">\n      <th></th>\n      <th>1007_s_at</th>\n      <th>1053_at</th>\n      <th>117_at</th>\n      <th>121_at</th>\n      <th>1255_g_at</th>\n      <th>1294_at</th>\n      <th>1316_at</th>\n      <th>1320_at</th>\n      <th>1405_i_at</th>\n      <th>1431_at</th>\n      <th>...</th>\n      <th>206929_s_at</th>\n      <th>206930_at</th>\n      <th>206931_at</th>\n      <th>206932_at</th>\n      <th>206933_s_at</th>\n      <th>206934_at</th>\n      <th>206935_at</th>\n      <th>206936_x_at</th>\n      <th>AGE</th>\n      <th>GENDER</th>\n    </tr>\n  </thead>\n  <tbody>\n    <tr>\n      <th>171</th>\n      <td>5.093870</td>\n      <td>226.278830</td>\n      <td>5.446631</td>\n      <td>11.462108</td>\n      <td>8.137654</td>\n      <td>3.317618</td>\n      <td>12.960200</td>\n      <td>2.099022</td>\n      <td>24.070286</td>\n      <td>5.360230</td>\n      <td>...</td>\n      <td>36.748377</td>\n      <td>12.136764</td>\n      <td>31.013905</td>\n      <td>4.039605</td>\n      <td>4.055473</td>\n      <td>14.911022</td>\n      <td>5.200664</td>\n      <td>3.782646</td>\n      <td>281.797729</td>\n      <td>0.000000</td>\n    </tr>\n    <tr>\n      <th>154</th>\n      <td>5.922362</td>\n      <td>483.648771</td>\n      <td>4.352996</td>\n      <td>12.020944</td>\n      <td>9.565545</td>\n      <td>3.365703</td>\n      <td>11.911715</td>\n      <td>2.722915</td>\n      <td>26.933789</td>\n      <td>4.947662</td>\n      <td>...</td>\n      <td>59.519474</td>\n      <td>12.391375</td>\n      <td>27.920067</td>\n      <td>7.315277</td>\n      <td>3.541497</td>\n      <td>6.504604</td>\n      <td>3.305617</td>\n      <td>3.674852</td>\n      <td>365.072470</td>\n      <td>0.896305</td>\n    </tr>\n    <tr>\n      <th>85</th>\n      <td>5.713382</td>\n      <td>230.467296</td>\n      <td>3.930885</td>\n      <td>10.748282</td>\n      <td>7.349057</td>\n      <td>3.334027</td>\n      <td>14.874679</td>\n      <td>2.163184</td>\n      <td>21.769956</td>\n      <td>4.460662</td>\n      <td>...</td>\n      <td>78.782213</td>\n      <td>9.941473</td>\n      <td>23.507129</td>\n      <td>3.383395</td>\n      <td>4.271943</td>\n      <td>8.938864</td>\n      <td>5.159700</td>\n      <td>3.755688</td>\n      <td>303.805940</td>\n      <td>0.000000</td>\n    </tr>\n    <tr>\n      <th>166</th>\n      <td>5.134319</td>\n      <td>270.251827</td>\n      <td>4.612493</td>\n      <td>11.440617</td>\n      <td>9.730733</td>\n      <td>3.377979</td>\n      <td>11.764507</td>\n      <td>1.917279</td>\n      <td>27.436789</td>\n      <td>5.103644</td>\n      <td>...</td>\n      <td>52.303796</td>\n      <td>9.532007</td>\n      <td>34.033916</td>\n      <td>3.478633</td>\n      <td>2.561392</td>\n      <td>11.780425</td>\n      <td>3.737110</td>\n      <td>3.807917</td>\n      <td>174.080942</td>\n      <td>0.896305</td>\n    </tr>\n    <tr>\n      <th>26</th>\n      <td>5.742052</td>\n      <td>234.105171</td>\n      <td>4.924593</td>\n      <td>10.610614</td>\n      <td>5.530843</td>\n      <td>3.400421</td>\n      <td>12.503453</td>\n      <td>2.729546</td>\n      <td>31.340491</td>\n      <td>6.038276</td>\n      <td>...</td>\n      <td>91.310629</td>\n      <td>9.849230</td>\n      <td>33.865513</td>\n      <td>2.955392</td>\n      <td>2.946990</td>\n      <td>10.155800</td>\n      <td>3.845110</td>\n      <td>3.724735</td>\n      <td>219.125599</td>\n      <td>0.000000</td>\n    </tr>\n  </tbody>\n</table>\n<p>5 rows × 16385 columns</p>\n</div>"
     },
     "metadata": {}
    }
   ]
  },
  {
   "cell_type": "code",
   "source": [
    "\n",
    "import seaborn as sns\n",
    "import matplotlib.pyplot as plt\n",
    "\n",
    "# Assuming x is your DataFrame\n",
    "\n",
    "# Select a subset of columns for visualization\n",
    "subset_cols = x_bc_train.columns[:5]  # Choose the first 10 columns for example\n",
    "\n",
    "# Create histograms for the selected columns\n",
    "\n",
    "for col in subset_cols:\n",
    "    plt.figure(figsize=(12, 6))\n",
    "    sns.histplot(x_bc_train[col], kde=True, bins=20, label=col)\n",
    "\n",
    "plt.title('Distribution of Selected Columns')\n",
    "plt.xlabel('Values')\n",
    "plt.ylabel('Frequency')\n",
    "plt.legend()\n",
    "plt.show()\n"
   ],
   "metadata": {
    "execution": {
     "iopub.status.busy": "2024-04-04T00:43:23.360811Z",
     "iopub.execute_input": "2024-04-04T00:43:23.361309Z",
     "iopub.status.idle": "2024-04-04T00:43:25.281548Z",
     "shell.execute_reply.started": "2024-04-04T00:43:23.361270Z",
     "shell.execute_reply": "2024-04-04T00:43:25.280303Z"
    },
    "trusted": true
   },
   "execution_count": 29,
   "outputs": [
    {
     "name": "stderr",
     "text": "/opt/conda/lib/python3.10/site-packages/seaborn/_oldcore.py:1119: FutureWarning: use_inf_as_na option is deprecated and will be removed in a future version. Convert inf values to NaN before operating instead.\n  with pd.option_context('mode.use_inf_as_na', True):\n/opt/conda/lib/python3.10/site-packages/seaborn/_oldcore.py:1119: FutureWarning: use_inf_as_na option is deprecated and will be removed in a future version. Convert inf values to NaN before operating instead.\n  with pd.option_context('mode.use_inf_as_na', True):\n/opt/conda/lib/python3.10/site-packages/seaborn/_oldcore.py:1119: FutureWarning: use_inf_as_na option is deprecated and will be removed in a future version. Convert inf values to NaN before operating instead.\n  with pd.option_context('mode.use_inf_as_na', True):\n/opt/conda/lib/python3.10/site-packages/seaborn/_oldcore.py:1119: FutureWarning: use_inf_as_na option is deprecated and will be removed in a future version. Convert inf values to NaN before operating instead.\n  with pd.option_context('mode.use_inf_as_na', True):\n/opt/conda/lib/python3.10/site-packages/seaborn/_oldcore.py:1119: FutureWarning: use_inf_as_na option is deprecated and will be removed in a future version. Convert inf values to NaN before operating instead.\n  with pd.option_context('mode.use_inf_as_na', True):\n",
     "output_type": "stream"
    },
    {
     "output_type": "display_data",
     "data": {
      "text/plain": "<Figure size 1200x600 with 1 Axes>",
      "image/png": "[encoded data removed]"
     },
     "metadata": {}
    },
    {
     "output_type": "display_data",
     "data": {
      "text/plain": "<Figure size 1200x600 with 1 Axes>",
      "image/png": "[encoded data removed]"
     },
     "metadata": {}
    },
    {
     "output_type": "display_data",
     "data": {
      "text/plain": "<Figure size 1200x600 with 1 Axes>",
      "image/png": "[encoded data removed]"
     },
     "metadata": {}
    },
    {
     "output_type": "display_data",
     "data": {
      "text/plain": "<Figure size 1200x600 with 1 Axes>",
      "image/png": "[encoded data removed]"
     },
     "metadata": {}
    },
    {
     "output_type": "display_data",
     "data": {
      "text/plain": "<Figure size 1200x600 with 1 Axes>",
      "image/png": "[encoded data removed]"
     },
     "metadata": {}
    }
   ]
  },
  {
   "cell_type": "code",
   "source": [
    "# Spearman correlation\n"
   ],
   "metadata": {},
   "execution_count": null,
   "outputs": []
  },
  {
   "cell_type": "code",
   "source": [
    "# Pearson Correlation\n",
    "person_correlations = [pearsonr(xtrain_boxcox_df[column], y) for column in xtrain_boxcox_df.columns] # <--- Calculate Pearson Correlation \n",
    "\n",
    "pearson_df = pd.DataFrame(person_correlations, columns=['Correlation Coefficient', 'p-value'], # <--- Generate p-values\n",
    "                          index = xtrain_boxcox_df.columns).reset_index().rename(columns={'index': 'Gene_Name'}) # <--- Create Table \n",
    "\n",
    "pearson_df['Absolute Correlation Coefficient'] = np.abs(pearson_df['Correlation Coefficient']) # <--- Absolute Value\n",
    "\n",
    "pearson_df_sorted = pearson_df.sort_values(by='Absolute Correlation Coefficient', \n",
    "                                    ascending = False).drop('Absolute Correlation Coefficient', axis = 1) # <--- Sort Table\n",
    "\n",
    "pearson_df_significant = pearson_df_sorted[pearson_df_sorted['p-value'] < 0.05] # <--- Significance Filter \n",
    "\n",
    "pearson_df_significant # <--- Display Table"
   ],
   "metadata": {
    "collapsed": false,
    "ExecuteTime": {
     "end_time": "2024-04-03T01:08:47.298770Z",
     "start_time": "2024-04-03T01:08:36.364216Z"
    },
    "execution": {
     "iopub.status.busy": "2024-04-04T00:47:28.381435Z",
     "iopub.execute_input": "2024-04-04T00:47:28.382728Z",
     "iopub.status.idle": "2024-04-04T00:47:51.522126Z",
     "shell.execute_reply.started": "2024-04-04T00:47:28.382667Z",
     "shell.execute_reply": "2024-04-04T00:47:51.520861Z"
    },
    "trusted": true
   },
   "execution_count": 32,
   "outputs": [
    {
     "execution_count": 32,
     "output_type": "execute_result",
     "data": {
      "text/plain": "          Gene_Name  Correlation Coefficient       p-value\n13008     203561_at                 0.547229  1.098126e-15\n12994     203547_at                 0.542819  2.055157e-15\n2730   1556008_a_at                -0.539011  3.504560e-15\n15679     206233_at                -0.518713  5.400880e-14\n12518     203069_at                -0.507753  2.196521e-13\n...             ...                      ...           ...\n14518   205071_x_at                 0.145175  4.989855e-02\n12612     203164_at                 0.145163  4.991743e-02\n11291   201843_s_at                 0.145157  4.992667e-02\n13375   203928_x_at                 0.145129  4.997179e-02\n5003     1559804_at                 0.145127  4.997437e-02\n\n[3921 rows x 3 columns]",
      "text/html": "<div>\n<style scoped>\n    .dataframe tbody tr th:only-of-type {\n        vertical-align: middle;\n    }\n\n    .dataframe tbody tr th {\n        vertical-align: top;\n    }\n\n    .dataframe thead th {\n        text-align: right;\n    }\n</style>\n<table border=\"1\" class=\"dataframe\">\n  <thead>\n    <tr style=\"text-align: right;\">\n      <th></th>\n      <th>Gene_Name</th>\n      <th>Correlation Coefficient</th>\n      <th>p-value</th>\n    </tr>\n  </thead>\n  <tbody>\n    <tr>\n      <th>13008</th>\n      <td>203561_at</td>\n      <td>0.547229</td>\n      <td>1.098126e-15</td>\n    </tr>\n    <tr>\n      <th>12994</th>\n      <td>203547_at</td>\n      <td>0.542819</td>\n      <td>2.055157e-15</td>\n    </tr>\n    <tr>\n      <th>2730</th>\n      <td>1556008_a_at</td>\n      <td>-0.539011</td>\n      <td>3.504560e-15</td>\n    </tr>\n    <tr>\n      <th>15679</th>\n      <td>206233_at</td>\n      <td>-0.518713</td>\n      <td>5.400880e-14</td>\n    </tr>\n    <tr>\n      <th>12518</th>\n      <td>203069_at</td>\n      <td>-0.507753</td>\n      <td>2.196521e-13</td>\n    </tr>\n    <tr>\n      <th>...</th>\n      <td>...</td>\n      <td>...</td>\n      <td>...</td>\n    </tr>\n    <tr>\n      <th>14518</th>\n      <td>205071_x_at</td>\n      <td>0.145175</td>\n      <td>4.989855e-02</td>\n    </tr>\n    <tr>\n      <th>12612</th>\n      <td>203164_at</td>\n      <td>0.145163</td>\n      <td>4.991743e-02</td>\n    </tr>\n    <tr>\n      <th>11291</th>\n      <td>201843_s_at</td>\n      <td>0.145157</td>\n      <td>4.992667e-02</td>\n    </tr>\n    <tr>\n      <th>13375</th>\n      <td>203928_x_at</td>\n      <td>0.145129</td>\n      <td>4.997179e-02</td>\n    </tr>\n    <tr>\n      <th>5003</th>\n      <td>1559804_at</td>\n      <td>0.145127</td>\n      <td>4.997437e-02</td>\n    </tr>\n  </tbody>\n</table>\n<p>3921 rows × 3 columns</p>\n</div>"
     },
     "metadata": {}
    }
   ]
  },
  {
   "cell_type": "code",
   "source": [
    "# Chi-Squared Test\n",
    "chisq_features = SelectKBest(score_func=chi2, k=10)  # <--- Select 10 Features\n",
    "chisq_fit = chisq_features.fit(xtrain_boxcox_df, y)  # <--- Fit Chi-Squared\n",
    "\n",
    "chisq_scores = pd.DataFrame(chisq_fit.scores_)  # <--- Scores\n",
    "chisq_pvalues = pd.DataFrame(chisq_fit.pvalues_)  # <--- p-values\n",
    "chisq_labels = pd.DataFrame(xtrain_boxcox_df.columns)  # <--- Features \n",
    "\n",
    "chisq_df = pd.concat([chisq_labels, chisq_scores, chisq_pvalues], axis=1)\n",
    "chisq_df.columns = ['Gene_Name', 'Chi-Square Statistic', 'p-value']  # <--- Create Table \n",
    "chisq_df_sorted = chisq_df.sort_values(by=['Chi-Square Statistic'], ascending=False)  # <--- Sort Table\n",
    "chisq_df_significant = chisq_df_sorted[chisq_df_sorted['p-value'] < 0.05]  # <--- Significance Filter \n",
    "\n",
    "chisq_df_significant  # <--- Display Table"
   ],
   "metadata": {
    "collapsed": false,
    "ExecuteTime": {
     "end_time": "2024-04-03T01:08:47.553909Z",
     "start_time": "2024-04-03T01:08:47.301720Z"
    },
    "execution": {
     "iopub.status.busy": "2024-04-04T00:48:30.599032Z",
     "iopub.execute_input": "2024-04-04T00:48:30.599509Z",
     "iopub.status.idle": "2024-04-04T00:48:30.955889Z",
     "shell.execute_reply.started": "2024-04-04T00:48:30.599474Z",
     "shell.execute_reply": "2024-04-04T00:48:30.954759Z"
    },
    "trusted": true
   },
   "execution_count": 33,
   "outputs": [
    {
     "execution_count": 33,
     "output_type": "execute_result",
     "data": {
      "text/plain": "          Gene_Name  Chi-Square Statistic   p-value\n10385   200937_s_at          4.046203e+08  0.000000\n10306   200858_s_at          2.141569e+08  0.000000\n9988    200047_s_at          1.445947e+08  0.000000\n10030   200089_s_at          3.931295e+07  0.000000\n9998    200057_s_at          2.261775e+07  0.000000\n...             ...                   ...       ...\n14215   204768_s_at          1.693746e+01  0.049704\n5374     1560483_at          1.693429e+01  0.049755\n12214   202766_s_at          1.693342e+01  0.049769\n1071   1553722_s_at          1.692302e+01  0.049935\n14527     205080_at          1.692039e+01  0.049977\n\n[5971 rows x 3 columns]",
      "text/html": "<div>\n<style scoped>\n    .dataframe tbody tr th:only-of-type {\n        vertical-align: middle;\n    }\n\n    .dataframe tbody tr th {\n        vertical-align: top;\n    }\n\n    .dataframe thead th {\n        text-align: right;\n    }\n</style>\n<table border=\"1\" class=\"dataframe\">\n  <thead>\n    <tr style=\"text-align: right;\">\n      <th></th>\n      <th>Gene_Name</th>\n      <th>Chi-Square Statistic</th>\n      <th>p-value</th>\n    </tr>\n  </thead>\n  <tbody>\n    <tr>\n      <th>10385</th>\n      <td>200937_s_at</td>\n      <td>4.046203e+08</td>\n      <td>0.000000</td>\n    </tr>\n    <tr>\n      <th>10306</th>\n      <td>200858_s_at</td>\n      <td>2.141569e+08</td>\n      <td>0.000000</td>\n    </tr>\n    <tr>\n      <th>9988</th>\n      <td>200047_s_at</td>\n      <td>1.445947e+08</td>\n      <td>0.000000</td>\n    </tr>\n    <tr>\n      <th>10030</th>\n      <td>200089_s_at</td>\n      <td>3.931295e+07</td>\n      <td>0.000000</td>\n    </tr>\n    <tr>\n      <th>9998</th>\n      <td>200057_s_at</td>\n      <td>2.261775e+07</td>\n      <td>0.000000</td>\n    </tr>\n    <tr>\n      <th>...</th>\n      <td>...</td>\n      <td>...</td>\n      <td>...</td>\n    </tr>\n    <tr>\n      <th>14215</th>\n      <td>204768_s_at</td>\n      <td>1.693746e+01</td>\n      <td>0.049704</td>\n    </tr>\n    <tr>\n      <th>5374</th>\n      <td>1560483_at</td>\n      <td>1.693429e+01</td>\n      <td>0.049755</td>\n    </tr>\n    <tr>\n      <th>12214</th>\n      <td>202766_s_at</td>\n      <td>1.693342e+01</td>\n      <td>0.049769</td>\n    </tr>\n    <tr>\n      <th>1071</th>\n      <td>1553722_s_at</td>\n      <td>1.692302e+01</td>\n      <td>0.049935</td>\n    </tr>\n    <tr>\n      <th>14527</th>\n      <td>205080_at</td>\n      <td>1.692039e+01</td>\n      <td>0.049977</td>\n    </tr>\n  </tbody>\n</table>\n<p>5971 rows × 3 columns</p>\n</div>"
     },
     "metadata": {}
    }
   ]
  },
  {
   "cell_type": "code",
   "source": [
    "# Analysis of Variance\n",
    "anova_features = SelectKBest(score_func = f_classif, k = 10).fit(xtrain_boxcox_df, y) # <--- Select 10 Features\n",
    "\n",
    "anova_scores = pd.DataFrame(anova_features.scores_, columns=['F-Statistic']) # <--- Scores\n",
    "anova_pvalues = pd.DataFrame(anova_features.pvalues_, columns=['p-value']) # <--- p-values\n",
    "anova_labels = pd.DataFrame(xtrain_boxcox_df.columns, columns=['Gene_Name']) # Features\n",
    "\n",
    "anova_df = pd.concat([anova_labels, anova_scores, anova_pvalues], axis = 1) # <--- Create Table\n",
    "anova_df_sorted = anova_df.sort_values('F-Statistic', ascending = False) # <--- Sort Table\n",
    "anova_df_significant = anova_df_sorted[anova_df_sorted['p-value'] < 0.05] # <--- Significance Filter \n",
    "\n",
    "anova_df_significant # <--- Display Table"
   ],
   "metadata": {
    "collapsed": false,
    "ExecuteTime": {
     "end_time": "2024-04-03T01:08:47.600517Z",
     "start_time": "2024-04-03T01:08:47.407178Z"
    },
    "execution": {
     "iopub.status.busy": "2024-04-04T00:48:46.907293Z",
     "iopub.execute_input": "2024-04-04T00:48:46.908113Z",
     "iopub.status.idle": "2024-04-04T00:48:47.281888Z",
     "shell.execute_reply.started": "2024-04-04T00:48:46.908068Z",
     "shell.execute_reply": "2024-04-04T00:48:47.280458Z"
    },
    "trusted": true
   },
   "execution_count": 34,
   "outputs": [
    {
     "execution_count": 34,
     "output_type": "execute_result",
     "data": {
      "text/plain": "          Gene_Name  F-Statistic       p-value\n12747   203300_x_at    20.657995  2.253118e-23\n12338     202890_at    20.313780  4.638209e-23\n15236     205789_at    20.275500  5.027792e-23\n559    1553043_a_at    18.722386  1.411262e-21\n12047   202599_s_at    18.091535  5.668105e-21\n...             ...          ...           ...\n13007     203560_at     1.934780  4.994176e-02\n15482     206035_at     1.934754  4.994522e-02\n5837     1561211_at     1.934646  4.995963e-02\n9420     1569767_at     1.934434  4.998791e-02\n110      1552408_at     1.934377  4.999556e-02\n\n[6066 rows x 3 columns]",
      "text/html": "<div>\n<style scoped>\n    .dataframe tbody tr th:only-of-type {\n        vertical-align: middle;\n    }\n\n    .dataframe tbody tr th {\n        vertical-align: top;\n    }\n\n    .dataframe thead th {\n        text-align: right;\n    }\n</style>\n<table border=\"1\" class=\"dataframe\">\n  <thead>\n    <tr style=\"text-align: right;\">\n      <th></th>\n      <th>Gene_Name</th>\n      <th>F-Statistic</th>\n      <th>p-value</th>\n    </tr>\n  </thead>\n  <tbody>\n    <tr>\n      <th>12747</th>\n      <td>203300_x_at</td>\n      <td>20.657995</td>\n      <td>2.253118e-23</td>\n    </tr>\n    <tr>\n      <th>12338</th>\n      <td>202890_at</td>\n      <td>20.313780</td>\n      <td>4.638209e-23</td>\n    </tr>\n    <tr>\n      <th>15236</th>\n      <td>205789_at</td>\n      <td>20.275500</td>\n      <td>5.027792e-23</td>\n    </tr>\n    <tr>\n      <th>559</th>\n      <td>1553043_a_at</td>\n      <td>18.722386</td>\n      <td>1.411262e-21</td>\n    </tr>\n    <tr>\n      <th>12047</th>\n      <td>202599_s_at</td>\n      <td>18.091535</td>\n      <td>5.668105e-21</td>\n    </tr>\n    <tr>\n      <th>...</th>\n      <td>...</td>\n      <td>...</td>\n      <td>...</td>\n    </tr>\n    <tr>\n      <th>13007</th>\n      <td>203560_at</td>\n      <td>1.934780</td>\n      <td>4.994176e-02</td>\n    </tr>\n    <tr>\n      <th>15482</th>\n      <td>206035_at</td>\n      <td>1.934754</td>\n      <td>4.994522e-02</td>\n    </tr>\n    <tr>\n      <th>5837</th>\n      <td>1561211_at</td>\n      <td>1.934646</td>\n      <td>4.995963e-02</td>\n    </tr>\n    <tr>\n      <th>9420</th>\n      <td>1569767_at</td>\n      <td>1.934434</td>\n      <td>4.998791e-02</td>\n    </tr>\n    <tr>\n      <th>110</th>\n      <td>1552408_at</td>\n      <td>1.934377</td>\n      <td>4.999556e-02</td>\n    </tr>\n  </tbody>\n</table>\n<p>6066 rows × 3 columns</p>\n</div>"
     },
     "metadata": {}
    }
   ]
  },
  {
   "cell_type": "code",
   "source": [
    "# Complete Merged Table\n",
    "merged_df = (anova_df_sorted.merge(chisq_df_sorted, on='Gene_Name', how='outer')\n",
    "                             .merge(pearson_df_sorted, on='Gene_Name', how='outer'))"
   ],
   "metadata": {
    "collapsed": false,
    "ExecuteTime": {
     "end_time": "2024-04-03T01:08:47.633828Z",
     "start_time": "2024-04-03T01:08:47.565862Z"
    },
    "execution": {
     "iopub.status.busy": "2024-04-04T00:48:51.338162Z",
     "iopub.execute_input": "2024-04-04T00:48:51.338639Z",
     "iopub.status.idle": "2024-04-04T00:48:51.435846Z",
     "shell.execute_reply.started": "2024-04-04T00:48:51.338603Z",
     "shell.execute_reply": "2024-04-04T00:48:51.434009Z"
    },
    "trusted": true
   },
   "execution_count": 35,
   "outputs": []
  },
  {
   "cell_type": "code",
   "source": [
    "merged_df.columns = ['Gene_Name', \n",
    "                     'F-Statistic', 'p-value (ANOVA)', \n",
    "                     'Chi-Square Statistic', 'p-value (Chi-Squared Test)', \n",
    "                     'Correlation Coefficient', 'p-value (Pearson Correlation)']\n",
    "merged_df.shape"
   ],
   "metadata": {
    "collapsed": false,
    "ExecuteTime": {
     "end_time": "2024-04-03T01:08:47.635534Z",
     "start_time": "2024-04-03T01:08:47.596442Z"
    },
    "execution": {
     "iopub.status.busy": "2024-04-04T00:49:45.263982Z",
     "iopub.execute_input": "2024-04-04T00:49:45.264637Z",
     "iopub.status.idle": "2024-04-04T00:49:45.275569Z",
     "shell.execute_reply.started": "2024-04-04T00:49:45.264590Z",
     "shell.execute_reply": "2024-04-04T00:49:45.273647Z"
    },
    "trusted": true
   },
   "execution_count": 39,
   "outputs": [
    {
     "execution_count": 39,
     "output_type": "execute_result",
     "data": {
      "text/plain": "(16385, 7)"
     },
     "metadata": {}
    }
   ]
  },
  {
   "cell_type": "code",
   "source": [
    "merged_df.to_csv('/kaggle/working/AML-Biomarker-Selection.csv', index = None)"
   ],
   "metadata": {
    "collapsed": false,
    "ExecuteTime": {
     "end_time": "2024-04-03T01:08:47.834938Z",
     "start_time": "2024-04-03T01:08:47.601763Z"
    },
    "execution": {
     "iopub.status.busy": "2024-04-04T00:49:00.872873Z",
     "iopub.execute_input": "2024-04-04T00:49:00.873284Z",
     "iopub.status.idle": "2024-04-04T00:49:01.133946Z",
     "shell.execute_reply.started": "2024-04-04T00:49:00.873254Z",
     "shell.execute_reply": "2024-04-04T00:49:01.133068Z"
    },
    "trusted": true
   },
   "execution_count": 37,
   "outputs": []
  },
  {
   "cell_type": "code",
   "source": [
    "# Supported Biomarkers\n",
    "\n",
    "biomarkers_df = anova_df_sorted.merge(chisq_df_sorted, on='Gene_Name').merge(pearson_df_sorted, on='Gene_Name')\n",
    "\n",
    "biomarkers_df.columns = ['Gene_Name', \n",
    "                         'F-Statistic', 'p-value (ANOVA)', \n",
    "                         'Chi-Square Statistic', 'p-value (Chi-Squared Test)', \n",
    "                         'Correlation Coefficient', 'p-value (Pearson Correlation)'] # <--- Create Biomarkers Table\n",
    "\n",
    "significant_biomarkers_df = biomarkers_df[(biomarkers_df['p-value (ANOVA)'] < 0.05) \n",
    "                                          & (biomarkers_df['p-value (Chi-Squared Test)'] < 0.05) \n",
    "                                          & (biomarkers_df['p-value (Pearson Correlation)'] < 0.05)] # <-- Filter 0.05 p-value\n",
    "\n",
    "\n",
    "significant_biomarkers_list = significant_biomarkers_df['Gene_Name'].values # <-- Ensembl ID for ML/AI Analysis\n",
    "\n",
    "significant_biomarkers_df"
   ],
   "metadata": {
    "collapsed": false,
    "ExecuteTime": {
     "end_time": "2024-04-03T01:08:47.848515Z",
     "start_time": "2024-04-03T01:08:47.750379Z"
    },
    "execution": {
     "iopub.status.busy": "2024-04-04T00:49:31.447629Z",
     "iopub.execute_input": "2024-04-04T00:49:31.448012Z",
     "iopub.status.idle": "2024-04-04T00:49:31.502998Z",
     "shell.execute_reply.started": "2024-04-04T00:49:31.447977Z",
     "shell.execute_reply": "2024-04-04T00:49:31.501628Z"
    },
    "trusted": true
   },
   "execution_count": 38,
   "outputs": [
    {
     "execution_count": 38,
     "output_type": "execute_result",
     "data": {
      "text/plain": "         Gene_Name  F-Statistic  p-value (ANOVA)  Chi-Square Statistic  \\\n0      203300_x_at    20.657995     2.253118e-23             50.727922   \n1        202890_at    20.313780     4.638209e-23            542.455601   \n2        205789_at    20.275500     5.027792e-23             67.027924   \n3     1553043_a_at    18.722386     1.411262e-21            372.043441   \n4      202599_s_at    18.091535     5.668105e-21            163.139014   \n...            ...          ...              ...                   ...   \n6029  1554667_s_at     1.941401     4.906455e-02             80.676945   \n6035    1560065_at     1.939984     4.925099e-02             24.968314   \n6036   200856_x_at     1.939611     4.930028e-02            374.821626   \n6050    1554328_at     1.936897     4.965966e-02             18.440144   \n6051  1562904_s_at     1.936715     4.968385e-02            120.235191   \n\n      p-value (Chi-Squared Test)  Correlation Coefficient  \\\n0                   7.857692e-08                 0.351215   \n1                  4.612198e-111                -0.283851   \n2                   5.808282e-11                 0.482008   \n3                   1.252638e-74                 0.229757   \n4                   1.653179e-30                -0.246693   \n...                          ...                      ...   \n6029                1.185654e-13                -0.160951   \n6035                3.006432e-03                -0.152519   \n6036                3.204778e-75                -0.185768   \n6050                3.039717e-02                -0.227284   \n6051                1.195954e-21                -0.186178   \n\n      p-value (Pearson Correlation)  \n0                      1.089267e-06  \n1                      9.862243e-05  \n2                      4.899525e-12  \n3                      1.755412e-03  \n4                      7.612485e-04  \n...                             ...  \n6029                   2.951083e-02  \n6035                   3.928631e-02  \n6036                   1.181052e-02  \n6050                   1.973673e-03  \n6051                   1.162226e-02  \n\n[1904 rows x 7 columns]",
      "text/html": "<div>\n<style scoped>\n    .dataframe tbody tr th:only-of-type {\n        vertical-align: middle;\n    }\n\n    .dataframe tbody tr th {\n        vertical-align: top;\n    }\n\n    .dataframe thead th {\n        text-align: right;\n    }\n</style>\n<table border=\"1\" class=\"dataframe\">\n  <thead>\n    <tr style=\"text-align: right;\">\n      <th></th>\n      <th>Gene_Name</th>\n      <th>F-Statistic</th>\n      <th>p-value (ANOVA)</th>\n      <th>Chi-Square Statistic</th>\n      <th>p-value (Chi-Squared Test)</th>\n      <th>Correlation Coefficient</th>\n      <th>p-value (Pearson Correlation)</th>\n    </tr>\n  </thead>\n  <tbody>\n    <tr>\n      <th>0</th>\n      <td>203300_x_at</td>\n      <td>20.657995</td>\n      <td>2.253118e-23</td>\n      <td>50.727922</td>\n      <td>7.857692e-08</td>\n      <td>0.351215</td>\n      <td>1.089267e-06</td>\n    </tr>\n    <tr>\n      <th>1</th>\n      <td>202890_at</td>\n      <td>20.313780</td>\n      <td>4.638209e-23</td>\n      <td>542.455601</td>\n      <td>4.612198e-111</td>\n      <td>-0.283851</td>\n      <td>9.862243e-05</td>\n    </tr>\n    <tr>\n      <th>2</th>\n      <td>205789_at</td>\n      <td>20.275500</td>\n      <td>5.027792e-23</td>\n      <td>67.027924</td>\n      <td>5.808282e-11</td>\n      <td>0.482008</td>\n      <td>4.899525e-12</td>\n    </tr>\n    <tr>\n      <th>3</th>\n      <td>1553043_a_at</td>\n      <td>18.722386</td>\n      <td>1.411262e-21</td>\n      <td>372.043441</td>\n      <td>1.252638e-74</td>\n      <td>0.229757</td>\n      <td>1.755412e-03</td>\n    </tr>\n    <tr>\n      <th>4</th>\n      <td>202599_s_at</td>\n      <td>18.091535</td>\n      <td>5.668105e-21</td>\n      <td>163.139014</td>\n      <td>1.653179e-30</td>\n      <td>-0.246693</td>\n      <td>7.612485e-04</td>\n    </tr>\n    <tr>\n      <th>...</th>\n      <td>...</td>\n      <td>...</td>\n      <td>...</td>\n      <td>...</td>\n      <td>...</td>\n      <td>...</td>\n      <td>...</td>\n    </tr>\n    <tr>\n      <th>6029</th>\n      <td>1554667_s_at</td>\n      <td>1.941401</td>\n      <td>4.906455e-02</td>\n      <td>80.676945</td>\n      <td>1.185654e-13</td>\n      <td>-0.160951</td>\n      <td>2.951083e-02</td>\n    </tr>\n    <tr>\n      <th>6035</th>\n      <td>1560065_at</td>\n      <td>1.939984</td>\n      <td>4.925099e-02</td>\n      <td>24.968314</td>\n      <td>3.006432e-03</td>\n      <td>-0.152519</td>\n      <td>3.928631e-02</td>\n    </tr>\n    <tr>\n      <th>6036</th>\n      <td>200856_x_at</td>\n      <td>1.939611</td>\n      <td>4.930028e-02</td>\n      <td>374.821626</td>\n      <td>3.204778e-75</td>\n      <td>-0.185768</td>\n      <td>1.181052e-02</td>\n    </tr>\n    <tr>\n      <th>6050</th>\n      <td>1554328_at</td>\n      <td>1.936897</td>\n      <td>4.965966e-02</td>\n      <td>18.440144</td>\n      <td>3.039717e-02</td>\n      <td>-0.227284</td>\n      <td>1.973673e-03</td>\n    </tr>\n    <tr>\n      <th>6051</th>\n      <td>1562904_s_at</td>\n      <td>1.936715</td>\n      <td>4.968385e-02</td>\n      <td>120.235191</td>\n      <td>1.195954e-21</td>\n      <td>-0.186178</td>\n      <td>1.162226e-02</td>\n    </tr>\n  </tbody>\n</table>\n<p>1904 rows × 7 columns</p>\n</div>"
     },
     "metadata": {}
    }
   ]
  },
  {
   "cell_type": "code",
   "source": [
    "len(significant_biomarkers_list)"
   ],
   "metadata": {
    "collapsed": false,
    "ExecuteTime": {
     "end_time": "2024-04-03T01:08:47.849048Z",
     "start_time": "2024-04-03T01:08:47.776318Z"
    },
    "execution": {
     "iopub.status.busy": "2024-04-04T00:50:13.795293Z",
     "iopub.execute_input": "2024-04-04T00:50:13.796349Z",
     "iopub.status.idle": "2024-04-04T00:50:13.805992Z",
     "shell.execute_reply.started": "2024-04-04T00:50:13.796286Z",
     "shell.execute_reply": "2024-04-04T00:50:13.804165Z"
    },
    "trusted": true
   },
   "execution_count": 40,
   "outputs": [
    {
     "execution_count": 40,
     "output_type": "execute_result",
     "data": {
      "text/plain": "1904"
     },
     "metadata": {}
    }
   ]
  },
  {
   "cell_type": "code",
   "source": [
    "significant_biomarkers_df.to_csv('/kaggle/working/AML-significant_biomarkers.csv', index = None)"
   ],
   "metadata": {
    "execution": {
     "iopub.status.busy": "2024-04-04T00:50:50.068494Z",
     "iopub.execute_input": "2024-04-04T00:50:50.068979Z",
     "iopub.status.idle": "2024-04-04T00:50:50.118364Z",
     "shell.execute_reply.started": "2024-04-04T00:50:50.068944Z",
     "shell.execute_reply": "2024-04-04T00:50:50.116780Z"
    },
    "trusted": true
   },
   "execution_count": 41,
   "outputs": []
  },
  {
   "cell_type": "code",
   "source": [
    "# ML/AI Analysis\n",
    "y = df['SUBTYPES'] # <--- Target (Case/Control)\n",
    "x_biomarker = xtrain_boxcox_df[significant_biomarkers_list] # <--- Features (Significant Biomarkers)\n",
    "\n",
    "x_biomarker_train, x_biomarker_test, y_biomarker_train, y_biomarker_test = train_test_split(xtrain_boxcox_df, y, test_size = test_size, random_state = random_state) # <--  Test/Train\n",
    "\n",
    "\n",
    "x_biomarker_train.head()"
   ],
   "metadata": {
    "collapsed": false,
    "ExecuteTime": {
     "end_time": "2024-04-03T01:08:47.919838Z",
     "start_time": "2024-04-03T01:08:47.781303Z"
    },
    "execution": {
     "iopub.status.busy": "2024-04-04T00:52:25.536887Z",
     "iopub.execute_input": "2024-04-04T00:52:25.537381Z",
     "iopub.status.idle": "2024-04-04T00:52:25.592741Z",
     "shell.execute_reply.started": "2024-04-04T00:52:25.537346Z",
     "shell.execute_reply": "2024-04-04T00:52:25.591122Z"
    },
    "trusted": true
   },
   "execution_count": 42,
   "outputs": [
    {
     "execution_count": 42,
     "output_type": "execute_result",
     "data": {
      "text/plain": "     1007_s_at     1053_at    117_at     121_at  1255_g_at   1294_at  \\\n171   5.093870  226.278830  5.446631  11.462108   8.137654  3.317618   \n154   5.922362  483.648771  4.352996  12.020944   9.565545  3.365703   \n85    5.713382  230.467296  3.930885  10.748282   7.349057  3.334027   \n166   5.134319  270.251827  4.612493  11.440617   9.730733  3.377979   \n26    5.742052  234.105171  4.924593  10.610614   5.530843  3.400421   \n\n       1316_at   1320_at  1405_i_at   1431_at  ...  206929_s_at  206930_at  \\\n171  12.960200  2.099022  24.070286  5.360230  ...    36.748377  12.136764   \n154  11.911715  2.722915  26.933789  4.947662  ...    59.519474  12.391375   \n85   14.874679  2.163184  21.769956  4.460662  ...    78.782213   9.941473   \n166  11.764507  1.917279  27.436789  5.103644  ...    52.303796   9.532007   \n26   12.503453  2.729546  31.340491  6.038276  ...    91.310629   9.849230   \n\n     206931_at  206932_at  206933_s_at  206934_at  206935_at  206936_x_at  \\\n171  31.013905   4.039605     4.055473  14.911022   5.200664     3.782646   \n154  27.920067   7.315277     3.541497   6.504604   3.305617     3.674852   \n85   23.507129   3.383395     4.271943   8.938864   5.159700     3.755688   \n166  34.033916   3.478633     2.561392  11.780425   3.737110     3.807917   \n26   33.865513   2.955392     2.946990  10.155800   3.845110     3.724735   \n\n            AGE    GENDER  \n171  281.797729  0.000000  \n154  365.072470  0.896305  \n85   303.805940  0.000000  \n166  174.080942  0.896305  \n26   219.125599  0.000000  \n\n[5 rows x 16385 columns]",
      "text/html": "<div>\n<style scoped>\n    .dataframe tbody tr th:only-of-type {\n        vertical-align: middle;\n    }\n\n    .dataframe tbody tr th {\n        vertical-align: top;\n    }\n\n    .dataframe thead th {\n        text-align: right;\n    }\n</style>\n<table border=\"1\" class=\"dataframe\">\n  <thead>\n    <tr style=\"text-align: right;\">\n      <th></th>\n      <th>1007_s_at</th>\n      <th>1053_at</th>\n      <th>117_at</th>\n      <th>121_at</th>\n      <th>1255_g_at</th>\n      <th>1294_at</th>\n      <th>1316_at</th>\n      <th>1320_at</th>\n      <th>1405_i_at</th>\n      <th>1431_at</th>\n      <th>...</th>\n      <th>206929_s_at</th>\n      <th>206930_at</th>\n      <th>206931_at</th>\n      <th>206932_at</th>\n      <th>206933_s_at</th>\n      <th>206934_at</th>\n      <th>206935_at</th>\n      <th>206936_x_at</th>\n      <th>AGE</th>\n      <th>GENDER</th>\n    </tr>\n  </thead>\n  <tbody>\n    <tr>\n      <th>171</th>\n      <td>5.093870</td>\n      <td>226.278830</td>\n      <td>5.446631</td>\n      <td>11.462108</td>\n      <td>8.137654</td>\n      <td>3.317618</td>\n      <td>12.960200</td>\n      <td>2.099022</td>\n      <td>24.070286</td>\n      <td>5.360230</td>\n      <td>...</td>\n      <td>36.748377</td>\n      <td>12.136764</td>\n      <td>31.013905</td>\n      <td>4.039605</td>\n      <td>4.055473</td>\n      <td>14.911022</td>\n      <td>5.200664</td>\n      <td>3.782646</td>\n      <td>281.797729</td>\n      <td>0.000000</td>\n    </tr>\n    <tr>\n      <th>154</th>\n      <td>5.922362</td>\n      <td>483.648771</td>\n      <td>4.352996</td>\n      <td>12.020944</td>\n      <td>9.565545</td>\n      <td>3.365703</td>\n      <td>11.911715</td>\n      <td>2.722915</td>\n      <td>26.933789</td>\n      <td>4.947662</td>\n      <td>...</td>\n      <td>59.519474</td>\n      <td>12.391375</td>\n      <td>27.920067</td>\n      <td>7.315277</td>\n      <td>3.541497</td>\n      <td>6.504604</td>\n      <td>3.305617</td>\n      <td>3.674852</td>\n      <td>365.072470</td>\n      <td>0.896305</td>\n    </tr>\n    <tr>\n      <th>85</th>\n      <td>5.713382</td>\n      <td>230.467296</td>\n      <td>3.930885</td>\n      <td>10.748282</td>\n      <td>7.349057</td>\n      <td>3.334027</td>\n      <td>14.874679</td>\n      <td>2.163184</td>\n      <td>21.769956</td>\n      <td>4.460662</td>\n      <td>...</td>\n      <td>78.782213</td>\n      <td>9.941473</td>\n      <td>23.507129</td>\n      <td>3.383395</td>\n      <td>4.271943</td>\n      <td>8.938864</td>\n      <td>5.159700</td>\n      <td>3.755688</td>\n      <td>303.805940</td>\n      <td>0.000000</td>\n    </tr>\n    <tr>\n      <th>166</th>\n      <td>5.134319</td>\n      <td>270.251827</td>\n      <td>4.612493</td>\n      <td>11.440617</td>\n      <td>9.730733</td>\n      <td>3.377979</td>\n      <td>11.764507</td>\n      <td>1.917279</td>\n      <td>27.436789</td>\n      <td>5.103644</td>\n      <td>...</td>\n      <td>52.303796</td>\n      <td>9.532007</td>\n      <td>34.033916</td>\n      <td>3.478633</td>\n      <td>2.561392</td>\n      <td>11.780425</td>\n      <td>3.737110</td>\n      <td>3.807917</td>\n      <td>174.080942</td>\n      <td>0.896305</td>\n    </tr>\n    <tr>\n      <th>26</th>\n      <td>5.742052</td>\n      <td>234.105171</td>\n      <td>4.924593</td>\n      <td>10.610614</td>\n      <td>5.530843</td>\n      <td>3.400421</td>\n      <td>12.503453</td>\n      <td>2.729546</td>\n      <td>31.340491</td>\n      <td>6.038276</td>\n      <td>...</td>\n      <td>91.310629</td>\n      <td>9.849230</td>\n      <td>33.865513</td>\n      <td>2.955392</td>\n      <td>2.946990</td>\n      <td>10.155800</td>\n      <td>3.845110</td>\n      <td>3.724735</td>\n      <td>219.125599</td>\n      <td>0.000000</td>\n    </tr>\n  </tbody>\n</table>\n<p>5 rows × 16385 columns</p>\n</div>"
     },
     "metadata": {}
    }
   ]
  },
  {
   "cell_type": "code",
   "source": [
    "# Random Forest Classifier (with Hyperparameter Tuning)\n",
    "rf = RandomForestClassifier(random_state = 42) # <--- Initialize RF \n",
    "rf.fit(x_biomarker_train, y_biomarker_train) # <--- Fit RF"
   ],
   "metadata": {
    "collapsed": false,
    "ExecuteTime": {
     "end_time": "2024-04-03T01:11:02.212211Z",
     "start_time": "2024-04-03T01:08:47.838021Z"
    },
    "execution": {
     "iopub.status.busy": "2024-04-04T00:53:29.640805Z",
     "iopub.execute_input": "2024-04-04T00:53:29.641534Z",
     "iopub.status.idle": "2024-04-04T00:53:30.800104Z",
     "shell.execute_reply.started": "2024-04-04T00:53:29.641487Z",
     "shell.execute_reply": "2024-04-04T00:53:30.798803Z"
    },
    "trusted": true
   },
   "execution_count": 45,
   "outputs": [
    {
     "execution_count": 45,
     "output_type": "execute_result",
     "data": {
      "text/plain": "RandomForestClassifier(random_state=42)",
      "text/html": "<style>#sk-container-id-1 {color: black;background-color: white;}#sk-container-id-1 pre{padding: 0;}#sk-container-id-1 div.sk-toggleable {background-color: white;}#sk-container-id-1 label.sk-toggleable__label {cursor: pointer;display: block;width: 100%;margin-bottom: 0;padding: 0.3em;box-sizing: border-box;text-align: center;}#sk-container-id-1 label.sk-toggleable__label-arrow:before {content: \"▸\";float: left;margin-right: 0.25em;color: #696969;}#sk-container-id-1 label.sk-toggleable__label-arrow:hover:before {color: black;}#sk-container-id-1 div.sk-estimator:hover label.sk-toggleable__label-arrow:before {color: black;}#sk-container-id-1 div.sk-toggleable__content {max-height: 0;max-width: 0;overflow: hidden;text-align: left;background-color: #f0f8ff;}#sk-container-id-1 div.sk-toggleable__content pre {margin: 0.2em;color: black;border-radius: 0.25em;background-color: #f0f8ff;}#sk-container-id-1 input.sk-toggleable__control:checked~div.sk-toggleable__content {max-height: 200px;max-width: 100%;overflow: auto;}#sk-container-id-1 input.sk-toggleable__control:checked~label.sk-toggleable__label-arrow:before {content: \"▾\";}#sk-container-id-1 div.sk-estimator input.sk-toggleable__control:checked~label.sk-toggleable__label {background-color: #d4ebff;}#sk-container-id-1 div.sk-label input.sk-toggleable__control:checked~label.sk-toggleable__label {background-color: #d4ebff;}#sk-container-id-1 input.sk-hidden--visually {border: 0;clip: rect(1px 1px 1px 1px);clip: rect(1px, 1px, 1px, 1px);height: 1px;margin: -1px;overflow: hidden;padding: 0;position: absolute;width: 1px;}#sk-container-id-1 div.sk-estimator {font-family: monospace;background-color: #f0f8ff;border: 1px dotted black;border-radius: 0.25em;box-sizing: border-box;margin-bottom: 0.5em;}#sk-container-id-1 div.sk-estimator:hover {background-color: #d4ebff;}#sk-container-id-1 div.sk-parallel-item::after {content: \"\";width: 100%;border-bottom: 1px solid gray;flex-grow: 1;}#sk-container-id-1 div.sk-label:hover label.sk-toggleable__label {background-color: #d4ebff;}#sk-container-id-1 div.sk-serial::before {content: \"\";position: absolute;border-left: 1px solid gray;box-sizing: border-box;top: 0;bottom: 0;left: 50%;z-index: 0;}#sk-container-id-1 div.sk-serial {display: flex;flex-direction: column;align-items: center;background-color: white;padding-right: 0.2em;padding-left: 0.2em;position: relative;}#sk-container-id-1 div.sk-item {position: relative;z-index: 1;}#sk-container-id-1 div.sk-parallel {display: flex;align-items: stretch;justify-content: center;background-color: white;position: relative;}#sk-container-id-1 div.sk-item::before, #sk-container-id-1 div.sk-parallel-item::before {content: \"\";position: absolute;border-left: 1px solid gray;box-sizing: border-box;top: 0;bottom: 0;left: 50%;z-index: -1;}#sk-container-id-1 div.sk-parallel-item {display: flex;flex-direction: column;z-index: 1;position: relative;background-color: white;}#sk-container-id-1 div.sk-parallel-item:first-child::after {align-self: flex-end;width: 50%;}#sk-container-id-1 div.sk-parallel-item:last-child::after {align-self: flex-start;width: 50%;}#sk-container-id-1 div.sk-parallel-item:only-child::after {width: 0;}#sk-container-id-1 div.sk-dashed-wrapped {border: 1px dashed gray;margin: 0 0.4em 0.5em 0.4em;box-sizing: border-box;padding-bottom: 0.4em;background-color: white;}#sk-container-id-1 div.sk-label label {font-family: monospace;font-weight: bold;display: inline-block;line-height: 1.2em;}#sk-container-id-1 div.sk-label-container {text-align: center;}#sk-container-id-1 div.sk-container {/* jupyter's `normalize.less` sets `[hidden] { display: none; }` but bootstrap.min.css set `[hidden] { display: none !important; }` so we also need the `!important` here to be able to override the default hidden behavior on the sphinx rendered scikit-learn.org. See: https://github.com/scikit-learn/scikit-learn/issues/21755 */display: inline-block !important;position: relative;}#sk-container-id-1 div.sk-text-repr-fallback {display: none;}</style><div id=\"sk-container-id-1\" class=\"sk-top-container\"><div class=\"sk-text-repr-fallback\"><pre>RandomForestClassifier(random_state=42)</pre><b>In a Jupyter environment, please rerun this cell to show the HTML representation or trust the notebook. <br />On GitHub, the HTML representation is unable to render, please try loading this page with nbviewer.org.</b></div><div class=\"sk-container\" hidden><div class=\"sk-item\"><div class=\"sk-estimator sk-toggleable\"><input class=\"sk-toggleable__control sk-hidden--visually\" id=\"sk-estimator-id-1\" type=\"checkbox\" checked><label for=\"sk-estimator-id-1\" class=\"sk-toggleable__label sk-toggleable__label-arrow\">RandomForestClassifier</label><div class=\"sk-toggleable__content\"><pre>RandomForestClassifier(random_state=42)</pre></div></div></div></div></div>"
     },
     "metadata": {}
    }
   ]
  },
  {
   "cell_type": "code",
   "source": [
    "rf_parameter_grid = {\n",
    "    'n_estimators': [100, 200, 300],  # Number of trees in the forest\n",
    "    'max_features': ['sqrt', 'log2'],  # Number of features to consider at every split\n",
    "    'max_depth': [None, 10, 20],  # Maximum number of levels in tree\n",
    "    'min_samples_split': [2, 5, 10],  # Minimum number of samples required to split a node\n",
    "    'min_samples_leaf': [1, 2, 4]  # Minimum number of samples required at each leaf node\n",
    "}\n",
    "\n",
    "kfold = KFold(n_splits = 2 , shuffle = True, random_state = random_state) # <--- KFold\n",
    "\n",
    "rf_best = GridSearchCV(\n",
    "    rf, param_grid = rf_parameter_grid, cv = kfold,\n",
    "    scoring = 'accuracy', n_jobs = -1, verbose = 0\n",
    ") # <--- Hyperparameter Tuning \n",
    "\n",
    "rf_best.fit(x_biomarker_train, y_train) # <--- Fit GridSearchCV\n",
    "rf_best = rf_best.best_estimator_ # <--- Assign Best Estimator \n",
    "rf_best"
   ],
   "metadata": {
    "collapsed": false,
    "ExecuteTime": {
     "end_time": "2024-04-03T01:11:02.212211Z",
     "start_time": "2024-04-03T01:08:47.838021Z"
    },
    "execution": {
     "iopub.status.busy": "2024-04-04T00:57:01.384777Z",
     "iopub.execute_input": "2024-04-04T00:57:01.385314Z",
     "iopub.status.idle": "2024-04-04T00:57:44.680652Z",
     "shell.execute_reply.started": "2024-04-04T00:57:01.385273Z",
     "shell.execute_reply": "2024-04-04T00:57:44.679274Z"
    },
    "trusted": true
   },
   "execution_count": 47,
   "outputs": [
    {
     "traceback": [
      "\u001B[0;31m---------------------------------------------------------------------------\u001B[0m",
      "\u001B[0;31mKeyboardInterrupt\u001B[0m                         Traceback (most recent call last)",
      "Cell \u001B[0;32mIn[47], line 22\u001B[0m\n\u001B[1;32m     15\u001B[0m kfold \u001B[38;5;241m=\u001B[39m KFold(n_splits \u001B[38;5;241m=\u001B[39m \u001B[38;5;241m2\u001B[39m , shuffle \u001B[38;5;241m=\u001B[39m \u001B[38;5;28;01mTrue\u001B[39;00m, random_state \u001B[38;5;241m=\u001B[39m random_state) \u001B[38;5;66;03m# <--- KFold\u001B[39;00m\n\u001B[1;32m     17\u001B[0m rf_best \u001B[38;5;241m=\u001B[39m GridSearchCV(\n\u001B[1;32m     18\u001B[0m     rf, param_grid \u001B[38;5;241m=\u001B[39m rf_parameter_grid, cv \u001B[38;5;241m=\u001B[39m kfold,\n\u001B[1;32m     19\u001B[0m     scoring \u001B[38;5;241m=\u001B[39m \u001B[38;5;124m'\u001B[39m\u001B[38;5;124maccuracy\u001B[39m\u001B[38;5;124m'\u001B[39m, n_jobs \u001B[38;5;241m=\u001B[39m \u001B[38;5;241m-\u001B[39m\u001B[38;5;241m1\u001B[39m, verbose \u001B[38;5;241m=\u001B[39m \u001B[38;5;241m0\u001B[39m\n\u001B[1;32m     20\u001B[0m ) \u001B[38;5;66;03m# <--- Hyperparameter Tuning \u001B[39;00m\n\u001B[0;32m---> 22\u001B[0m \u001B[43mrf_best\u001B[49m\u001B[38;5;241;43m.\u001B[39;49m\u001B[43mfit\u001B[49m\u001B[43m(\u001B[49m\u001B[43mx_biomarker_train\u001B[49m\u001B[43m,\u001B[49m\u001B[43m \u001B[49m\u001B[43my_train\u001B[49m\u001B[43m)\u001B[49m \u001B[38;5;66;03m# <--- Fit GridSearchCV\u001B[39;00m\n\u001B[1;32m     23\u001B[0m rf_best \u001B[38;5;241m=\u001B[39m rf_best\u001B[38;5;241m.\u001B[39mbest_estimator_ \u001B[38;5;66;03m# <--- Assign Best Estimator \u001B[39;00m\n\u001B[1;32m     24\u001B[0m rf_best\n",
      "File \u001B[0;32m/opt/conda/lib/python3.10/site-packages/sklearn/model_selection/_search.py:874\u001B[0m, in \u001B[0;36mBaseSearchCV.fit\u001B[0;34m(self, X, y, groups, **fit_params)\u001B[0m\n\u001B[1;32m    868\u001B[0m     results \u001B[38;5;241m=\u001B[39m \u001B[38;5;28mself\u001B[39m\u001B[38;5;241m.\u001B[39m_format_results(\n\u001B[1;32m    869\u001B[0m         all_candidate_params, n_splits, all_out, all_more_results\n\u001B[1;32m    870\u001B[0m     )\n\u001B[1;32m    872\u001B[0m     \u001B[38;5;28;01mreturn\u001B[39;00m results\n\u001B[0;32m--> 874\u001B[0m \u001B[38;5;28;43mself\u001B[39;49m\u001B[38;5;241;43m.\u001B[39;49m\u001B[43m_run_search\u001B[49m\u001B[43m(\u001B[49m\u001B[43mevaluate_candidates\u001B[49m\u001B[43m)\u001B[49m\n\u001B[1;32m    876\u001B[0m \u001B[38;5;66;03m# multimetric is determined here because in the case of a callable\u001B[39;00m\n\u001B[1;32m    877\u001B[0m \u001B[38;5;66;03m# self.scoring the return type is only known after calling\u001B[39;00m\n\u001B[1;32m    878\u001B[0m first_test_score \u001B[38;5;241m=\u001B[39m all_out[\u001B[38;5;241m0\u001B[39m][\u001B[38;5;124m\"\u001B[39m\u001B[38;5;124mtest_scores\u001B[39m\u001B[38;5;124m\"\u001B[39m]\n",
      "File \u001B[0;32m/opt/conda/lib/python3.10/site-packages/sklearn/model_selection/_search.py:1388\u001B[0m, in \u001B[0;36mGridSearchCV._run_search\u001B[0;34m(self, evaluate_candidates)\u001B[0m\n\u001B[1;32m   1386\u001B[0m \u001B[38;5;28;01mdef\u001B[39;00m \u001B[38;5;21m_run_search\u001B[39m(\u001B[38;5;28mself\u001B[39m, evaluate_candidates):\n\u001B[1;32m   1387\u001B[0m \u001B[38;5;250m    \u001B[39m\u001B[38;5;124;03m\"\"\"Search all candidates in param_grid\"\"\"\u001B[39;00m\n\u001B[0;32m-> 1388\u001B[0m     \u001B[43mevaluate_candidates\u001B[49m\u001B[43m(\u001B[49m\u001B[43mParameterGrid\u001B[49m\u001B[43m(\u001B[49m\u001B[38;5;28;43mself\u001B[39;49m\u001B[38;5;241;43m.\u001B[39;49m\u001B[43mparam_grid\u001B[49m\u001B[43m)\u001B[49m\u001B[43m)\u001B[49m\n",
      "File \u001B[0;32m/opt/conda/lib/python3.10/site-packages/sklearn/model_selection/_search.py:821\u001B[0m, in \u001B[0;36mBaseSearchCV.fit.<locals>.evaluate_candidates\u001B[0;34m(candidate_params, cv, more_results)\u001B[0m\n\u001B[1;32m    813\u001B[0m \u001B[38;5;28;01mif\u001B[39;00m \u001B[38;5;28mself\u001B[39m\u001B[38;5;241m.\u001B[39mverbose \u001B[38;5;241m>\u001B[39m \u001B[38;5;241m0\u001B[39m:\n\u001B[1;32m    814\u001B[0m     \u001B[38;5;28mprint\u001B[39m(\n\u001B[1;32m    815\u001B[0m         \u001B[38;5;124m\"\u001B[39m\u001B[38;5;124mFitting \u001B[39m\u001B[38;5;132;01m{0}\u001B[39;00m\u001B[38;5;124m folds for each of \u001B[39m\u001B[38;5;132;01m{1}\u001B[39;00m\u001B[38;5;124m candidates,\u001B[39m\u001B[38;5;124m\"\u001B[39m\n\u001B[1;32m    816\u001B[0m         \u001B[38;5;124m\"\u001B[39m\u001B[38;5;124m totalling \u001B[39m\u001B[38;5;132;01m{2}\u001B[39;00m\u001B[38;5;124m fits\u001B[39m\u001B[38;5;124m\"\u001B[39m\u001B[38;5;241m.\u001B[39mformat(\n\u001B[1;32m    817\u001B[0m             n_splits, n_candidates, n_candidates \u001B[38;5;241m*\u001B[39m n_splits\n\u001B[1;32m    818\u001B[0m         )\n\u001B[1;32m    819\u001B[0m     )\n\u001B[0;32m--> 821\u001B[0m out \u001B[38;5;241m=\u001B[39m \u001B[43mparallel\u001B[49m\u001B[43m(\u001B[49m\n\u001B[1;32m    822\u001B[0m \u001B[43m    \u001B[49m\u001B[43mdelayed\u001B[49m\u001B[43m(\u001B[49m\u001B[43m_fit_and_score\u001B[49m\u001B[43m)\u001B[49m\u001B[43m(\u001B[49m\n\u001B[1;32m    823\u001B[0m \u001B[43m        \u001B[49m\u001B[43mclone\u001B[49m\u001B[43m(\u001B[49m\u001B[43mbase_estimator\u001B[49m\u001B[43m)\u001B[49m\u001B[43m,\u001B[49m\n\u001B[1;32m    824\u001B[0m \u001B[43m        \u001B[49m\u001B[43mX\u001B[49m\u001B[43m,\u001B[49m\n\u001B[1;32m    825\u001B[0m \u001B[43m        \u001B[49m\u001B[43my\u001B[49m\u001B[43m,\u001B[49m\n\u001B[1;32m    826\u001B[0m \u001B[43m        \u001B[49m\u001B[43mtrain\u001B[49m\u001B[38;5;241;43m=\u001B[39;49m\u001B[43mtrain\u001B[49m\u001B[43m,\u001B[49m\n\u001B[1;32m    827\u001B[0m \u001B[43m        \u001B[49m\u001B[43mtest\u001B[49m\u001B[38;5;241;43m=\u001B[39;49m\u001B[43mtest\u001B[49m\u001B[43m,\u001B[49m\n\u001B[1;32m    828\u001B[0m \u001B[43m        \u001B[49m\u001B[43mparameters\u001B[49m\u001B[38;5;241;43m=\u001B[39;49m\u001B[43mparameters\u001B[49m\u001B[43m,\u001B[49m\n\u001B[1;32m    829\u001B[0m \u001B[43m        \u001B[49m\u001B[43msplit_progress\u001B[49m\u001B[38;5;241;43m=\u001B[39;49m\u001B[43m(\u001B[49m\u001B[43msplit_idx\u001B[49m\u001B[43m,\u001B[49m\u001B[43m \u001B[49m\u001B[43mn_splits\u001B[49m\u001B[43m)\u001B[49m\u001B[43m,\u001B[49m\n\u001B[1;32m    830\u001B[0m \u001B[43m        \u001B[49m\u001B[43mcandidate_progress\u001B[49m\u001B[38;5;241;43m=\u001B[39;49m\u001B[43m(\u001B[49m\u001B[43mcand_idx\u001B[49m\u001B[43m,\u001B[49m\u001B[43m \u001B[49m\u001B[43mn_candidates\u001B[49m\u001B[43m)\u001B[49m\u001B[43m,\u001B[49m\n\u001B[1;32m    831\u001B[0m \u001B[43m        \u001B[49m\u001B[38;5;241;43m*\u001B[39;49m\u001B[38;5;241;43m*\u001B[39;49m\u001B[43mfit_and_score_kwargs\u001B[49m\u001B[43m,\u001B[49m\n\u001B[1;32m    832\u001B[0m \u001B[43m    \u001B[49m\u001B[43m)\u001B[49m\n\u001B[1;32m    833\u001B[0m \u001B[43m    \u001B[49m\u001B[38;5;28;43;01mfor\u001B[39;49;00m\u001B[43m \u001B[49m\u001B[43m(\u001B[49m\u001B[43mcand_idx\u001B[49m\u001B[43m,\u001B[49m\u001B[43m \u001B[49m\u001B[43mparameters\u001B[49m\u001B[43m)\u001B[49m\u001B[43m,\u001B[49m\u001B[43m \u001B[49m\u001B[43m(\u001B[49m\u001B[43msplit_idx\u001B[49m\u001B[43m,\u001B[49m\u001B[43m \u001B[49m\u001B[43m(\u001B[49m\u001B[43mtrain\u001B[49m\u001B[43m,\u001B[49m\u001B[43m \u001B[49m\u001B[43mtest\u001B[49m\u001B[43m)\u001B[49m\u001B[43m)\u001B[49m\u001B[43m \u001B[49m\u001B[38;5;129;43;01min\u001B[39;49;00m\u001B[43m \u001B[49m\u001B[43mproduct\u001B[49m\u001B[43m(\u001B[49m\n\u001B[1;32m    834\u001B[0m \u001B[43m        \u001B[49m\u001B[38;5;28;43menumerate\u001B[39;49m\u001B[43m(\u001B[49m\u001B[43mcandidate_params\u001B[49m\u001B[43m)\u001B[49m\u001B[43m,\u001B[49m\u001B[43m \u001B[49m\u001B[38;5;28;43menumerate\u001B[39;49m\u001B[43m(\u001B[49m\u001B[43mcv\u001B[49m\u001B[38;5;241;43m.\u001B[39;49m\u001B[43msplit\u001B[49m\u001B[43m(\u001B[49m\u001B[43mX\u001B[49m\u001B[43m,\u001B[49m\u001B[43m \u001B[49m\u001B[43my\u001B[49m\u001B[43m,\u001B[49m\u001B[43m \u001B[49m\u001B[43mgroups\u001B[49m\u001B[43m)\u001B[49m\u001B[43m)\u001B[49m\n\u001B[1;32m    835\u001B[0m \u001B[43m    \u001B[49m\u001B[43m)\u001B[49m\n\u001B[1;32m    836\u001B[0m \u001B[43m\u001B[49m\u001B[43m)\u001B[49m\n\u001B[1;32m    838\u001B[0m \u001B[38;5;28;01mif\u001B[39;00m \u001B[38;5;28mlen\u001B[39m(out) \u001B[38;5;241m<\u001B[39m \u001B[38;5;241m1\u001B[39m:\n\u001B[1;32m    839\u001B[0m     \u001B[38;5;28;01mraise\u001B[39;00m \u001B[38;5;167;01mValueError\u001B[39;00m(\n\u001B[1;32m    840\u001B[0m         \u001B[38;5;124m\"\u001B[39m\u001B[38;5;124mNo fits were performed. \u001B[39m\u001B[38;5;124m\"\u001B[39m\n\u001B[1;32m    841\u001B[0m         \u001B[38;5;124m\"\u001B[39m\u001B[38;5;124mWas the CV iterator empty? \u001B[39m\u001B[38;5;124m\"\u001B[39m\n\u001B[1;32m    842\u001B[0m         \u001B[38;5;124m\"\u001B[39m\u001B[38;5;124mWere there no candidates?\u001B[39m\u001B[38;5;124m\"\u001B[39m\n\u001B[1;32m    843\u001B[0m     )\n",
      "File \u001B[0;32m/opt/conda/lib/python3.10/site-packages/sklearn/utils/parallel.py:63\u001B[0m, in \u001B[0;36mParallel.__call__\u001B[0;34m(self, iterable)\u001B[0m\n\u001B[1;32m     58\u001B[0m config \u001B[38;5;241m=\u001B[39m get_config()\n\u001B[1;32m     59\u001B[0m iterable_with_config \u001B[38;5;241m=\u001B[39m (\n\u001B[1;32m     60\u001B[0m     (_with_config(delayed_func, config), args, kwargs)\n\u001B[1;32m     61\u001B[0m     \u001B[38;5;28;01mfor\u001B[39;00m delayed_func, args, kwargs \u001B[38;5;129;01min\u001B[39;00m iterable\n\u001B[1;32m     62\u001B[0m )\n\u001B[0;32m---> 63\u001B[0m \u001B[38;5;28;01mreturn\u001B[39;00m \u001B[38;5;28;43msuper\u001B[39;49m\u001B[43m(\u001B[49m\u001B[43m)\u001B[49m\u001B[38;5;241;43m.\u001B[39;49m\u001B[38;5;21;43m__call__\u001B[39;49m\u001B[43m(\u001B[49m\u001B[43miterable_with_config\u001B[49m\u001B[43m)\u001B[49m\n",
      "File \u001B[0;32m/opt/conda/lib/python3.10/site-packages/joblib/parallel.py:1952\u001B[0m, in \u001B[0;36mParallel.__call__\u001B[0;34m(self, iterable)\u001B[0m\n\u001B[1;32m   1946\u001B[0m \u001B[38;5;66;03m# The first item from the output is blank, but it makes the interpreter\u001B[39;00m\n\u001B[1;32m   1947\u001B[0m \u001B[38;5;66;03m# progress until it enters the Try/Except block of the generator and\u001B[39;00m\n\u001B[1;32m   1948\u001B[0m \u001B[38;5;66;03m# reach the first `yield` statement. This starts the aynchronous\u001B[39;00m\n\u001B[1;32m   1949\u001B[0m \u001B[38;5;66;03m# dispatch of the tasks to the workers.\u001B[39;00m\n\u001B[1;32m   1950\u001B[0m \u001B[38;5;28mnext\u001B[39m(output)\n\u001B[0;32m-> 1952\u001B[0m \u001B[38;5;28;01mreturn\u001B[39;00m output \u001B[38;5;28;01mif\u001B[39;00m \u001B[38;5;28mself\u001B[39m\u001B[38;5;241m.\u001B[39mreturn_generator \u001B[38;5;28;01melse\u001B[39;00m \u001B[38;5;28;43mlist\u001B[39;49m\u001B[43m(\u001B[49m\u001B[43moutput\u001B[49m\u001B[43m)\u001B[49m\n",
      "File \u001B[0;32m/opt/conda/lib/python3.10/site-packages/joblib/parallel.py:1595\u001B[0m, in \u001B[0;36mParallel._get_outputs\u001B[0;34m(self, iterator, pre_dispatch)\u001B[0m\n\u001B[1;32m   1592\u001B[0m     \u001B[38;5;28;01myield\u001B[39;00m\n\u001B[1;32m   1594\u001B[0m     \u001B[38;5;28;01mwith\u001B[39;00m \u001B[38;5;28mself\u001B[39m\u001B[38;5;241m.\u001B[39m_backend\u001B[38;5;241m.\u001B[39mretrieval_context():\n\u001B[0;32m-> 1595\u001B[0m         \u001B[38;5;28;01myield from\u001B[39;00m \u001B[38;5;28mself\u001B[39m\u001B[38;5;241m.\u001B[39m_retrieve()\n\u001B[1;32m   1597\u001B[0m \u001B[38;5;28;01mexcept\u001B[39;00m \u001B[38;5;167;01mGeneratorExit\u001B[39;00m:\n\u001B[1;32m   1598\u001B[0m     \u001B[38;5;66;03m# The generator has been garbage collected before being fully\u001B[39;00m\n\u001B[1;32m   1599\u001B[0m     \u001B[38;5;66;03m# consumed. This aborts the remaining tasks if possible and warn\u001B[39;00m\n\u001B[1;32m   1600\u001B[0m     \u001B[38;5;66;03m# the user if necessary.\u001B[39;00m\n\u001B[1;32m   1601\u001B[0m     \u001B[38;5;28mself\u001B[39m\u001B[38;5;241m.\u001B[39m_exception \u001B[38;5;241m=\u001B[39m \u001B[38;5;28;01mTrue\u001B[39;00m\n",
      "File \u001B[0;32m/opt/conda/lib/python3.10/site-packages/joblib/parallel.py:1707\u001B[0m, in \u001B[0;36mParallel._retrieve\u001B[0;34m(self)\u001B[0m\n\u001B[1;32m   1702\u001B[0m \u001B[38;5;66;03m# If the next job is not ready for retrieval yet, we just wait for\u001B[39;00m\n\u001B[1;32m   1703\u001B[0m \u001B[38;5;66;03m# async callbacks to progress.\u001B[39;00m\n\u001B[1;32m   1704\u001B[0m \u001B[38;5;28;01mif\u001B[39;00m ((\u001B[38;5;28mlen\u001B[39m(\u001B[38;5;28mself\u001B[39m\u001B[38;5;241m.\u001B[39m_jobs) \u001B[38;5;241m==\u001B[39m \u001B[38;5;241m0\u001B[39m) \u001B[38;5;129;01mor\u001B[39;00m\n\u001B[1;32m   1705\u001B[0m     (\u001B[38;5;28mself\u001B[39m\u001B[38;5;241m.\u001B[39m_jobs[\u001B[38;5;241m0\u001B[39m]\u001B[38;5;241m.\u001B[39mget_status(\n\u001B[1;32m   1706\u001B[0m         timeout\u001B[38;5;241m=\u001B[39m\u001B[38;5;28mself\u001B[39m\u001B[38;5;241m.\u001B[39mtimeout) \u001B[38;5;241m==\u001B[39m TASK_PENDING)):\n\u001B[0;32m-> 1707\u001B[0m     \u001B[43mtime\u001B[49m\u001B[38;5;241;43m.\u001B[39;49m\u001B[43msleep\u001B[49m\u001B[43m(\u001B[49m\u001B[38;5;241;43m0.01\u001B[39;49m\u001B[43m)\u001B[49m\n\u001B[1;32m   1708\u001B[0m     \u001B[38;5;28;01mcontinue\u001B[39;00m\n\u001B[1;32m   1710\u001B[0m \u001B[38;5;66;03m# We need to be careful: the job list can be filling up as\u001B[39;00m\n\u001B[1;32m   1711\u001B[0m \u001B[38;5;66;03m# we empty it and Python list are not thread-safe by\u001B[39;00m\n\u001B[1;32m   1712\u001B[0m \u001B[38;5;66;03m# default hence the use of the lock\u001B[39;00m\n",
      "\u001B[0;31mKeyboardInterrupt\u001B[0m: "
     ],
     "ename": "KeyboardInterrupt",
     "evalue": "",
     "output_type": "error"
    }
   ]
  },
  {
   "cell_type": "code",
   "source": [
    "y_predict = rf_best.predict(x_test_transformed)  # <--- Predict Target\n",
    "rf_accuracy = accuracy_score(y_test, y_predict)  # <--- Calculate Accuracy\n",
    "\n",
    "y_probs = rf_best.predict_proba(x_test_transformed)\n",
    "y_probs = y_probs[:, 1]  # <--- Predict Positives Classes\n",
    "\n",
    "rf_F1 = f1_score(y_test, y_predict, average='weighted')  # <--- Weigthed-Average F1 Score\n",
    "\n",
    "from sklearn.metrics import roc_auc_score\n",
    "from sklearn.preprocessing import LabelBinarizer\n",
    "\n",
    "# Convert y_predict to one-hot encoding\n",
    "lb = LabelBinarizer()\n",
    "y_one_hot = lb.fit_transform(y_predict)\n",
    "\n",
    "# Compute ROC AUC score for each class\n",
    "roc_auc_scores = []\n",
    "for i in range(y_one_hot.shape[1]):\n",
    "    roc_auc_scores.append(roc_auc_score(y_one_hot[:, i], y_probs))\n",
    "# Average the ROC AUC scores across all classes\n",
    "avg_roc_auc = sum(roc_auc_scores) / len(roc_auc_scores)\n",
    "\n",
    "\n",
    "print('Accuracy: ', rf_accuracy)\n",
    "print(\"Average ROC AUC Score:\", avg_roc_auc)\n",
    "print('Weighted-Average F1 Score: ', rf_F1)"
   ],
   "metadata": {
    "collapsed": false,
    "ExecuteTime": {
     "end_time": "2024-04-03T01:11:02.276666Z",
     "start_time": "2024-04-03T01:11:02.209441Z"
    },
    "execution": {
     "iopub.status.busy": "2024-04-03T03:50:46.734817Z",
     "iopub.execute_input": "2024-04-03T03:50:46.735213Z",
     "iopub.status.idle": "2024-04-03T03:50:46.779260Z",
     "shell.execute_reply.started": "2024-04-03T03:50:46.735180Z",
     "shell.execute_reply": "2024-04-03T03:50:46.778003Z"
    },
    "trusted": true
   },
   "execution_count": null,
   "outputs": []
  },
  {
   "cell_type": "code",
   "source": [
    "# Support Vector Machine (with Hyperparameter Tuning)\n",
    "svmc = SVC(kernel = 'linear', probability = True) # <--- Initialize SVM\n",
    "svmc.fit(x_train_transformed, y_train) # <--- Fit SVM\n",
    "\n",
    "svmc_parameter_grid = {\n",
    "    \"kernel\": [ 'linear','rbf'],\n",
    "    'gamma': [0.001, 0.01, 0.1, 1, 10],\n",
    "    'C': [0.01, 0.1, 1, 10, 50, 100, 500, 1000, 5000, 10000]\n",
    "} # <--- Generate Parameter Grid\n",
    "\n",
    "svmc_best = GridSearchCV(\n",
    "    svmc, param_grid = svmc_parameter_grid, cv = kfold, \n",
    "    scoring = 'accuracy', n_jobs = -1, verbose = 0\n",
    ") # <--- Hyperparameter Tuning \n",
    "\n",
    "svmc_best.fit(x_train_transformed, y_train) # <--- Fit GridSearchCV\n",
    "# Get the best estimator\n",
    "best_svmc_estimator = svmc_best.best_estimator_\n",
    "\n",
    "svmc_best = svmc_best.best_estimator_ # <--- Assign Best Estimator \n",
    "svmc_best"
   ],
   "metadata": {
    "collapsed": false,
    "execution": {
     "iopub.status.busy": "2024-04-03T03:51:05.842934Z",
     "iopub.execute_input": "2024-04-03T03:51:05.844046Z",
     "iopub.status.idle": "2024-04-03T03:51:10.937022Z",
     "shell.execute_reply.started": "2024-04-03T03:51:05.843995Z",
     "shell.execute_reply": "2024-04-03T03:51:10.935432Z"
    },
    "trusted": true
   },
   "execution_count": null,
   "outputs": []
  },
  {
   "cell_type": "code",
   "source": [
    "y_predict = svmc_best.predict(x_test_transformed) # <--- Predict Target\n",
    "svmc_accuracy = accuracy_score(y_test, y_predict) # <--- Calculate Accuracy\n",
    "\n",
    "y_probs = svmc_best.predict_proba(x_test)\n",
    "y_probs = y_probs[:, 1] # <--- Predict Positives Classes\n",
    "# Convert y_predict to one-hot encoding\n",
    "lb = LabelBinarizer()\n",
    "y_one_hot = lb.fit_transform(y_predict)\n",
    "# Compute ROC AUC score for each class\n",
    "svm_roc_auc_scores = []\n",
    "for i in range(y_one_hot.shape[1]):\n",
    "    roc_auc_scores.append(roc_auc_score(y_one_hot[:, i], y_probs))\n",
    "# Average the ROC AUC scores across all classes\n",
    "svmc_avg_roc_auc = sum(roc_auc_scores) / len(roc_auc_scores)\n",
    "\n",
    "svmc_F1 = f1_score(y_test, y_predict, average = 'weighted') # <--- Weigthed-Average F1 Score\n",
    "\n",
    "print('Accuracy: ', svmc_accuracy)\n",
    "print(\"Average ROC AUC Score:\", svmc_avg_roc_auc)\n",
    "print('Weighted-Average F1 Score: ', svmc_F1)"
   ],
   "metadata": {
    "collapsed": false,
    "ExecuteTime": {
     "end_time": "2024-04-03T01:11:32.164044Z",
     "start_time": "2024-04-03T01:11:32.117256Z"
    },
    "execution": {
     "iopub.status.busy": "2024-04-03T03:51:18.213162Z",
     "iopub.execute_input": "2024-04-03T03:51:18.213585Z",
     "iopub.status.idle": "2024-04-03T03:51:18.243827Z",
     "shell.execute_reply.started": "2024-04-03T03:51:18.213551Z",
     "shell.execute_reply": "2024-04-03T03:51:18.242720Z"
    },
    "trusted": true
   },
   "execution_count": null,
   "outputs": []
  },
  {
   "cell_type": "code",
   "source": [
    "# Extreme Gradiant Boosting (with Hyperparameter Tuning)\n",
    "# Subtract 1 from all class labels in y_train\n",
    "\n",
    "y_train_adjusted = y_train - 1\n",
    "\n",
    "xgb_model = xgb.XGBClassifier(objective = \"multi:softmax\", num_class = 9) # <--- Initialize XGBoost \n",
    "xgb_model.fit(x_train_transformed, y_train_adjusted) # <--- Fit XGBoost\n",
    "y_predict = xgb_model.predict(x_test_transformed) # <--- Predict Target\n",
    "xgb_accuracy = accuracy_score(y_test, y_predict) \n",
    "xgb_accuracy\n",
    "\n",
    "y_predict = xgb_model.predict(x_test_transformed) # <--- Predict Target\n",
    "xgb_accuracy = accuracy_score(y_test, y_predict) # <--- Calculate Accuracy\n",
    "\n",
    "y_probs = xgb_model.predict_proba(x_test_transformed)\n",
    "y_probs = y_probs[:, 1] # <--- Predict Positives Classes\n",
    "\n",
    "# Convert y_predict to one-hot encoding\n",
    "lb = LabelBinarizer()\n",
    "y_one_hot = lb.fit_transform(y_predict)\n",
    "# Compute ROC AUC score for each class\n",
    "svm_roc_auc_scores = []\n",
    "for i in range(y_one_hot.shape[1]):\n",
    "    roc_auc_scores.append(roc_auc_score(y_one_hot[:, i], y_probs))\n",
    "# Average the ROC AUC scores across all classes\n",
    "svmc_avg_roc_auc = sum(roc_auc_scores) / len(roc_auc_scores)\n",
    "\n",
    "#Characteristic Curve\n",
    "xgb_F1 = f1_score(y_test, y_predict, average = 'weighted') # <--- Weigthed-Average F1 Score\n",
    "\n",
    "print('Accuracy: ', xgb_accuracy)\n",
    "print('ROC-AUC: ', svmc_avg_roc_auc)\n",
    "print('Weighted-Average F1 Score: ', xgb_F1)"
   ],
   "metadata": {
    "collapsed": false,
    "ExecuteTime": {
     "end_time": "2024-04-03T01:44:52.654255Z",
     "start_time": "2024-04-03T01:44:47.112268Z"
    },
    "execution": {
     "iopub.status.busy": "2024-04-03T03:51:44.237892Z",
     "iopub.execute_input": "2024-04-03T03:51:44.238270Z",
     "iopub.status.idle": "2024-04-03T03:51:44.527014Z",
     "shell.execute_reply.started": "2024-04-03T03:51:44.238239Z",
     "shell.execute_reply": "2024-04-03T03:51:44.526215Z"
    },
    "trusted": true
   },
   "execution_count": null,
   "outputs": []
  },
  {
   "cell_type": "code",
   "source": [
    "from sklearn.model_selection import GridSearchCV\n",
    "import xgboost as xgb\n",
    "from sklearn.metrics import accuracy_score, f1_score, roc_auc_score\n",
    "from sklearn.preprocessing import LabelBinarizer\n",
    "\n",
    "# Subtract 1 from all class labels in y_train\n",
    "y_train_adjusted = y_train - 1\n",
    "\n",
    "# Define the XGBoost model\n",
    "xgb_model = xgb.XGBClassifier(objective=\"multi:softmax\", num_class=9)\n",
    "\n",
    "# Define the parameters grid for hyperparameter tuning\n",
    "param_grid = {\n",
    "    'max_depth': [3, 6, 9, 12],\n",
    "    'learning_rate': [0.01, 0.1, 0.2, 0,3],\n",
    "    'n_estimators': [100, 200, 500],\n",
    "    'gamma': [0, 0.1, 0.2],\n",
    "    'subsample': [0.6, 0.8, 1.0],\n",
    "    'colsample_bytree': [0.6, 0.8, 1.0],\n",
    "}\n",
    "\n",
    "# Initialize GridSearchCV\n",
    "kfold = KFold(n_splits = 6 , shuffle = True, random_state = random_state) # <--- KFold\n",
    "grid_search = GridSearchCV(estimator=xgb_model, param_grid=param_grid, cv=kfold, scoring='accuracy', n_jobs=-1)\n",
    "\n",
    "# Fit the grid search to the data\n",
    "grid_search.fit(x_train_transformed, y_train_adjusted)"
   ],
   "metadata": {
    "collapsed": false,
    "ExecuteTime": {
     "end_time": "2024-04-03T03:28:26.269893Z",
     "start_time": "2024-04-03T03:25:15.648Z"
    },
    "execution": {
     "iopub.status.busy": "2024-04-03T03:54:32.147812Z",
     "iopub.execute_input": "2024-04-03T03:54:32.148580Z",
     "iopub.status.idle": "2024-04-03T04:02:41.571988Z",
     "shell.execute_reply.started": "2024-04-03T03:54:32.148536Z",
     "shell.execute_reply": "2024-04-03T04:02:41.569683Z"
    },
    "trusted": true
   },
   "execution_count": null,
   "outputs": []
  },
  {
   "cell_type": "code",
   "source": [
    "# Get the best parameters and the best score\n",
    "best_params = grid_search.best_params_\n",
    "best_score = grid_search.best_score_\n",
    "\n",
    "# Use the best model\n",
    "best_model = grid_search.best_estimator_\n",
    "\n",
    "# Predict on the test set\n",
    "y_predict = best_model.predict(x_test_transformed)\n",
    "\n",
    "# Calculate Accuracy\n",
    "xgb_accuracy = accuracy_score(y_test, y_predict)\n",
    "\n",
    "# Predict probabilities\n",
    "y_probs = best_model.predict_proba(x_test_transformed)\n",
    "y_probs = y_probs[:, 1] # Predict Positives Classes\n",
    "\n",
    "# Convert y_predict to one-hot encoding\n",
    "lb = LabelBinarizer()\n",
    "y_one_hot = lb.fit_transform(y_predict)\n",
    "\n",
    "# Compute ROC AUC score for each class\n",
    "roc_auc_scores = []\n",
    "for i in range(y_one_hot.shape[1]):\n",
    "    roc_auc_scores.append(roc_auc_score(y_one_hot[:, i], y_probs))\n",
    "\n",
    "# Average the ROC AUC scores across all classes\n",
    "svmc_avg_roc_auc = sum(roc_auc_scores) / len(roc_auc_scores)\n",
    "\n",
    "# Calculate F1 score\n",
    "xgb_F1 = f1_score(y_test, y_predict, average='weighted')\n",
    "\n",
    "# Print the results\n",
    "print('Best Parameters:', best_params)\n",
    "print('Best Accuracy:', best_score)\n",
    "print('Accuracy:', xgb_accuracy)\n",
    "print('ROC-AUC:', svmc_avg_roc_auc)\n",
    "print('Weighted-Average F1 Score:', xgb_F1)\n"
   ],
   "metadata": {
    "collapsed": false,
    "ExecuteTime": {
     "end_time": "2024-04-03T03:24:15.623957Z",
     "start_time": "2024-04-03T03:24:15.401568Z"
    },
    "execution": {
     "iopub.status.busy": "2024-04-03T04:02:47.305078Z",
     "iopub.execute_input": "2024-04-03T04:02:47.305522Z",
     "iopub.status.idle": "2024-04-03T04:02:47.351960Z",
     "shell.execute_reply.started": "2024-04-03T04:02:47.305483Z",
     "shell.execute_reply": "2024-04-03T04:02:47.350702Z"
    },
    "trusted": true
   },
   "execution_count": null,
   "outputs": []
  },
  {
   "cell_type": "code",
   "source": [
    "# k-Nearest Neighbors (with Hyperparameter Tuning)\n",
    "knn_classifier = sklearn.neighbors.KNeighborsClassifier() # <--- Initialize kNN\n",
    "knn_model = knn_classifier.fit(x_train_transformed, y_train)  # <--- Fit kNN\n",
    "n_samples = len(x_train_transformed) \n",
    "max_neighbors = min(n_samples - 1, 30) \n",
    "leaf_size = list(range(1, 50)) \n",
    "n_neighbors = list(range(1, max_neighbors + 1)) # <--- Parameters from Samples, Standard Use\n",
    "p = [1, 2] # <--- Manhattan, Euclidean Distance Metrics\n",
    "\n",
    "knn_hyperparameters = dict(leaf_size = leaf_size, n_neighbors = n_neighbors, p = p) # <--- Hyperparametrs Dictionary\n",
    "knn_best = GridSearchCV(knn_model, knn_hyperparameters, cv = kfold) # <--- Initialize GridSearchCV\n",
    "knn_best = knn_best.fit(x_train_transformed, y_train) # <--- Fit GridSearchCV\n",
    "knn_best\n",
    "\n",
    "#jupyter notebook --NotebookApp.iopub_data_rate_limit=10000000"
   ],
   "metadata": {
    "collapsed": false,
    "ExecuteTime": {
     "end_time": "2024-04-03T03:29:19.887796Z",
     "start_time": "2024-04-03T03:28:47.520054Z"
    },
    "execution": {
     "iopub.status.busy": "2024-04-03T04:02:51.282560Z",
     "iopub.execute_input": "2024-04-03T04:02:51.283397Z",
     "iopub.status.idle": "2024-04-03T04:05:34.392479Z",
     "shell.execute_reply.started": "2024-04-03T04:02:51.283361Z",
     "shell.execute_reply": "2024-04-03T04:05:34.391367Z"
    },
    "trusted": true
   },
   "execution_count": null,
   "outputs": []
  },
  {
   "cell_type": "code",
   "source": [
    "y_predict = knn_best.predict(x_test_transformed) # <--- Predict Target\n",
    "knn_accuracy = accuracy_score(y_test, y_predict) # <--- Calculate Accuracy\n",
    "\n",
    "y_probs = knn_best.predict_proba(x_test_transformed)\n",
    "y_probs = y_probs[:, 1] # <--- Predict Positives Classes\n",
    "\n",
    "# Convert y_predict to one-hot encoding\n",
    "lb = LabelBinarizer()\n",
    "y_one_hot = lb.fit_transform(y_predict)\n",
    "# Compute ROC AUC score for each class\n",
    "knn_roc_auc_scores = []\n",
    "for i in range(y_one_hot.shape[1]):\n",
    "    knn_roc_auc_scores.append(roc_auc_score(y_one_hot[:, i], y_probs))\n",
    "# Average the ROC AUC scores across all classes\n",
    "knn_avg_roc_auc = sum(knn_roc_auc_scores) / len(roc_auc_scores)\n",
    "\n",
    "\n",
    "knn_F1 = f1_score(y_test, y_predict, average = 'weighted') # <--- Weigthed-Average F1 Score\n",
    "\n",
    "print('Accuracy: ', knn_accuracy)\n",
    "print('ROC-AUC: ', knn_avg_roc_auc)\n",
    "print('Weighted-Average F1 Score: ', knn_F1)"
   ],
   "metadata": {
    "collapsed": false,
    "execution": {
     "iopub.status.busy": "2024-04-03T04:07:12.095465Z",
     "iopub.execute_input": "2024-04-03T04:07:12.095875Z",
     "iopub.status.idle": "2024-04-03T04:07:12.137061Z",
     "shell.execute_reply.started": "2024-04-03T04:07:12.095825Z",
     "shell.execute_reply": "2024-04-03T04:07:12.136246Z"
    },
    "trusted": true
   },
   "execution_count": null,
   "outputs": []
  },
  {
   "cell_type": "code",
   "source": [
    "# Soft Voting Classifier\n",
    "classifiers = [\n",
    "    ('rf', rf_best),\n",
    "    ('svmc', svmc_best),\n",
    "#     ('xgb', xgb_best),\n",
    "    ('knn', knn_best)\n",
    "] # <-- Merge ML/AI Methods\n",
    "\n",
    "hard_voting_classifier = sklearn.ensemble.VotingClassifier(classifiers, voting = 'hard') # <--- Initialize hard Voting\n",
    "hard_voting_classifier.fit(x_train_transformed, y_train) # <--- Fit hard Voting\n",
    "hard_voting_classifier"
   ],
   "metadata": {
    "execution": {
     "iopub.status.busy": "2024-04-03T04:13:03.844841Z",
     "iopub.execute_input": "2024-04-03T04:13:03.845247Z",
     "iopub.status.idle": "2024-04-03T04:15:35.326470Z",
     "shell.execute_reply.started": "2024-04-03T04:13:03.845213Z",
     "shell.execute_reply": "2024-04-03T04:15:35.325331Z"
    },
    "trusted": true
   },
   "execution_count": null,
   "outputs": []
  },
  {
   "cell_type": "code",
   "source": [
    "y_predict = hard_voting_classifier.predict(x_test_transformed) # <--- Predict Target\n",
    "hard_voting_classifier_accuracy = accuracy_score(y_test, y_predict) # <--- Calculate Accuracy\n",
    "hard_voting_classifier_accuracy"
   ],
   "metadata": {
    "execution": {
     "iopub.status.busy": "2024-04-03T04:17:45.673965Z",
     "iopub.execute_input": "2024-04-03T04:17:45.674409Z",
     "iopub.status.idle": "2024-04-03T04:17:45.708194Z",
     "shell.execute_reply.started": "2024-04-03T04:17:45.674372Z",
     "shell.execute_reply": "2024-04-03T04:17:45.707272Z"
    },
    "trusted": true
   },
   "execution_count": null,
   "outputs": []
  },
  {
   "cell_type": "code",
   "source": [
    "# Figure). Exploratory Analysis\n",
    "working_dataset = df.loc[df['AGE'] != 0]\n",
    "working_dataset.loc[:, 'GENDER'] = working_dataset['GENDER'].replace({'M': 1, 'F': 0})\n",
    "working_dataset.head()"
   ],
   "metadata": {
    "execution": {
     "iopub.status.busy": "2024-04-03T04:21:13.184746Z",
     "iopub.execute_input": "2024-04-03T04:21:13.185984Z",
     "iopub.status.idle": "2024-04-03T04:21:13.229100Z",
     "shell.execute_reply.started": "2024-04-03T04:21:13.185935Z",
     "shell.execute_reply": "2024-04-03T04:21:13.228059Z"
    },
    "trusted": true
   },
   "execution_count": null,
   "outputs": []
  },
  {
   "cell_type": "code",
   "source": [
    "# Figure). Confusion Matrix\n",
    "figure_size = (7, 7)\n",
    "figure = plt.figure(figsize = figure_size) # <--- Figure Size\n",
    "\n",
    "cm = confusion_matrix(y_test, y_predict) # <--- Generate Confusion Matrix\n",
    "ax = sns.heatmap(cm.T, square = True, annot = True, fmt = 'd', cbar = False, cmap='Blues')\n",
    "\n",
    "figure_title = 'Confusion Matrix of AML Patient Case/Control Predictions'\n",
    "plt.title(figure_title)  # <--- Figure Title\n",
    "x_label = 'True Class'\n",
    "plt.xlabel(x_label) # <--- Horizontal Axis Title\n",
    "y_label = 'Predicted Class'\n",
    "plt.ylabel(y_label) # <--- Vertical Axis Title\n",
    "\n",
    "print(f'Model Accuracy: {hard_voting_classifier_accuracy}')\n",
    "plt.show() # <--- Display Figure"
   ],
   "metadata": {
    "execution": {
     "iopub.status.busy": "2024-04-03T04:22:55.123171Z",
     "iopub.execute_input": "2024-04-03T04:22:55.123653Z",
     "iopub.status.idle": "2024-04-03T04:22:55.543788Z",
     "shell.execute_reply.started": "2024-04-03T04:22:55.123618Z",
     "shell.execute_reply": "2024-04-03T04:22:55.542617Z"
    },
    "trusted": true
   },
   "execution_count": null,
   "outputs": []
  },
  {
   "cell_type": "code",
   "source": [
    "# Figure). Algorithm Accuracies\n",
    "\n",
    "def plot_algorithm_accuracies(accuracies, algorithm_names, title = 'Algorithm Prediction Accuracies'):\n",
    "    plt.figure(figsize=(10, 6))\n",
    "    plt.barh(algorithm_names, accuracies, align = 'center')\n",
    "    plt.xlabel('Accuracy')\n",
    "    plt.xlim(0, 1)\n",
    "    plt.title(title)\n",
    "    plt.show()\n",
    "\n",
    "accuracies = [knn_accuracy, \n",
    "#               xgb_accuracy, \n",
    "              svmc_accuracy, \n",
    "              rf_accuracy] # <--- Accuracy Variables\n",
    "algorithms = ['k-Nearest Neighbors', 'SVM', \n",
    "#               'XGBoost', \n",
    "              'Random Forest'] # <--- Algorithms \n",
    "\n",
    "plot_algorithm_accuracies(accuracies, algorithms) # <--- Display Figure"
   ],
   "metadata": {
    "execution": {
     "iopub.status.busy": "2024-04-03T04:23:40.237786Z",
     "iopub.execute_input": "2024-04-03T04:23:40.238845Z",
     "iopub.status.idle": "2024-04-03T04:23:40.483307Z",
     "shell.execute_reply.started": "2024-04-03T04:23:40.238808Z",
     "shell.execute_reply": "2024-04-03T04:23:40.482063Z"
    },
    "trusted": true
   },
   "execution_count": null,
   "outputs": []
  },
  {
   "cell_type": "code",
   "source": [
    "import pandas as pd\n",
    "import numpy as np\n",
    "from sklearn.model_selection import train_test_split\n",
    "from sklearn.preprocessing import StandardScaler, LabelEncoder\n",
    "from sklearn.compose import ColumnTransformer\n",
    "from tensorflow.keras.models import Sequential\n",
    "from tensorflow.keras.layers import Conv1D, MaxPooling1D, Flatten, Dense\n",
    "from tensorflow.keras.optimizers import Adam\n",
    "\n",
    "# Load the data\n",
    "data = working_dataset\n",
    "\n",
    "# Preprocessing\n",
    "X = data.drop(columns=['ID_REF', 'AGE', 'SUBTYPES', 'GENDER'])\n",
    "y = data[['AGE', 'SUBTYPES', 'GENDER']]\n",
    "\n",
    "# Scale the features\n",
    "scaler = StandardScaler()\n",
    "X_scaled = scaler.fit_transform(X)\n",
    "\n",
    "# Encode categorical variables\n",
    "encoder = LabelEncoder()\n",
    "y['SUBTYPES'] = encoder.fit_transform(y['SUBTYPES'])\n",
    "\n",
    "# Train-test split\n",
    "X_train, X_test, y_train, y_test = train_test_split(X_scaled, y, test_size=0.2, random_state=42)\n",
    "\n",
    "# Reshape input data for CNN\n",
    "X_train = X_train.reshape(X_train.shape[0], X_train.shape[1], 1)\n",
    "X_test = X_test.reshape(X_test.shape[0], X_test.shape[1], 1)\n",
    "\n",
    "\n",
    "# Modify the model's output layer to have three neurons\n",
    "model = Sequential([\n",
    "    Conv1D(filters=32, kernel_size=3, activation='relu', input_shape=(X_train.shape[1], 1)),\n",
    "    MaxPooling1D(pool_size=2),\n",
    "    Conv1D(filters=64, kernel_size=3, activation='relu'),\n",
    "    MaxPooling1D(pool_size=2),\n",
    "    Flatten(),\n",
    "    Dense(128, activation='relu'),\n",
    "    Dense(3, activation='linear')  # Use 'linear' activation for multi-output regression\n",
    "])\n",
    "\n",
    "# Compile the model with appropriate loss and metrics\n",
    "model.compile(optimizer=Adam(), loss='mean_squared_error', metrics=['mae'])  # Use mean squared error for regression\n",
    "\n",
    "# Train the model\n",
    "model.fit(X_train, y_train, epochs=10, batch_size=32, validation_split=0.1)\n",
    "\n",
    "\n"
   ],
   "metadata": {
    "execution": {
     "iopub.status.busy": "2024-04-03T04:31:33.500733Z",
     "iopub.execute_input": "2024-04-03T04:31:33.501214Z",
     "iopub.status.idle": "2024-04-03T04:32:23.604903Z",
     "shell.execute_reply.started": "2024-04-03T04:31:33.501178Z",
     "shell.execute_reply": "2024-04-03T04:32:23.604096Z"
    },
    "trusted": true
   },
   "execution_count": null,
   "outputs": []
  },
  {
   "cell_type": "code",
   "source": [
    "# Evaluate the model\n",
    "loss, mae = model.evaluate(X_test, y_test)\n",
    "print(\"Test MAE:\", mae)"
   ],
   "metadata": {
    "execution": {
     "iopub.status.busy": "2024-04-03T04:35:11.816968Z",
     "iopub.execute_input": "2024-04-03T04:35:11.817464Z",
     "iopub.status.idle": "2024-04-03T04:35:12.078181Z",
     "shell.execute_reply.started": "2024-04-03T04:35:11.817428Z",
     "shell.execute_reply": "2024-04-03T04:35:12.077023Z"
    },
    "trusted": true
   },
   "execution_count": null,
   "outputs": []
  },
  {
   "cell_type": "code",
   "source": [
    "from tensorflow.keras.models import Sequential\n",
    "from tensorflow.keras.layers import LSTM, Dense\n",
    "from tensorflow.keras.optimizers import Adam\n",
    "\n",
    "# Define LSTM model\n",
    "lstm_model = Sequential([\n",
    "    LSTM(64, activation='relu', input_shape=(X_train.shape[1], X_train.shape[2])),\n",
    "    Dense(32, activation='relu'),\n",
    "    Dense(3, activation='linear')  # Output layer with 3 neurons for AGE, SUBTYPES, and GENDER\n",
    "])\n",
    "\n",
    "# Compile the model\n",
    "lstm_model.compile(optimizer=Adam(), loss='mean_squared_error', metrics=['mae'])\n",
    "\n",
    "# Train the model\n",
    "lstm_model.fit(X_train, y_train, epochs=3, batch_size=32, validation_split=0.1)\n",
    "\n",
    "# Evaluate the model\n",
    "loss, mae = lstm_model.evaluate(X_test, y_test)\n",
    "print(\"Test MAE for LSTM:\", mae)"
   ],
   "metadata": {
    "execution": {
     "iopub.status.busy": "2024-04-03T04:39:37.187680Z",
     "iopub.execute_input": "2024-04-03T04:39:37.188142Z",
     "iopub.status.idle": "2024-04-03T04:41:33.422626Z",
     "shell.execute_reply.started": "2024-04-03T04:39:37.188106Z",
     "shell.execute_reply": "2024-04-03T04:41:33.421206Z"
    },
    "trusted": true
   },
   "execution_count": null,
   "outputs": []
  },
  {
   "cell_type": "code",
   "source": [],
   "metadata": {},
   "execution_count": null,
   "outputs": []
  }
 ]
}
