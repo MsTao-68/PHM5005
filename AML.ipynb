{
 "cells": [
  {
   "cell_type": "code",
   "execution_count": 1,
   "id": "initial_id",
   "metadata": {
    "collapsed": true,
    "ExecuteTime": {
     "end_time": "2024-04-02T09:31:12.333572Z",
     "start_time": "2024-04-02T09:31:11.234982Z"
    }
   },
   "outputs": [
    {
     "data": {
      "text/plain": "       ID_REF  1007_s_at   1053_at     117_at    121_at  1255_g_at    1294_at  \\\n0  GSM1682614   492.5000   988.500  1677.0000  2856.200  197.50000   3948.200   \n1  GSM1682615   992.2914  1671.248   312.9964  1514.233   68.79980   6455.948   \n2  GSM1682616   639.9207  2475.515   369.9277  2167.405   93.66864  10215.440   \n3  GSM1682617  1586.2420  1669.516   395.1871  1687.894  137.29080   4501.796   \n4  GSM1682618   673.6545  2246.731   857.8096  1973.064   83.86870   5533.674   \n\n    1316_at    1320_at  1405_i_at  ...  206927_s_at  206928_at  206929_s_at  \\\n0  749.4000  216.50000   1561.100  ...    136.00000   3003.800     489.8000   \n1  585.3797   33.89514   1053.610  ...    190.01090   4108.014    1030.2210   \n2  682.4297   50.10245   6135.089  ...    330.32360   5128.173    1402.8630   \n3  403.4219   18.10369  19350.590  ...    367.85490   5427.443     807.0797   \n4  530.7810   32.94907  12308.010  ...     18.18558   2551.292    1081.4950   \n\n   206930_at  206931_at  206932_at  206933_s_at  206934_at  206935_at  \\\n0  379.60000   945.8000  102.70000     95.00000  1124.5000   91.40000   \n1  109.02470   767.2295   11.72884    173.57690   169.2777    5.28214   \n2  195.03890   331.0485  101.89820    207.26920   245.7526   46.15807   \n3   73.01001   926.1743  230.80090    119.15180   195.9008   13.60067   \n4  219.95090   371.7992  177.03040     21.19365  1220.5080  192.27200   \n\n   206936_x_at  \n0     2573.400  \n1     1985.431  \n2     3002.954  \n3     2641.230  \n4     1311.488  \n\n[5 rows x 16384 columns]",
      "text/html": "<div>\n<style scoped>\n    .dataframe tbody tr th:only-of-type {\n        vertical-align: middle;\n    }\n\n    .dataframe tbody tr th {\n        vertical-align: top;\n    }\n\n    .dataframe thead th {\n        text-align: right;\n    }\n</style>\n<table border=\"1\" class=\"dataframe\">\n  <thead>\n    <tr style=\"text-align: right;\">\n      <th></th>\n      <th>ID_REF</th>\n      <th>1007_s_at</th>\n      <th>1053_at</th>\n      <th>117_at</th>\n      <th>121_at</th>\n      <th>1255_g_at</th>\n      <th>1294_at</th>\n      <th>1316_at</th>\n      <th>1320_at</th>\n      <th>1405_i_at</th>\n      <th>...</th>\n      <th>206927_s_at</th>\n      <th>206928_at</th>\n      <th>206929_s_at</th>\n      <th>206930_at</th>\n      <th>206931_at</th>\n      <th>206932_at</th>\n      <th>206933_s_at</th>\n      <th>206934_at</th>\n      <th>206935_at</th>\n      <th>206936_x_at</th>\n    </tr>\n  </thead>\n  <tbody>\n    <tr>\n      <th>0</th>\n      <td>GSM1682614</td>\n      <td>492.5000</td>\n      <td>988.500</td>\n      <td>1677.0000</td>\n      <td>2856.200</td>\n      <td>197.50000</td>\n      <td>3948.200</td>\n      <td>749.4000</td>\n      <td>216.50000</td>\n      <td>1561.100</td>\n      <td>...</td>\n      <td>136.00000</td>\n      <td>3003.800</td>\n      <td>489.8000</td>\n      <td>379.60000</td>\n      <td>945.8000</td>\n      <td>102.70000</td>\n      <td>95.00000</td>\n      <td>1124.5000</td>\n      <td>91.40000</td>\n      <td>2573.400</td>\n    </tr>\n    <tr>\n      <th>1</th>\n      <td>GSM1682615</td>\n      <td>992.2914</td>\n      <td>1671.248</td>\n      <td>312.9964</td>\n      <td>1514.233</td>\n      <td>68.79980</td>\n      <td>6455.948</td>\n      <td>585.3797</td>\n      <td>33.89514</td>\n      <td>1053.610</td>\n      <td>...</td>\n      <td>190.01090</td>\n      <td>4108.014</td>\n      <td>1030.2210</td>\n      <td>109.02470</td>\n      <td>767.2295</td>\n      <td>11.72884</td>\n      <td>173.57690</td>\n      <td>169.2777</td>\n      <td>5.28214</td>\n      <td>1985.431</td>\n    </tr>\n    <tr>\n      <th>2</th>\n      <td>GSM1682616</td>\n      <td>639.9207</td>\n      <td>2475.515</td>\n      <td>369.9277</td>\n      <td>2167.405</td>\n      <td>93.66864</td>\n      <td>10215.440</td>\n      <td>682.4297</td>\n      <td>50.10245</td>\n      <td>6135.089</td>\n      <td>...</td>\n      <td>330.32360</td>\n      <td>5128.173</td>\n      <td>1402.8630</td>\n      <td>195.03890</td>\n      <td>331.0485</td>\n      <td>101.89820</td>\n      <td>207.26920</td>\n      <td>245.7526</td>\n      <td>46.15807</td>\n      <td>3002.954</td>\n    </tr>\n    <tr>\n      <th>3</th>\n      <td>GSM1682617</td>\n      <td>1586.2420</td>\n      <td>1669.516</td>\n      <td>395.1871</td>\n      <td>1687.894</td>\n      <td>137.29080</td>\n      <td>4501.796</td>\n      <td>403.4219</td>\n      <td>18.10369</td>\n      <td>19350.590</td>\n      <td>...</td>\n      <td>367.85490</td>\n      <td>5427.443</td>\n      <td>807.0797</td>\n      <td>73.01001</td>\n      <td>926.1743</td>\n      <td>230.80090</td>\n      <td>119.15180</td>\n      <td>195.9008</td>\n      <td>13.60067</td>\n      <td>2641.230</td>\n    </tr>\n    <tr>\n      <th>4</th>\n      <td>GSM1682618</td>\n      <td>673.6545</td>\n      <td>2246.731</td>\n      <td>857.8096</td>\n      <td>1973.064</td>\n      <td>83.86870</td>\n      <td>5533.674</td>\n      <td>530.7810</td>\n      <td>32.94907</td>\n      <td>12308.010</td>\n      <td>...</td>\n      <td>18.18558</td>\n      <td>2551.292</td>\n      <td>1081.4950</td>\n      <td>219.95090</td>\n      <td>371.7992</td>\n      <td>177.03040</td>\n      <td>21.19365</td>\n      <td>1220.5080</td>\n      <td>192.27200</td>\n      <td>1311.488</td>\n    </tr>\n  </tbody>\n</table>\n<p>5 rows × 16384 columns</p>\n</div>"
     },
     "execution_count": 1,
     "metadata": {},
     "output_type": "execute_result"
    }
   ],
   "source": [
    "import pandas as pd\n",
    "gene = pd.read_csv(\"/Users/TracyTao/Desktop/Singapore/NUS/PHM5005/ML/PHM5005/gene.csv\")\n",
    "gene.head()"
   ]
  },
  {
   "cell_type": "code",
   "execution_count": 10,
   "outputs": [
    {
     "data": {
      "text/plain": "(183, 16384)"
     },
     "execution_count": 10,
     "metadata": {},
     "output_type": "execute_result"
    }
   ],
   "source": [
    "gene.head()\n",
    "gene.shape"
   ],
   "metadata": {
    "collapsed": false,
    "ExecuteTime": {
     "end_time": "2024-04-02T09:38:31.173108Z",
     "start_time": "2024-04-02T09:38:31.163119Z"
    }
   },
   "id": "15f5024bb8c965d4"
  },
  {
   "cell_type": "code",
   "execution_count": 4,
   "outputs": [
    {
     "data": {
      "text/plain": "       ID_REF  AGE SUBTYPES GENDER\n0  GSM1682614   56       M1      M\n1  GSM1682615   43       M1      F\n2  GSM1682616   45       M2      F\n3  GSM1682617   70       M1      F\n4  GSM1682618   62       M5      M",
      "text/html": "<div>\n<style scoped>\n    .dataframe tbody tr th:only-of-type {\n        vertical-align: middle;\n    }\n\n    .dataframe tbody tr th {\n        vertical-align: top;\n    }\n\n    .dataframe thead th {\n        text-align: right;\n    }\n</style>\n<table border=\"1\" class=\"dataframe\">\n  <thead>\n    <tr style=\"text-align: right;\">\n      <th></th>\n      <th>ID_REF</th>\n      <th>AGE</th>\n      <th>SUBTYPES</th>\n      <th>GENDER</th>\n    </tr>\n  </thead>\n  <tbody>\n    <tr>\n      <th>0</th>\n      <td>GSM1682614</td>\n      <td>56</td>\n      <td>M1</td>\n      <td>M</td>\n    </tr>\n    <tr>\n      <th>1</th>\n      <td>GSM1682615</td>\n      <td>43</td>\n      <td>M1</td>\n      <td>F</td>\n    </tr>\n    <tr>\n      <th>2</th>\n      <td>GSM1682616</td>\n      <td>45</td>\n      <td>M2</td>\n      <td>F</td>\n    </tr>\n    <tr>\n      <th>3</th>\n      <td>GSM1682617</td>\n      <td>70</td>\n      <td>M1</td>\n      <td>F</td>\n    </tr>\n    <tr>\n      <th>4</th>\n      <td>GSM1682618</td>\n      <td>62</td>\n      <td>M5</td>\n      <td>M</td>\n    </tr>\n  </tbody>\n</table>\n</div>"
     },
     "execution_count": 4,
     "metadata": {},
     "output_type": "execute_result"
    }
   ],
   "source": [
    "chort = pd.read_csv(\"/Users/TracyTao/Desktop/Singapore/NUS/PHM5005/ML/PHM5005/Chort.csv\")\n",
    "chort.head()"
   ],
   "metadata": {
    "collapsed": false,
    "ExecuteTime": {
     "end_time": "2024-04-02T09:33:39.344979Z",
     "start_time": "2024-04-02T09:33:39.319590Z"
    }
   },
   "id": "7b05b231ba8ae335"
  },
  {
   "cell_type": "code",
   "execution_count": 9,
   "outputs": [
    {
     "data": {
      "text/plain": "(183, 16387)"
     },
     "execution_count": 9,
     "metadata": {},
     "output_type": "execute_result"
    }
   ],
   "source": [
    "df = pd.merge(gene, chort, on='ID_REF', how='outer')\n",
    "df.shape"
   ],
   "metadata": {
    "collapsed": false,
    "ExecuteTime": {
     "end_time": "2024-04-02T09:38:21.248876Z",
     "start_time": "2024-04-02T09:38:21.205990Z"
    }
   },
   "id": "22d4fb0a4bce5cd7"
  },
  {
   "cell_type": "code",
   "execution_count": 13,
   "outputs": [
    {
     "data": {
      "text/plain": "       ID_REF  1007_s_at   1053_at     117_at    121_at  1255_g_at    1294_at  \\\n0  GSM1682614   492.5000   988.500  1677.0000  2856.200  197.50000   3948.200   \n1  GSM1682615   992.2914  1671.248   312.9964  1514.233   68.79980   6455.948   \n2  GSM1682616   639.9207  2475.515   369.9277  2167.405   93.66864  10215.440   \n3  GSM1682617  1586.2420  1669.516   395.1871  1687.894  137.29080   4501.796   \n4  GSM1682618   673.6545  2246.731   857.8096  1973.064   83.86870   5533.674   \n\n    1316_at    1320_at  1405_i_at  ...  206930_at  206931_at  206932_at  \\\n0  749.4000  216.50000   1561.100  ...  379.60000   945.8000  102.70000   \n1  585.3797   33.89514   1053.610  ...  109.02470   767.2295   11.72884   \n2  682.4297   50.10245   6135.089  ...  195.03890   331.0485  101.89820   \n3  403.4219   18.10369  19350.590  ...   73.01001   926.1743  230.80090   \n4  530.7810   32.94907  12308.010  ...  219.95090   371.7992  177.03040   \n\n   206933_s_at  206934_at  206935_at  206936_x_at  AGE  SUBTYPES  GENDER  \n0     95.00000  1124.5000   91.40000     2573.400   56        M1       1  \n1    173.57690   169.2777    5.28214     1985.431   43        M1       0  \n2    207.26920   245.7526   46.15807     3002.954   45        M2       0  \n3    119.15180   195.9008   13.60067     2641.230   70        M1       0  \n4     21.19365  1220.5080  192.27200     1311.488   62        M5       1  \n\n[5 rows x 16387 columns]",
      "text/html": "<div>\n<style scoped>\n    .dataframe tbody tr th:only-of-type {\n        vertical-align: middle;\n    }\n\n    .dataframe tbody tr th {\n        vertical-align: top;\n    }\n\n    .dataframe thead th {\n        text-align: right;\n    }\n</style>\n<table border=\"1\" class=\"dataframe\">\n  <thead>\n    <tr style=\"text-align: right;\">\n      <th></th>\n      <th>ID_REF</th>\n      <th>1007_s_at</th>\n      <th>1053_at</th>\n      <th>117_at</th>\n      <th>121_at</th>\n      <th>1255_g_at</th>\n      <th>1294_at</th>\n      <th>1316_at</th>\n      <th>1320_at</th>\n      <th>1405_i_at</th>\n      <th>...</th>\n      <th>206930_at</th>\n      <th>206931_at</th>\n      <th>206932_at</th>\n      <th>206933_s_at</th>\n      <th>206934_at</th>\n      <th>206935_at</th>\n      <th>206936_x_at</th>\n      <th>AGE</th>\n      <th>SUBTYPES</th>\n      <th>GENDER</th>\n    </tr>\n  </thead>\n  <tbody>\n    <tr>\n      <th>0</th>\n      <td>GSM1682614</td>\n      <td>492.5000</td>\n      <td>988.500</td>\n      <td>1677.0000</td>\n      <td>2856.200</td>\n      <td>197.50000</td>\n      <td>3948.200</td>\n      <td>749.4000</td>\n      <td>216.50000</td>\n      <td>1561.100</td>\n      <td>...</td>\n      <td>379.60000</td>\n      <td>945.8000</td>\n      <td>102.70000</td>\n      <td>95.00000</td>\n      <td>1124.5000</td>\n      <td>91.40000</td>\n      <td>2573.400</td>\n      <td>56</td>\n      <td>M1</td>\n      <td>1</td>\n    </tr>\n    <tr>\n      <th>1</th>\n      <td>GSM1682615</td>\n      <td>992.2914</td>\n      <td>1671.248</td>\n      <td>312.9964</td>\n      <td>1514.233</td>\n      <td>68.79980</td>\n      <td>6455.948</td>\n      <td>585.3797</td>\n      <td>33.89514</td>\n      <td>1053.610</td>\n      <td>...</td>\n      <td>109.02470</td>\n      <td>767.2295</td>\n      <td>11.72884</td>\n      <td>173.57690</td>\n      <td>169.2777</td>\n      <td>5.28214</td>\n      <td>1985.431</td>\n      <td>43</td>\n      <td>M1</td>\n      <td>0</td>\n    </tr>\n    <tr>\n      <th>2</th>\n      <td>GSM1682616</td>\n      <td>639.9207</td>\n      <td>2475.515</td>\n      <td>369.9277</td>\n      <td>2167.405</td>\n      <td>93.66864</td>\n      <td>10215.440</td>\n      <td>682.4297</td>\n      <td>50.10245</td>\n      <td>6135.089</td>\n      <td>...</td>\n      <td>195.03890</td>\n      <td>331.0485</td>\n      <td>101.89820</td>\n      <td>207.26920</td>\n      <td>245.7526</td>\n      <td>46.15807</td>\n      <td>3002.954</td>\n      <td>45</td>\n      <td>M2</td>\n      <td>0</td>\n    </tr>\n    <tr>\n      <th>3</th>\n      <td>GSM1682617</td>\n      <td>1586.2420</td>\n      <td>1669.516</td>\n      <td>395.1871</td>\n      <td>1687.894</td>\n      <td>137.29080</td>\n      <td>4501.796</td>\n      <td>403.4219</td>\n      <td>18.10369</td>\n      <td>19350.590</td>\n      <td>...</td>\n      <td>73.01001</td>\n      <td>926.1743</td>\n      <td>230.80090</td>\n      <td>119.15180</td>\n      <td>195.9008</td>\n      <td>13.60067</td>\n      <td>2641.230</td>\n      <td>70</td>\n      <td>M1</td>\n      <td>0</td>\n    </tr>\n    <tr>\n      <th>4</th>\n      <td>GSM1682618</td>\n      <td>673.6545</td>\n      <td>2246.731</td>\n      <td>857.8096</td>\n      <td>1973.064</td>\n      <td>83.86870</td>\n      <td>5533.674</td>\n      <td>530.7810</td>\n      <td>32.94907</td>\n      <td>12308.010</td>\n      <td>...</td>\n      <td>219.95090</td>\n      <td>371.7992</td>\n      <td>177.03040</td>\n      <td>21.19365</td>\n      <td>1220.5080</td>\n      <td>192.27200</td>\n      <td>1311.488</td>\n      <td>62</td>\n      <td>M5</td>\n      <td>1</td>\n    </tr>\n  </tbody>\n</table>\n<p>5 rows × 16387 columns</p>\n</div>"
     },
     "execution_count": 13,
     "metadata": {},
     "output_type": "execute_result"
    }
   ],
   "source": [
    "from sklearn.preprocessing import LabelEncoder\n",
    "label_encoder = LabelEncoder()\n",
    "df['GENDER'] = label_encoder.fit_transform(df['GENDER'])\n",
    "df.head()"
   ],
   "metadata": {
    "collapsed": false,
    "ExecuteTime": {
     "end_time": "2024-04-02T09:41:34.872896Z",
     "start_time": "2024-04-02T09:41:34.821191Z"
    }
   },
   "id": "91571acf33d8f3ac"
  },
  {
   "cell_type": "code",
   "execution_count": 15,
   "outputs": [
    {
     "data": {
      "text/plain": "       ID_REF  1007_s_at   1053_at     117_at    121_at  1255_g_at    1294_at  \\\n0  GSM1682614   492.5000   988.500  1677.0000  2856.200  197.50000   3948.200   \n1  GSM1682615   992.2914  1671.248   312.9964  1514.233   68.79980   6455.948   \n2  GSM1682616   639.9207  2475.515   369.9277  2167.405   93.66864  10215.440   \n3  GSM1682617  1586.2420  1669.516   395.1871  1687.894  137.29080   4501.796   \n4  GSM1682618   673.6545  2246.731   857.8096  1973.064   83.86870   5533.674   \n\n    1316_at    1320_at  1405_i_at  ...  206930_at  206931_at  206932_at  \\\n0  749.4000  216.50000   1561.100  ...  379.60000   945.8000  102.70000   \n1  585.3797   33.89514   1053.610  ...  109.02470   767.2295   11.72884   \n2  682.4297   50.10245   6135.089  ...  195.03890   331.0485  101.89820   \n3  403.4219   18.10369  19350.590  ...   73.01001   926.1743  230.80090   \n4  530.7810   32.94907  12308.010  ...  219.95090   371.7992  177.03040   \n\n   206933_s_at  206934_at  206935_at  206936_x_at  AGE  SUBTYPES  GENDER  \n0     95.00000  1124.5000   91.40000     2573.400   56         2       1  \n1    173.57690   169.2777    5.28214     1985.431   43         2       0  \n2    207.26920   245.7526   46.15807     3002.954   45         3       0  \n3    119.15180   195.9008   13.60067     2641.230   70         2       0  \n4     21.19365  1220.5080  192.27200     1311.488   62         6       1  \n\n[5 rows x 16387 columns]",
      "text/html": "<div>\n<style scoped>\n    .dataframe tbody tr th:only-of-type {\n        vertical-align: middle;\n    }\n\n    .dataframe tbody tr th {\n        vertical-align: top;\n    }\n\n    .dataframe thead th {\n        text-align: right;\n    }\n</style>\n<table border=\"1\" class=\"dataframe\">\n  <thead>\n    <tr style=\"text-align: right;\">\n      <th></th>\n      <th>ID_REF</th>\n      <th>1007_s_at</th>\n      <th>1053_at</th>\n      <th>117_at</th>\n      <th>121_at</th>\n      <th>1255_g_at</th>\n      <th>1294_at</th>\n      <th>1316_at</th>\n      <th>1320_at</th>\n      <th>1405_i_at</th>\n      <th>...</th>\n      <th>206930_at</th>\n      <th>206931_at</th>\n      <th>206932_at</th>\n      <th>206933_s_at</th>\n      <th>206934_at</th>\n      <th>206935_at</th>\n      <th>206936_x_at</th>\n      <th>AGE</th>\n      <th>SUBTYPES</th>\n      <th>GENDER</th>\n    </tr>\n  </thead>\n  <tbody>\n    <tr>\n      <th>0</th>\n      <td>GSM1682614</td>\n      <td>492.5000</td>\n      <td>988.500</td>\n      <td>1677.0000</td>\n      <td>2856.200</td>\n      <td>197.50000</td>\n      <td>3948.200</td>\n      <td>749.4000</td>\n      <td>216.50000</td>\n      <td>1561.100</td>\n      <td>...</td>\n      <td>379.60000</td>\n      <td>945.8000</td>\n      <td>102.70000</td>\n      <td>95.00000</td>\n      <td>1124.5000</td>\n      <td>91.40000</td>\n      <td>2573.400</td>\n      <td>56</td>\n      <td>2</td>\n      <td>1</td>\n    </tr>\n    <tr>\n      <th>1</th>\n      <td>GSM1682615</td>\n      <td>992.2914</td>\n      <td>1671.248</td>\n      <td>312.9964</td>\n      <td>1514.233</td>\n      <td>68.79980</td>\n      <td>6455.948</td>\n      <td>585.3797</td>\n      <td>33.89514</td>\n      <td>1053.610</td>\n      <td>...</td>\n      <td>109.02470</td>\n      <td>767.2295</td>\n      <td>11.72884</td>\n      <td>173.57690</td>\n      <td>169.2777</td>\n      <td>5.28214</td>\n      <td>1985.431</td>\n      <td>43</td>\n      <td>2</td>\n      <td>0</td>\n    </tr>\n    <tr>\n      <th>2</th>\n      <td>GSM1682616</td>\n      <td>639.9207</td>\n      <td>2475.515</td>\n      <td>369.9277</td>\n      <td>2167.405</td>\n      <td>93.66864</td>\n      <td>10215.440</td>\n      <td>682.4297</td>\n      <td>50.10245</td>\n      <td>6135.089</td>\n      <td>...</td>\n      <td>195.03890</td>\n      <td>331.0485</td>\n      <td>101.89820</td>\n      <td>207.26920</td>\n      <td>245.7526</td>\n      <td>46.15807</td>\n      <td>3002.954</td>\n      <td>45</td>\n      <td>3</td>\n      <td>0</td>\n    </tr>\n    <tr>\n      <th>3</th>\n      <td>GSM1682617</td>\n      <td>1586.2420</td>\n      <td>1669.516</td>\n      <td>395.1871</td>\n      <td>1687.894</td>\n      <td>137.29080</td>\n      <td>4501.796</td>\n      <td>403.4219</td>\n      <td>18.10369</td>\n      <td>19350.590</td>\n      <td>...</td>\n      <td>73.01001</td>\n      <td>926.1743</td>\n      <td>230.80090</td>\n      <td>119.15180</td>\n      <td>195.9008</td>\n      <td>13.60067</td>\n      <td>2641.230</td>\n      <td>70</td>\n      <td>2</td>\n      <td>0</td>\n    </tr>\n    <tr>\n      <th>4</th>\n      <td>GSM1682618</td>\n      <td>673.6545</td>\n      <td>2246.731</td>\n      <td>857.8096</td>\n      <td>1973.064</td>\n      <td>83.86870</td>\n      <td>5533.674</td>\n      <td>530.7810</td>\n      <td>32.94907</td>\n      <td>12308.010</td>\n      <td>...</td>\n      <td>219.95090</td>\n      <td>371.7992</td>\n      <td>177.03040</td>\n      <td>21.19365</td>\n      <td>1220.5080</td>\n      <td>192.27200</td>\n      <td>1311.488</td>\n      <td>62</td>\n      <td>6</td>\n      <td>1</td>\n    </tr>\n  </tbody>\n</table>\n<p>5 rows × 16387 columns</p>\n</div>"
     },
     "execution_count": 15,
     "metadata": {},
     "output_type": "execute_result"
    }
   ],
   "source": [
    "df['SUBTYPES'] = label_encoder.fit_transform(df['SUBTYPES'])\n",
    "df.head()"
   ],
   "metadata": {
    "collapsed": false,
    "ExecuteTime": {
     "end_time": "2024-04-02T09:43:51.391560Z",
     "start_time": "2024-04-02T09:43:51.369017Z"
    }
   },
   "id": "778c524d0e92fb71"
  },
  {
   "cell_type": "code",
   "execution_count": 16,
   "outputs": [],
   "source": [
    "df.to_csv(\"/Users/TracyTao/Desktop/Singapore/NUS/PHM5005/ML/PHM5005/AML.csv\", index=True)"
   ],
   "metadata": {
    "collapsed": false,
    "ExecuteTime": {
     "end_time": "2024-04-02T09:44:29.031706Z",
     "start_time": "2024-04-02T09:44:26.576035Z"
    }
   },
   "id": "7abdf59de59dd402"
  },
  {
   "cell_type": "code",
   "execution_count": null,
   "outputs": [],
   "source": [],
   "metadata": {
    "collapsed": false
   },
   "id": "cfa36aca7da1cfb0"
  }
 ],
 "metadata": {
  "kernelspec": {
   "display_name": "Python 3",
   "language": "python",
   "name": "python3"
  },
  "language_info": {
   "codemirror_mode": {
    "name": "ipython",
    "version": 2
   },
   "file_extension": ".py",
   "mimetype": "text/x-python",
   "name": "python",
   "nbconvert_exporter": "python",
   "pygments_lexer": "ipython2",
   "version": "2.7.6"
  }
 },
 "nbformat": 4,
 "nbformat_minor": 5
}
