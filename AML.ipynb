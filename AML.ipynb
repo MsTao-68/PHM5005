{
 "cells": [
  {
   "cell_type": "code",
   "execution_count": 1,
   "id": "initial_id",
   "metadata": {
    "collapsed": true,
    "ExecuteTime": {
     "end_time": "2024-04-02T09:31:12.333572Z",
     "start_time": "2024-04-02T09:31:11.234982Z"
    }
   },
   "outputs": [
    {
     "data": {
      "text/plain": "       ID_REF  1007_s_at   1053_at     117_at    121_at  1255_g_at    1294_at  \\\n0  GSM1682614   492.5000   988.500  1677.0000  2856.200  197.50000   3948.200   \n1  GSM1682615   992.2914  1671.248   312.9964  1514.233   68.79980   6455.948   \n2  GSM1682616   639.9207  2475.515   369.9277  2167.405   93.66864  10215.440   \n3  GSM1682617  1586.2420  1669.516   395.1871  1687.894  137.29080   4501.796   \n4  GSM1682618   673.6545  2246.731   857.8096  1973.064   83.86870   5533.674   \n\n    1316_at    1320_at  1405_i_at  ...  206927_s_at  206928_at  206929_s_at  \\\n0  749.4000  216.50000   1561.100  ...    136.00000   3003.800     489.8000   \n1  585.3797   33.89514   1053.610  ...    190.01090   4108.014    1030.2210   \n2  682.4297   50.10245   6135.089  ...    330.32360   5128.173    1402.8630   \n3  403.4219   18.10369  19350.590  ...    367.85490   5427.443     807.0797   \n4  530.7810   32.94907  12308.010  ...     18.18558   2551.292    1081.4950   \n\n   206930_at  206931_at  206932_at  206933_s_at  206934_at  206935_at  \\\n0  379.60000   945.8000  102.70000     95.00000  1124.5000   91.40000   \n1  109.02470   767.2295   11.72884    173.57690   169.2777    5.28214   \n2  195.03890   331.0485  101.89820    207.26920   245.7526   46.15807   \n3   73.01001   926.1743  230.80090    119.15180   195.9008   13.60067   \n4  219.95090   371.7992  177.03040     21.19365  1220.5080  192.27200   \n\n   206936_x_at  \n0     2573.400  \n1     1985.431  \n2     3002.954  \n3     2641.230  \n4     1311.488  \n\n[5 rows x 16384 columns]",
      "text/html": "<div>\n<style scoped>\n    .dataframe tbody tr th:only-of-type {\n        vertical-align: middle;\n    }\n\n    .dataframe tbody tr th {\n        vertical-align: top;\n    }\n\n    .dataframe thead th {\n        text-align: right;\n    }\n</style>\n<table border=\"1\" class=\"dataframe\">\n  <thead>\n    <tr style=\"text-align: right;\">\n      <th></th>\n      <th>ID_REF</th>\n      <th>1007_s_at</th>\n      <th>1053_at</th>\n      <th>117_at</th>\n      <th>121_at</th>\n      <th>1255_g_at</th>\n      <th>1294_at</th>\n      <th>1316_at</th>\n      <th>1320_at</th>\n      <th>1405_i_at</th>\n      <th>...</th>\n      <th>206927_s_at</th>\n      <th>206928_at</th>\n      <th>206929_s_at</th>\n      <th>206930_at</th>\n      <th>206931_at</th>\n      <th>206932_at</th>\n      <th>206933_s_at</th>\n      <th>206934_at</th>\n      <th>206935_at</th>\n      <th>206936_x_at</th>\n    </tr>\n  </thead>\n  <tbody>\n    <tr>\n      <th>0</th>\n      <td>GSM1682614</td>\n      <td>492.5000</td>\n      <td>988.500</td>\n      <td>1677.0000</td>\n      <td>2856.200</td>\n      <td>197.50000</td>\n      <td>3948.200</td>\n      <td>749.4000</td>\n      <td>216.50000</td>\n      <td>1561.100</td>\n      <td>...</td>\n      <td>136.00000</td>\n      <td>3003.800</td>\n      <td>489.8000</td>\n      <td>379.60000</td>\n      <td>945.8000</td>\n      <td>102.70000</td>\n      <td>95.00000</td>\n      <td>1124.5000</td>\n      <td>91.40000</td>\n      <td>2573.400</td>\n    </tr>\n    <tr>\n      <th>1</th>\n      <td>GSM1682615</td>\n      <td>992.2914</td>\n      <td>1671.248</td>\n      <td>312.9964</td>\n      <td>1514.233</td>\n      <td>68.79980</td>\n      <td>6455.948</td>\n      <td>585.3797</td>\n      <td>33.89514</td>\n      <td>1053.610</td>\n      <td>...</td>\n      <td>190.01090</td>\n      <td>4108.014</td>\n      <td>1030.2210</td>\n      <td>109.02470</td>\n      <td>767.2295</td>\n      <td>11.72884</td>\n      <td>173.57690</td>\n      <td>169.2777</td>\n      <td>5.28214</td>\n      <td>1985.431</td>\n    </tr>\n    <tr>\n      <th>2</th>\n      <td>GSM1682616</td>\n      <td>639.9207</td>\n      <td>2475.515</td>\n      <td>369.9277</td>\n      <td>2167.405</td>\n      <td>93.66864</td>\n      <td>10215.440</td>\n      <td>682.4297</td>\n      <td>50.10245</td>\n      <td>6135.089</td>\n      <td>...</td>\n      <td>330.32360</td>\n      <td>5128.173</td>\n      <td>1402.8630</td>\n      <td>195.03890</td>\n      <td>331.0485</td>\n      <td>101.89820</td>\n      <td>207.26920</td>\n      <td>245.7526</td>\n      <td>46.15807</td>\n      <td>3002.954</td>\n    </tr>\n    <tr>\n      <th>3</th>\n      <td>GSM1682617</td>\n      <td>1586.2420</td>\n      <td>1669.516</td>\n      <td>395.1871</td>\n      <td>1687.894</td>\n      <td>137.29080</td>\n      <td>4501.796</td>\n      <td>403.4219</td>\n      <td>18.10369</td>\n      <td>19350.590</td>\n      <td>...</td>\n      <td>367.85490</td>\n      <td>5427.443</td>\n      <td>807.0797</td>\n      <td>73.01001</td>\n      <td>926.1743</td>\n      <td>230.80090</td>\n      <td>119.15180</td>\n      <td>195.9008</td>\n      <td>13.60067</td>\n      <td>2641.230</td>\n    </tr>\n    <tr>\n      <th>4</th>\n      <td>GSM1682618</td>\n      <td>673.6545</td>\n      <td>2246.731</td>\n      <td>857.8096</td>\n      <td>1973.064</td>\n      <td>83.86870</td>\n      <td>5533.674</td>\n      <td>530.7810</td>\n      <td>32.94907</td>\n      <td>12308.010</td>\n      <td>...</td>\n      <td>18.18558</td>\n      <td>2551.292</td>\n      <td>1081.4950</td>\n      <td>219.95090</td>\n      <td>371.7992</td>\n      <td>177.03040</td>\n      <td>21.19365</td>\n      <td>1220.5080</td>\n      <td>192.27200</td>\n      <td>1311.488</td>\n    </tr>\n  </tbody>\n</table>\n<p>5 rows × 16384 columns</p>\n</div>"
     },
     "execution_count": 1,
     "metadata": {},
     "output_type": "execute_result"
    }
   ],
   "source": [
    "import pandas as pd\n",
    "gene = pd.read_csv(\"/Users/TracyTao/Desktop/Singapore/NUS/PHM5005/ML/PHM5005/gene.csv\")\n",
    "gene.head()"
   ]
  },
  {
   "cell_type": "code",
   "execution_count": 10,
   "outputs": [
    {
     "data": {
      "text/plain": "(183, 16384)"
     },
     "execution_count": 10,
     "metadata": {},
     "output_type": "execute_result"
    }
   ],
   "source": [
    "gene.head()\n",
    "gene.shape"
   ],
   "metadata": {
    "collapsed": false,
    "ExecuteTime": {
     "end_time": "2024-04-02T09:38:31.173108Z",
     "start_time": "2024-04-02T09:38:31.163119Z"
    }
   },
   "id": "15f5024bb8c965d4"
  },
  {
   "cell_type": "code",
   "execution_count": 4,
   "outputs": [
    {
     "data": {
      "text/plain": "       ID_REF  AGE SUBTYPES GENDER\n0  GSM1682614   56       M1      M\n1  GSM1682615   43       M1      F\n2  GSM1682616   45       M2      F\n3  GSM1682617   70       M1      F\n4  GSM1682618   62       M5      M",
      "text/html": "<div>\n<style scoped>\n    .dataframe tbody tr th:only-of-type {\n        vertical-align: middle;\n    }\n\n    .dataframe tbody tr th {\n        vertical-align: top;\n    }\n\n    .dataframe thead th {\n        text-align: right;\n    }\n</style>\n<table border=\"1\" class=\"dataframe\">\n  <thead>\n    <tr style=\"text-align: right;\">\n      <th></th>\n      <th>ID_REF</th>\n      <th>AGE</th>\n      <th>SUBTYPES</th>\n      <th>GENDER</th>\n    </tr>\n  </thead>\n  <tbody>\n    <tr>\n      <th>0</th>\n      <td>GSM1682614</td>\n      <td>56</td>\n      <td>M1</td>\n      <td>M</td>\n    </tr>\n    <tr>\n      <th>1</th>\n      <td>GSM1682615</td>\n      <td>43</td>\n      <td>M1</td>\n      <td>F</td>\n    </tr>\n    <tr>\n      <th>2</th>\n      <td>GSM1682616</td>\n      <td>45</td>\n      <td>M2</td>\n      <td>F</td>\n    </tr>\n    <tr>\n      <th>3</th>\n      <td>GSM1682617</td>\n      <td>70</td>\n      <td>M1</td>\n      <td>F</td>\n    </tr>\n    <tr>\n      <th>4</th>\n      <td>GSM1682618</td>\n      <td>62</td>\n      <td>M5</td>\n      <td>M</td>\n    </tr>\n  </tbody>\n</table>\n</div>"
     },
     "execution_count": 4,
     "metadata": {},
     "output_type": "execute_result"
    }
   ],
   "source": [
    "chort = pd.read_csv(\"/Users/TracyTao/Desktop/Singapore/NUS/PHM5005/ML/PHM5005/Chort.csv\")\n",
    "chort.head()"
   ],
   "metadata": {
    "collapsed": false,
    "ExecuteTime": {
     "end_time": "2024-04-02T09:33:39.344979Z",
     "start_time": "2024-04-02T09:33:39.319590Z"
    }
   },
   "id": "7b05b231ba8ae335"
  },
  {
   "cell_type": "code",
   "execution_count": 9,
   "outputs": [
    {
     "data": {
      "text/plain": "(183, 16387)"
     },
     "execution_count": 9,
     "metadata": {},
     "output_type": "execute_result"
    }
   ],
   "source": [
    "df = pd.merge(gene, chort, on='ID_REF', how='outer')\n",
    "df.shape"
   ],
   "metadata": {
    "collapsed": false,
    "ExecuteTime": {
     "end_time": "2024-04-02T09:38:21.248876Z",
     "start_time": "2024-04-02T09:38:21.205990Z"
    }
   },
   "id": "22d4fb0a4bce5cd7"
  },
  {
   "cell_type": "code",
   "execution_count": 13,
   "outputs": [
    {
     "data": {
      "text/plain": "       ID_REF  1007_s_at   1053_at     117_at    121_at  1255_g_at    1294_at  \\\n0  GSM1682614   492.5000   988.500  1677.0000  2856.200  197.50000   3948.200   \n1  GSM1682615   992.2914  1671.248   312.9964  1514.233   68.79980   6455.948   \n2  GSM1682616   639.9207  2475.515   369.9277  2167.405   93.66864  10215.440   \n3  GSM1682617  1586.2420  1669.516   395.1871  1687.894  137.29080   4501.796   \n4  GSM1682618   673.6545  2246.731   857.8096  1973.064   83.86870   5533.674   \n\n    1316_at    1320_at  1405_i_at  ...  206930_at  206931_at  206932_at  \\\n0  749.4000  216.50000   1561.100  ...  379.60000   945.8000  102.70000   \n1  585.3797   33.89514   1053.610  ...  109.02470   767.2295   11.72884   \n2  682.4297   50.10245   6135.089  ...  195.03890   331.0485  101.89820   \n3  403.4219   18.10369  19350.590  ...   73.01001   926.1743  230.80090   \n4  530.7810   32.94907  12308.010  ...  219.95090   371.7992  177.03040   \n\n   206933_s_at  206934_at  206935_at  206936_x_at  AGE  SUBTYPES  GENDER  \n0     95.00000  1124.5000   91.40000     2573.400   56        M1       1  \n1    173.57690   169.2777    5.28214     1985.431   43        M1       0  \n2    207.26920   245.7526   46.15807     3002.954   45        M2       0  \n3    119.15180   195.9008   13.60067     2641.230   70        M1       0  \n4     21.19365  1220.5080  192.27200     1311.488   62        M5       1  \n\n[5 rows x 16387 columns]",
      "text/html": "<div>\n<style scoped>\n    .dataframe tbody tr th:only-of-type {\n        vertical-align: middle;\n    }\n\n    .dataframe tbody tr th {\n        vertical-align: top;\n    }\n\n    .dataframe thead th {\n        text-align: right;\n    }\n</style>\n<table border=\"1\" class=\"dataframe\">\n  <thead>\n    <tr style=\"text-align: right;\">\n      <th></th>\n      <th>ID_REF</th>\n      <th>1007_s_at</th>\n      <th>1053_at</th>\n      <th>117_at</th>\n      <th>121_at</th>\n      <th>1255_g_at</th>\n      <th>1294_at</th>\n      <th>1316_at</th>\n      <th>1320_at</th>\n      <th>1405_i_at</th>\n      <th>...</th>\n      <th>206930_at</th>\n      <th>206931_at</th>\n      <th>206932_at</th>\n      <th>206933_s_at</th>\n      <th>206934_at</th>\n      <th>206935_at</th>\n      <th>206936_x_at</th>\n      <th>AGE</th>\n      <th>SUBTYPES</th>\n      <th>GENDER</th>\n    </tr>\n  </thead>\n  <tbody>\n    <tr>\n      <th>0</th>\n      <td>GSM1682614</td>\n      <td>492.5000</td>\n      <td>988.500</td>\n      <td>1677.0000</td>\n      <td>2856.200</td>\n      <td>197.50000</td>\n      <td>3948.200</td>\n      <td>749.4000</td>\n      <td>216.50000</td>\n      <td>1561.100</td>\n      <td>...</td>\n      <td>379.60000</td>\n      <td>945.8000</td>\n      <td>102.70000</td>\n      <td>95.00000</td>\n      <td>1124.5000</td>\n      <td>91.40000</td>\n      <td>2573.400</td>\n      <td>56</td>\n      <td>M1</td>\n      <td>1</td>\n    </tr>\n    <tr>\n      <th>1</th>\n      <td>GSM1682615</td>\n      <td>992.2914</td>\n      <td>1671.248</td>\n      <td>312.9964</td>\n      <td>1514.233</td>\n      <td>68.79980</td>\n      <td>6455.948</td>\n      <td>585.3797</td>\n      <td>33.89514</td>\n      <td>1053.610</td>\n      <td>...</td>\n      <td>109.02470</td>\n      <td>767.2295</td>\n      <td>11.72884</td>\n      <td>173.57690</td>\n      <td>169.2777</td>\n      <td>5.28214</td>\n      <td>1985.431</td>\n      <td>43</td>\n      <td>M1</td>\n      <td>0</td>\n    </tr>\n    <tr>\n      <th>2</th>\n      <td>GSM1682616</td>\n      <td>639.9207</td>\n      <td>2475.515</td>\n      <td>369.9277</td>\n      <td>2167.405</td>\n      <td>93.66864</td>\n      <td>10215.440</td>\n      <td>682.4297</td>\n      <td>50.10245</td>\n      <td>6135.089</td>\n      <td>...</td>\n      <td>195.03890</td>\n      <td>331.0485</td>\n      <td>101.89820</td>\n      <td>207.26920</td>\n      <td>245.7526</td>\n      <td>46.15807</td>\n      <td>3002.954</td>\n      <td>45</td>\n      <td>M2</td>\n      <td>0</td>\n    </tr>\n    <tr>\n      <th>3</th>\n      <td>GSM1682617</td>\n      <td>1586.2420</td>\n      <td>1669.516</td>\n      <td>395.1871</td>\n      <td>1687.894</td>\n      <td>137.29080</td>\n      <td>4501.796</td>\n      <td>403.4219</td>\n      <td>18.10369</td>\n      <td>19350.590</td>\n      <td>...</td>\n      <td>73.01001</td>\n      <td>926.1743</td>\n      <td>230.80090</td>\n      <td>119.15180</td>\n      <td>195.9008</td>\n      <td>13.60067</td>\n      <td>2641.230</td>\n      <td>70</td>\n      <td>M1</td>\n      <td>0</td>\n    </tr>\n    <tr>\n      <th>4</th>\n      <td>GSM1682618</td>\n      <td>673.6545</td>\n      <td>2246.731</td>\n      <td>857.8096</td>\n      <td>1973.064</td>\n      <td>83.86870</td>\n      <td>5533.674</td>\n      <td>530.7810</td>\n      <td>32.94907</td>\n      <td>12308.010</td>\n      <td>...</td>\n      <td>219.95090</td>\n      <td>371.7992</td>\n      <td>177.03040</td>\n      <td>21.19365</td>\n      <td>1220.5080</td>\n      <td>192.27200</td>\n      <td>1311.488</td>\n      <td>62</td>\n      <td>M5</td>\n      <td>1</td>\n    </tr>\n  </tbody>\n</table>\n<p>5 rows × 16387 columns</p>\n</div>"
     },
     "execution_count": 13,
     "metadata": {},
     "output_type": "execute_result"
    }
   ],
   "source": [
    "from sklearn.preprocessing import LabelEncoder\n",
    "label_encoder = LabelEncoder()\n",
    "df['GENDER'] = label_encoder.fit_transform(df['GENDER'])\n",
    "df.head()"
   ],
   "metadata": {
    "collapsed": false,
    "ExecuteTime": {
     "end_time": "2024-04-02T09:41:34.872896Z",
     "start_time": "2024-04-02T09:41:34.821191Z"
    }
   },
   "id": "91571acf33d8f3ac"
  },
  {
   "cell_type": "code",
   "execution_count": 15,
   "outputs": [
    {
     "data": {
      "text/plain": "       ID_REF  1007_s_at   1053_at     117_at    121_at  1255_g_at    1294_at  \\\n0  GSM1682614   492.5000   988.500  1677.0000  2856.200  197.50000   3948.200   \n1  GSM1682615   992.2914  1671.248   312.9964  1514.233   68.79980   6455.948   \n2  GSM1682616   639.9207  2475.515   369.9277  2167.405   93.66864  10215.440   \n3  GSM1682617  1586.2420  1669.516   395.1871  1687.894  137.29080   4501.796   \n4  GSM1682618   673.6545  2246.731   857.8096  1973.064   83.86870   5533.674   \n\n    1316_at    1320_at  1405_i_at  ...  206930_at  206931_at  206932_at  \\\n0  749.4000  216.50000   1561.100  ...  379.60000   945.8000  102.70000   \n1  585.3797   33.89514   1053.610  ...  109.02470   767.2295   11.72884   \n2  682.4297   50.10245   6135.089  ...  195.03890   331.0485  101.89820   \n3  403.4219   18.10369  19350.590  ...   73.01001   926.1743  230.80090   \n4  530.7810   32.94907  12308.010  ...  219.95090   371.7992  177.03040   \n\n   206933_s_at  206934_at  206935_at  206936_x_at  AGE  SUBTYPES  GENDER  \n0     95.00000  1124.5000   91.40000     2573.400   56         2       1  \n1    173.57690   169.2777    5.28214     1985.431   43         2       0  \n2    207.26920   245.7526   46.15807     3002.954   45         3       0  \n3    119.15180   195.9008   13.60067     2641.230   70         2       0  \n4     21.19365  1220.5080  192.27200     1311.488   62         6       1  \n\n[5 rows x 16387 columns]",
      "text/html": "<div>\n<style scoped>\n    .dataframe tbody tr th:only-of-type {\n        vertical-align: middle;\n    }\n\n    .dataframe tbody tr th {\n        vertical-align: top;\n    }\n\n    .dataframe thead th {\n        text-align: right;\n    }\n</style>\n<table border=\"1\" class=\"dataframe\">\n  <thead>\n    <tr style=\"text-align: right;\">\n      <th></th>\n      <th>ID_REF</th>\n      <th>1007_s_at</th>\n      <th>1053_at</th>\n      <th>117_at</th>\n      <th>121_at</th>\n      <th>1255_g_at</th>\n      <th>1294_at</th>\n      <th>1316_at</th>\n      <th>1320_at</th>\n      <th>1405_i_at</th>\n      <th>...</th>\n      <th>206930_at</th>\n      <th>206931_at</th>\n      <th>206932_at</th>\n      <th>206933_s_at</th>\n      <th>206934_at</th>\n      <th>206935_at</th>\n      <th>206936_x_at</th>\n      <th>AGE</th>\n      <th>SUBTYPES</th>\n      <th>GENDER</th>\n    </tr>\n  </thead>\n  <tbody>\n    <tr>\n      <th>0</th>\n      <td>GSM1682614</td>\n      <td>492.5000</td>\n      <td>988.500</td>\n      <td>1677.0000</td>\n      <td>2856.200</td>\n      <td>197.50000</td>\n      <td>3948.200</td>\n      <td>749.4000</td>\n      <td>216.50000</td>\n      <td>1561.100</td>\n      <td>...</td>\n      <td>379.60000</td>\n      <td>945.8000</td>\n      <td>102.70000</td>\n      <td>95.00000</td>\n      <td>1124.5000</td>\n      <td>91.40000</td>\n      <td>2573.400</td>\n      <td>56</td>\n      <td>2</td>\n      <td>1</td>\n    </tr>\n    <tr>\n      <th>1</th>\n      <td>GSM1682615</td>\n      <td>992.2914</td>\n      <td>1671.248</td>\n      <td>312.9964</td>\n      <td>1514.233</td>\n      <td>68.79980</td>\n      <td>6455.948</td>\n      <td>585.3797</td>\n      <td>33.89514</td>\n      <td>1053.610</td>\n      <td>...</td>\n      <td>109.02470</td>\n      <td>767.2295</td>\n      <td>11.72884</td>\n      <td>173.57690</td>\n      <td>169.2777</td>\n      <td>5.28214</td>\n      <td>1985.431</td>\n      <td>43</td>\n      <td>2</td>\n      <td>0</td>\n    </tr>\n    <tr>\n      <th>2</th>\n      <td>GSM1682616</td>\n      <td>639.9207</td>\n      <td>2475.515</td>\n      <td>369.9277</td>\n      <td>2167.405</td>\n      <td>93.66864</td>\n      <td>10215.440</td>\n      <td>682.4297</td>\n      <td>50.10245</td>\n      <td>6135.089</td>\n      <td>...</td>\n      <td>195.03890</td>\n      <td>331.0485</td>\n      <td>101.89820</td>\n      <td>207.26920</td>\n      <td>245.7526</td>\n      <td>46.15807</td>\n      <td>3002.954</td>\n      <td>45</td>\n      <td>3</td>\n      <td>0</td>\n    </tr>\n    <tr>\n      <th>3</th>\n      <td>GSM1682617</td>\n      <td>1586.2420</td>\n      <td>1669.516</td>\n      <td>395.1871</td>\n      <td>1687.894</td>\n      <td>137.29080</td>\n      <td>4501.796</td>\n      <td>403.4219</td>\n      <td>18.10369</td>\n      <td>19350.590</td>\n      <td>...</td>\n      <td>73.01001</td>\n      <td>926.1743</td>\n      <td>230.80090</td>\n      <td>119.15180</td>\n      <td>195.9008</td>\n      <td>13.60067</td>\n      <td>2641.230</td>\n      <td>70</td>\n      <td>2</td>\n      <td>0</td>\n    </tr>\n    <tr>\n      <th>4</th>\n      <td>GSM1682618</td>\n      <td>673.6545</td>\n      <td>2246.731</td>\n      <td>857.8096</td>\n      <td>1973.064</td>\n      <td>83.86870</td>\n      <td>5533.674</td>\n      <td>530.7810</td>\n      <td>32.94907</td>\n      <td>12308.010</td>\n      <td>...</td>\n      <td>219.95090</td>\n      <td>371.7992</td>\n      <td>177.03040</td>\n      <td>21.19365</td>\n      <td>1220.5080</td>\n      <td>192.27200</td>\n      <td>1311.488</td>\n      <td>62</td>\n      <td>6</td>\n      <td>1</td>\n    </tr>\n  </tbody>\n</table>\n<p>5 rows × 16387 columns</p>\n</div>"
     },
     "execution_count": 15,
     "metadata": {},
     "output_type": "execute_result"
    }
   ],
   "source": [
    "df['SUBTYPES'] = label_encoder.fit_transform(df['SUBTYPES'])\n",
    "df.head()"
   ],
   "metadata": {
    "collapsed": false,
    "ExecuteTime": {
     "end_time": "2024-04-02T09:43:51.391560Z",
     "start_time": "2024-04-02T09:43:51.369017Z"
    }
   },
   "id": "778c524d0e92fb71"
  },
  {
   "cell_type": "code",
   "execution_count": 16,
   "outputs": [],
   "source": [
    "df.to_csv(\"/Users/TracyTao/Desktop/Singapore/NUS/PHM5005/ML/PHM5005/AML.csv\", index=True)"
   ],
   "metadata": {
    "collapsed": false,
    "ExecuteTime": {
     "end_time": "2024-04-02T09:44:29.031706Z",
     "start_time": "2024-04-02T09:44:26.576035Z"
    }
   },
   "id": "7abdf59de59dd402"
  },
  {
   "cell_type": "code",
   "execution_count": 17,
   "outputs": [],
   "source": [
    "import numpy as np\n",
    "\n",
    "# Statistical Analysis & Machine Learning Packages/Libraries \n",
    "from sklearn.model_selection import train_test_split\n",
    "from sklearn.feature_selection import RFE # <--- Recursive Feature Eliminator\n",
    "from sklearn.tree import DecisionTreeClassifier\n",
    "from scipy.stats import pearsonr # <--- Pearson Correlation\n",
    "from sklearn.feature_selection import SelectKBest, chi2 # <--- Chi-Squared Test\n",
    "from sklearn.feature_selection import SelectKBest, f_classif # <--- Analysis of Variance\n",
    "from sklearn.ensemble import RandomForestClassifier # <--- Random Forest Regressor\n",
    "from sklearn.model_selection import GridSearchCV, KFold\n",
    "from sklearn.metrics import accuracy_score\n",
    "from sklearn.metrics import roc_auc_score, f1_score\n",
    "from sklearn.svm import SVC # <--  Support Vector Machine\n",
    "import xgboost as xgb # <--  XGBoost\n",
    "from sklearn.metrics import mean_squared_error\n",
    "import sklearn.neighbors # <--- k-Nearest Neighbors\n",
    "from sklearn.feature_selection import mutual_info_classif\n",
    "from sklearn.neural_network import MLPClassifier # <--- Multi-Layer Perceptron\n",
    "from sklearn.preprocessing import StandardScaler\n",
    "from sklearn.pipeline import Pipeline\n",
    "from scipy.stats import uniform, randint\n",
    "import sklearn.ensemble # <--- Soft Voting Machine\n",
    "from sklearn.metrics import confusion_matrix\n",
    "\n",
    "# Data Visualization Packages/Libraries \n",
    "import matplotlib.pyplot as plt\n",
    "import matplotlib\n",
    "import seaborn as sns\n",
    "from sklearn.tree import plot_tree\n",
    "\n",
    "# Miscellaneous Packages/Libraries \n",
    "import warnings\n",
    "from biothings_client import get_client\n",
    "from sklearn.exceptions import ConvergenceWarning\n",
    "\n",
    "# Hardcoded Values\n",
    "random_state = 42 # <--- Random State\n",
    "test_size = 0.3 # <--- Test/Train Split\n",
    "\n",
    "kfold = KFold(n_splits = 2, shuffle = True, random_state = random_state) # <--- KFold\n",
    "warnings.filterwarnings(\"ignore\", category = ConvergenceWarning) # <--- Supress Warnings"
   ],
   "metadata": {
    "collapsed": false,
    "ExecuteTime": {
     "end_time": "2024-04-02T09:48:31.040981Z",
     "start_time": "2024-04-02T09:48:29.859856Z"
    }
   },
   "id": "cfa36aca7da1cfb0"
  },
  {
   "cell_type": "code",
   "execution_count": 19,
   "outputs": [],
   "source": [
    "# Feature Selection \n",
    "y = df['SUBTYPES'] # <--- Target (Case/Control)\n",
    "x = df.drop(['SUBTYPES', 'ID_REF'], axis = 1) # <--- Features (Genomic/Clinical)\n",
    "\n",
    "x_train, x_test, y_train, y_test = train_test_split(x, y, test_size = test_size, random_state = random_state) # <-- Test/Train\n",
    "\n",
    "x_transformed = np.log1p(x_train) # <--- Normalization "
   ],
   "metadata": {
    "collapsed": false,
    "ExecuteTime": {
     "end_time": "2024-04-02T09:49:51.854811Z",
     "start_time": "2024-04-02T09:49:51.781687Z"
    }
   },
   "id": "68613c2210812ac1"
  },
  {
   "cell_type": "code",
   "execution_count": 32,
   "outputs": [
    {
     "data": {
      "text/plain": "          Gene_Name  Correlation Coefficient       p-value\n12994     203547_at                 0.508065  2.111905e-13\n974    1553587_a_at                 0.484816  3.535583e-12\n15934   206488_s_at                 0.481574  5.151121e-12\n12009     202561_at                -0.476538  9.170683e-12\n8964   1568957_x_at                 0.475997  9.752084e-12\n...             ...                      ...           ...\n8277     1566456_at                -0.145212  4.983909e-02\n8379     1566664_at                 0.145160  4.992265e-02\n2507     1555704_at                -0.145138  4.995668e-02\n8476     1566863_at                 0.145132  4.996739e-02\n5881     1561263_at                -0.145116  4.999196e-02\n\n[3839 rows x 3 columns]",
      "text/html": "<div>\n<style scoped>\n    .dataframe tbody tr th:only-of-type {\n        vertical-align: middle;\n    }\n\n    .dataframe tbody tr th {\n        vertical-align: top;\n    }\n\n    .dataframe thead th {\n        text-align: right;\n    }\n</style>\n<table border=\"1\" class=\"dataframe\">\n  <thead>\n    <tr style=\"text-align: right;\">\n      <th></th>\n      <th>Gene_Name</th>\n      <th>Correlation Coefficient</th>\n      <th>p-value</th>\n    </tr>\n  </thead>\n  <tbody>\n    <tr>\n      <th>12994</th>\n      <td>203547_at</td>\n      <td>0.508065</td>\n      <td>2.111905e-13</td>\n    </tr>\n    <tr>\n      <th>974</th>\n      <td>1553587_a_at</td>\n      <td>0.484816</td>\n      <td>3.535583e-12</td>\n    </tr>\n    <tr>\n      <th>15934</th>\n      <td>206488_s_at</td>\n      <td>0.481574</td>\n      <td>5.151121e-12</td>\n    </tr>\n    <tr>\n      <th>12009</th>\n      <td>202561_at</td>\n      <td>-0.476538</td>\n      <td>9.170683e-12</td>\n    </tr>\n    <tr>\n      <th>8964</th>\n      <td>1568957_x_at</td>\n      <td>0.475997</td>\n      <td>9.752084e-12</td>\n    </tr>\n    <tr>\n      <th>...</th>\n      <td>...</td>\n      <td>...</td>\n      <td>...</td>\n    </tr>\n    <tr>\n      <th>8277</th>\n      <td>1566456_at</td>\n      <td>-0.145212</td>\n      <td>4.983909e-02</td>\n    </tr>\n    <tr>\n      <th>8379</th>\n      <td>1566664_at</td>\n      <td>0.145160</td>\n      <td>4.992265e-02</td>\n    </tr>\n    <tr>\n      <th>2507</th>\n      <td>1555704_at</td>\n      <td>-0.145138</td>\n      <td>4.995668e-02</td>\n    </tr>\n    <tr>\n      <th>8476</th>\n      <td>1566863_at</td>\n      <td>0.145132</td>\n      <td>4.996739e-02</td>\n    </tr>\n    <tr>\n      <th>5881</th>\n      <td>1561263_at</td>\n      <td>-0.145116</td>\n      <td>4.999196e-02</td>\n    </tr>\n  </tbody>\n</table>\n<p>3839 rows × 3 columns</p>\n</div>"
     },
     "execution_count": 32,
     "metadata": {},
     "output_type": "execute_result"
    }
   ],
   "source": [
    "# Pearson Correlation\n",
    "person_correlations = [pearsonr(x[column], y) for column in x.columns] # <--- Calculate Pearson Correlation \n",
    "\n",
    "pearson_df = pd.DataFrame(person_correlations, columns=['Correlation Coefficient', 'p-value'], # <--- Generate p-values\n",
    "                          index = x.columns).reset_index().rename(columns={'index': 'Gene_Name'}) # <--- Create Table \n",
    "\n",
    "pearson_df['Absolute Correlation Coefficient'] = np.abs(pearson_df['Correlation Coefficient']) # <--- Absolute Value\n",
    "\n",
    "pearson_df_sorted = pearson_df.sort_values(by='Absolute Correlation Coefficient', \n",
    "                                    ascending = False).drop('Absolute Correlation Coefficient', axis = 1) # <--- Sort Table\n",
    "\n",
    "pearson_df_significant = pearson_df_sorted[pearson_df_sorted['p-value'] < 0.05] # <--- Significance Filter \n",
    "\n",
    "pearson_df_significant # <--- Display Table"
   ],
   "metadata": {
    "collapsed": false,
    "ExecuteTime": {
     "end_time": "2024-04-02T10:27:42.692767Z",
     "start_time": "2024-04-02T10:27:34.274633Z"
    }
   },
   "id": "4d4a64a189f87303"
  },
  {
   "cell_type": "code",
   "execution_count": 33,
   "outputs": [
    {
     "data": {
      "text/plain": "          Gene_Name  Chi-Square Statistic       p-value\n16317     206871_at          8.208853e+06  0.000000e+00\n13395   203948_s_at          6.678841e+06  0.000000e+00\n13396     203949_at          5.541694e+06  0.000000e+00\n13866   204419_x_at          4.689770e+06  0.000000e+00\n14295   204848_x_at          4.531860e+06  0.000000e+00\n...             ...                   ...           ...\n3596     1557362_at          4.547240e+01  2.993967e-07\n16290     206844_at          4.397948e+01  5.740612e-07\n13440   203993_x_at          4.042963e+01  2.664157e-06\n7686   1564621_a_at          3.813091e+01  7.120415e-06\n15429   205982_x_at          3.726339e+01  1.029344e-05\n\n[16384 rows x 3 columns]",
      "text/html": "<div>\n<style scoped>\n    .dataframe tbody tr th:only-of-type {\n        vertical-align: middle;\n    }\n\n    .dataframe tbody tr th {\n        vertical-align: top;\n    }\n\n    .dataframe thead th {\n        text-align: right;\n    }\n</style>\n<table border=\"1\" class=\"dataframe\">\n  <thead>\n    <tr style=\"text-align: right;\">\n      <th></th>\n      <th>Gene_Name</th>\n      <th>Chi-Square Statistic</th>\n      <th>p-value</th>\n    </tr>\n  </thead>\n  <tbody>\n    <tr>\n      <th>16317</th>\n      <td>206871_at</td>\n      <td>8.208853e+06</td>\n      <td>0.000000e+00</td>\n    </tr>\n    <tr>\n      <th>13395</th>\n      <td>203948_s_at</td>\n      <td>6.678841e+06</td>\n      <td>0.000000e+00</td>\n    </tr>\n    <tr>\n      <th>13396</th>\n      <td>203949_at</td>\n      <td>5.541694e+06</td>\n      <td>0.000000e+00</td>\n    </tr>\n    <tr>\n      <th>13866</th>\n      <td>204419_x_at</td>\n      <td>4.689770e+06</td>\n      <td>0.000000e+00</td>\n    </tr>\n    <tr>\n      <th>14295</th>\n      <td>204848_x_at</td>\n      <td>4.531860e+06</td>\n      <td>0.000000e+00</td>\n    </tr>\n    <tr>\n      <th>...</th>\n      <td>...</td>\n      <td>...</td>\n      <td>...</td>\n    </tr>\n    <tr>\n      <th>3596</th>\n      <td>1557362_at</td>\n      <td>4.547240e+01</td>\n      <td>2.993967e-07</td>\n    </tr>\n    <tr>\n      <th>16290</th>\n      <td>206844_at</td>\n      <td>4.397948e+01</td>\n      <td>5.740612e-07</td>\n    </tr>\n    <tr>\n      <th>13440</th>\n      <td>203993_x_at</td>\n      <td>4.042963e+01</td>\n      <td>2.664157e-06</td>\n    </tr>\n    <tr>\n      <th>7686</th>\n      <td>1564621_a_at</td>\n      <td>3.813091e+01</td>\n      <td>7.120415e-06</td>\n    </tr>\n    <tr>\n      <th>15429</th>\n      <td>205982_x_at</td>\n      <td>3.726339e+01</td>\n      <td>1.029344e-05</td>\n    </tr>\n  </tbody>\n</table>\n<p>16384 rows × 3 columns</p>\n</div>"
     },
     "execution_count": 33,
     "metadata": {},
     "output_type": "execute_result"
    }
   ],
   "source": [
    "# Chi-Squared Test\n",
    "chisq_features = SelectKBest(score_func=chi2, k=10)  # <--- Select 10 Features\n",
    "chisq_fit = chisq_features.fit(x_train, y_train)  # <--- Fit Chi-Squared\n",
    "\n",
    "chisq_scores = pd.DataFrame(chisq_fit.scores_)  # <--- Scores\n",
    "chisq_pvalues = pd.DataFrame(chisq_fit.pvalues_)  # <--- p-values\n",
    "chisq_labels = pd.DataFrame(x_train.columns)  # <--- Features \n",
    "\n",
    "chisq_df = pd.concat([chisq_labels, chisq_scores, chisq_pvalues], axis=1)\n",
    "chisq_df.columns = ['Gene_Name', 'Chi-Square Statistic', 'p-value']  # <--- Create Table \n",
    "chisq_df_sorted = chisq_df.sort_values(by=['Chi-Square Statistic'], ascending=False)  # <--- Sort Table\n",
    "chisq_df_significant = chisq_df_sorted[chisq_df_sorted['p-value'] < 0.05]  # <--- Significance Filter \n",
    "\n",
    "chisq_df_significant  # <--- Display Table"
   ],
   "metadata": {
    "collapsed": false,
    "ExecuteTime": {
     "end_time": "2024-04-02T10:27:52.785837Z",
     "start_time": "2024-04-02T10:27:52.677068Z"
    }
   },
   "id": "feb0b32628271c5a"
  },
  {
   "cell_type": "code",
   "execution_count": 34,
   "outputs": [
    {
     "data": {
      "text/plain": "          Gene_Name  F-Statistic       p-value\n6430     1562157_at    34.021828  2.367153e-27\n14557   205110_s_at    30.913168  1.079695e-25\n15061   205614_x_at    26.064101  7.101946e-23\n14462   205015_s_at    24.015438  1.377987e-21\n4147   1558322_a_at    23.432828  3.290703e-21\n...             ...          ...           ...\n1824   1554779_s_at     2.019883  4.966518e-02\n11632   202184_s_at     2.018923  4.978009e-02\n12320     202872_at     2.018532  4.982703e-02\n5412     1560538_at     2.017854  4.990832e-02\n15032     205585_at     2.017605  4.993829e-02\n\n[4855 rows x 3 columns]",
      "text/html": "<div>\n<style scoped>\n    .dataframe tbody tr th:only-of-type {\n        vertical-align: middle;\n    }\n\n    .dataframe tbody tr th {\n        vertical-align: top;\n    }\n\n    .dataframe thead th {\n        text-align: right;\n    }\n</style>\n<table border=\"1\" class=\"dataframe\">\n  <thead>\n    <tr style=\"text-align: right;\">\n      <th></th>\n      <th>Gene_Name</th>\n      <th>F-Statistic</th>\n      <th>p-value</th>\n    </tr>\n  </thead>\n  <tbody>\n    <tr>\n      <th>6430</th>\n      <td>1562157_at</td>\n      <td>34.021828</td>\n      <td>2.367153e-27</td>\n    </tr>\n    <tr>\n      <th>14557</th>\n      <td>205110_s_at</td>\n      <td>30.913168</td>\n      <td>1.079695e-25</td>\n    </tr>\n    <tr>\n      <th>15061</th>\n      <td>205614_x_at</td>\n      <td>26.064101</td>\n      <td>7.101946e-23</td>\n    </tr>\n    <tr>\n      <th>14462</th>\n      <td>205015_s_at</td>\n      <td>24.015438</td>\n      <td>1.377987e-21</td>\n    </tr>\n    <tr>\n      <th>4147</th>\n      <td>1558322_a_at</td>\n      <td>23.432828</td>\n      <td>3.290703e-21</td>\n    </tr>\n    <tr>\n      <th>...</th>\n      <td>...</td>\n      <td>...</td>\n      <td>...</td>\n    </tr>\n    <tr>\n      <th>1824</th>\n      <td>1554779_s_at</td>\n      <td>2.019883</td>\n      <td>4.966518e-02</td>\n    </tr>\n    <tr>\n      <th>11632</th>\n      <td>202184_s_at</td>\n      <td>2.018923</td>\n      <td>4.978009e-02</td>\n    </tr>\n    <tr>\n      <th>12320</th>\n      <td>202872_at</td>\n      <td>2.018532</td>\n      <td>4.982703e-02</td>\n    </tr>\n    <tr>\n      <th>5412</th>\n      <td>1560538_at</td>\n      <td>2.017854</td>\n      <td>4.990832e-02</td>\n    </tr>\n    <tr>\n      <th>15032</th>\n      <td>205585_at</td>\n      <td>2.017605</td>\n      <td>4.993829e-02</td>\n    </tr>\n  </tbody>\n</table>\n<p>4855 rows × 3 columns</p>\n</div>"
     },
     "execution_count": 34,
     "metadata": {},
     "output_type": "execute_result"
    }
   ],
   "source": [
    "# Analysis of Variance\n",
    "anova_features = SelectKBest(score_func = f_classif, k = 10).fit(x_train, y_train) # <--- Select 10 Features\n",
    "\n",
    "anova_scores = pd.DataFrame(anova_features.scores_, columns=['F-Statistic']) # <--- Scores\n",
    "anova_pvalues = pd.DataFrame(anova_features.pvalues_, columns=['p-value']) # <--- p-values\n",
    "anova_labels = pd.DataFrame(x_train.columns, columns=['Gene_Name']) # Features\n",
    "\n",
    "anova_df = pd.concat([anova_labels, anova_scores, anova_pvalues], axis = 1) # <--- Create Table\n",
    "anova_df_sorted = anova_df.sort_values('F-Statistic', ascending = False) # <--- Sort Table\n",
    "anova_df_significant = anova_df_sorted[anova_df_sorted['p-value'] < 0.05] # <--- Significance Filter \n",
    "\n",
    "anova_df_significant # <--- Display Table"
   ],
   "metadata": {
    "collapsed": false,
    "ExecuteTime": {
     "end_time": "2024-04-02T10:28:03.549627Z",
     "start_time": "2024-04-02T10:28:03.433660Z"
    }
   },
   "id": "45a7a4fb7b82833"
  },
  {
   "cell_type": "code",
   "execution_count": 35,
   "outputs": [],
   "source": [
    "# Complete Merged Table\n",
    "merged_df = (anova_df_sorted.merge(chisq_df_sorted, on='Gene_Name', how='outer')\n",
    "                             .merge(pearson_df_sorted, on='Gene_Name', how='outer'))"
   ],
   "metadata": {
    "collapsed": false,
    "ExecuteTime": {
     "end_time": "2024-04-02T10:28:16.949262Z",
     "start_time": "2024-04-02T10:28:16.925678Z"
    }
   },
   "id": "b85d70c3b3a9355b"
  },
  {
   "cell_type": "code",
   "execution_count": 36,
   "outputs": [
    {
     "data": {
      "text/plain": "      Gene_Name  F-Statistic  p-value (ANOVA)  Chi-Square Statistic  \\\n0    1562157_at    34.021828     2.367153e-27           4424.243957   \n1   205110_s_at    30.913168     1.079695e-25         521183.930319   \n2   205614_x_at    26.064101     7.101946e-23         116233.262067   \n3   205015_s_at    24.015438     1.377987e-21           7137.726520   \n4  1558322_a_at    23.432828     3.290703e-21         162979.991186   \n\n   p-value (Chi-Squared Test)  Correlation Coefficient  \\\n0                         0.0                 0.152180   \n1                         0.0                 0.029542   \n2                         0.0                 0.061042   \n3                         0.0                 0.209136   \n4                         0.0                 0.146026   \n\n   p-value (Pearson Correlation)  \n0                       0.039730  \n1                       0.691379  \n2                       0.411722  \n3                       0.004494  \n4                       0.048558  ",
      "text/html": "<div>\n<style scoped>\n    .dataframe tbody tr th:only-of-type {\n        vertical-align: middle;\n    }\n\n    .dataframe tbody tr th {\n        vertical-align: top;\n    }\n\n    .dataframe thead th {\n        text-align: right;\n    }\n</style>\n<table border=\"1\" class=\"dataframe\">\n  <thead>\n    <tr style=\"text-align: right;\">\n      <th></th>\n      <th>Gene_Name</th>\n      <th>F-Statistic</th>\n      <th>p-value (ANOVA)</th>\n      <th>Chi-Square Statistic</th>\n      <th>p-value (Chi-Squared Test)</th>\n      <th>Correlation Coefficient</th>\n      <th>p-value (Pearson Correlation)</th>\n    </tr>\n  </thead>\n  <tbody>\n    <tr>\n      <th>0</th>\n      <td>1562157_at</td>\n      <td>34.021828</td>\n      <td>2.367153e-27</td>\n      <td>4424.243957</td>\n      <td>0.0</td>\n      <td>0.152180</td>\n      <td>0.039730</td>\n    </tr>\n    <tr>\n      <th>1</th>\n      <td>205110_s_at</td>\n      <td>30.913168</td>\n      <td>1.079695e-25</td>\n      <td>521183.930319</td>\n      <td>0.0</td>\n      <td>0.029542</td>\n      <td>0.691379</td>\n    </tr>\n    <tr>\n      <th>2</th>\n      <td>205614_x_at</td>\n      <td>26.064101</td>\n      <td>7.101946e-23</td>\n      <td>116233.262067</td>\n      <td>0.0</td>\n      <td>0.061042</td>\n      <td>0.411722</td>\n    </tr>\n    <tr>\n      <th>3</th>\n      <td>205015_s_at</td>\n      <td>24.015438</td>\n      <td>1.377987e-21</td>\n      <td>7137.726520</td>\n      <td>0.0</td>\n      <td>0.209136</td>\n      <td>0.004494</td>\n    </tr>\n    <tr>\n      <th>4</th>\n      <td>1558322_a_at</td>\n      <td>23.432828</td>\n      <td>3.290703e-21</td>\n      <td>162979.991186</td>\n      <td>0.0</td>\n      <td>0.146026</td>\n      <td>0.048558</td>\n    </tr>\n  </tbody>\n</table>\n</div>"
     },
     "execution_count": 36,
     "metadata": {},
     "output_type": "execute_result"
    }
   ],
   "source": [
    "merged_df.columns = ['Gene_Name', \n",
    "                     'F-Statistic', 'p-value (ANOVA)', \n",
    "                     'Chi-Square Statistic', 'p-value (Chi-Squared Test)', \n",
    "                     'Correlation Coefficient', 'p-value (Pearson Correlation)']\n",
    "merged_df.head()"
   ],
   "metadata": {
    "collapsed": false,
    "ExecuteTime": {
     "end_time": "2024-04-02T10:28:20.387390Z",
     "start_time": "2024-04-02T10:28:20.381347Z"
    }
   },
   "id": "b38441a357d801df"
  },
  {
   "cell_type": "code",
   "execution_count": 37,
   "outputs": [],
   "source": [
    "merged_df.to_csv('/Users/TracyTao/Desktop/Singapore/NUS/PHM5005/ML/PHM5005/AML-Biomarker-Selection.csv', index = None)"
   ],
   "metadata": {
    "collapsed": false,
    "ExecuteTime": {
     "end_time": "2024-04-02T10:28:24.244690Z",
     "start_time": "2024-04-02T10:28:24.101538Z"
    }
   },
   "id": "484fb0659fc07122"
  },
  {
   "cell_type": "code",
   "execution_count": 40,
   "outputs": [
    {
     "data": {
      "text/plain": "         Gene_Name  F-Statistic  p-value (ANOVA)  Chi-Square Statistic  \\\n0       1562157_at    34.021828     2.367153e-27          4.424244e+03   \n3      205015_s_at    24.015438     1.377987e-21          7.137727e+03   \n4     1558322_a_at    23.432828     3.290703e-21          1.629800e+05   \n5        206023_at    23.208054     4.619546e-21          1.854021e+06   \n9     1554982_a_at    21.861897     3.668060e-20          6.064728e+03   \n...            ...          ...              ...                   ...   \n4838     200045_at     2.021916     4.942274e-02          5.084893e+03   \n4847    1568762_at     2.020648     4.957386e-02          2.101366e+03   \n4848  1570414_x_at     2.020428     4.960013e-02          1.101641e+04   \n4851   202184_s_at     2.018923     4.978009e-02          4.167533e+03   \n4854     205585_at     2.017605     4.993829e-02          1.332513e+04   \n\n      p-value (Chi-Squared Test)  Correlation Coefficient  \\\n0                            0.0                 0.152180   \n3                            0.0                 0.209136   \n4                            0.0                 0.146026   \n5                            0.0                 0.277386   \n9                            0.0                 0.211167   \n...                          ...                      ...   \n4838                         0.0                 0.192630   \n4847                         0.0                 0.170249   \n4848                         0.0                -0.253831   \n4851                         0.0                -0.184662   \n4854                         0.0                -0.226475   \n\n      p-value (Pearson Correlation)  \n0                          0.039730  \n3                          0.004494  \n4                          0.048558  \n5                          0.000144  \n9                          0.004112  \n...                             ...  \n4838                       0.008988  \n4847                       0.021214  \n4848                       0.000526  \n4851                       0.012332  \n4854                       0.002050  \n\n[2531 rows x 7 columns]",
      "text/html": "<div>\n<style scoped>\n    .dataframe tbody tr th:only-of-type {\n        vertical-align: middle;\n    }\n\n    .dataframe tbody tr th {\n        vertical-align: top;\n    }\n\n    .dataframe thead th {\n        text-align: right;\n    }\n</style>\n<table border=\"1\" class=\"dataframe\">\n  <thead>\n    <tr style=\"text-align: right;\">\n      <th></th>\n      <th>Gene_Name</th>\n      <th>F-Statistic</th>\n      <th>p-value (ANOVA)</th>\n      <th>Chi-Square Statistic</th>\n      <th>p-value (Chi-Squared Test)</th>\n      <th>Correlation Coefficient</th>\n      <th>p-value (Pearson Correlation)</th>\n    </tr>\n  </thead>\n  <tbody>\n    <tr>\n      <th>0</th>\n      <td>1562157_at</td>\n      <td>34.021828</td>\n      <td>2.367153e-27</td>\n      <td>4.424244e+03</td>\n      <td>0.0</td>\n      <td>0.152180</td>\n      <td>0.039730</td>\n    </tr>\n    <tr>\n      <th>3</th>\n      <td>205015_s_at</td>\n      <td>24.015438</td>\n      <td>1.377987e-21</td>\n      <td>7.137727e+03</td>\n      <td>0.0</td>\n      <td>0.209136</td>\n      <td>0.004494</td>\n    </tr>\n    <tr>\n      <th>4</th>\n      <td>1558322_a_at</td>\n      <td>23.432828</td>\n      <td>3.290703e-21</td>\n      <td>1.629800e+05</td>\n      <td>0.0</td>\n      <td>0.146026</td>\n      <td>0.048558</td>\n    </tr>\n    <tr>\n      <th>5</th>\n      <td>206023_at</td>\n      <td>23.208054</td>\n      <td>4.619546e-21</td>\n      <td>1.854021e+06</td>\n      <td>0.0</td>\n      <td>0.277386</td>\n      <td>0.000144</td>\n    </tr>\n    <tr>\n      <th>9</th>\n      <td>1554982_a_at</td>\n      <td>21.861897</td>\n      <td>3.668060e-20</td>\n      <td>6.064728e+03</td>\n      <td>0.0</td>\n      <td>0.211167</td>\n      <td>0.004112</td>\n    </tr>\n    <tr>\n      <th>...</th>\n      <td>...</td>\n      <td>...</td>\n      <td>...</td>\n      <td>...</td>\n      <td>...</td>\n      <td>...</td>\n      <td>...</td>\n    </tr>\n    <tr>\n      <th>4838</th>\n      <td>200045_at</td>\n      <td>2.021916</td>\n      <td>4.942274e-02</td>\n      <td>5.084893e+03</td>\n      <td>0.0</td>\n      <td>0.192630</td>\n      <td>0.008988</td>\n    </tr>\n    <tr>\n      <th>4847</th>\n      <td>1568762_at</td>\n      <td>2.020648</td>\n      <td>4.957386e-02</td>\n      <td>2.101366e+03</td>\n      <td>0.0</td>\n      <td>0.170249</td>\n      <td>0.021214</td>\n    </tr>\n    <tr>\n      <th>4848</th>\n      <td>1570414_x_at</td>\n      <td>2.020428</td>\n      <td>4.960013e-02</td>\n      <td>1.101641e+04</td>\n      <td>0.0</td>\n      <td>-0.253831</td>\n      <td>0.000526</td>\n    </tr>\n    <tr>\n      <th>4851</th>\n      <td>202184_s_at</td>\n      <td>2.018923</td>\n      <td>4.978009e-02</td>\n      <td>4.167533e+03</td>\n      <td>0.0</td>\n      <td>-0.184662</td>\n      <td>0.012332</td>\n    </tr>\n    <tr>\n      <th>4854</th>\n      <td>205585_at</td>\n      <td>2.017605</td>\n      <td>4.993829e-02</td>\n      <td>1.332513e+04</td>\n      <td>0.0</td>\n      <td>-0.226475</td>\n      <td>0.002050</td>\n    </tr>\n  </tbody>\n</table>\n<p>2531 rows × 7 columns</p>\n</div>"
     },
     "execution_count": 40,
     "metadata": {},
     "output_type": "execute_result"
    }
   ],
   "source": [
    "# Supported Biomarkers\n",
    "\n",
    "biomarkers_df = anova_df_sorted.merge(chisq_df_sorted, on='Gene_Name').merge(pearson_df_sorted, on='Gene_Name')\n",
    "\n",
    "biomarkers_df.columns = ['Gene_Name', \n",
    "                         'F-Statistic', 'p-value (ANOVA)', \n",
    "                         'Chi-Square Statistic', 'p-value (Chi-Squared Test)', \n",
    "                         'Correlation Coefficient', 'p-value (Pearson Correlation)'] # <--- Create Biomarkers Table\n",
    "\n",
    "significant_biomarkers_df = biomarkers_df[(biomarkers_df['p-value (ANOVA)'] < 0.05) \n",
    "                                          & (biomarkers_df['p-value (Chi-Squared Test)'] < 0.05) \n",
    "                                          & (biomarkers_df['p-value (Pearson Correlation)'] < 0.05)] # <-- Filter 0.05 p-value\n",
    "\n",
    "\n",
    "significant_biomarkers_list = significant_biomarkers_df['Gene_Name'].values # <-- Ensembl ID for ML/AI Analysis\n",
    "\n",
    "significant_biomarkers_df"
   ],
   "metadata": {
    "collapsed": false,
    "ExecuteTime": {
     "end_time": "2024-04-02T10:30:44.331398Z",
     "start_time": "2024-04-02T10:30:44.299336Z"
    }
   },
   "id": "f2a7c8efebf8652b"
  },
  {
   "cell_type": "code",
   "execution_count": 41,
   "outputs": [
    {
     "data": {
      "text/plain": "array(['1562157_at', '205015_s_at', '1558322_a_at', ..., '1570414_x_at',\n       '202184_s_at', '205585_at'], dtype=object)"
     },
     "execution_count": 41,
     "metadata": {},
     "output_type": "execute_result"
    }
   ],
   "source": [
    "significant_biomarkers_list"
   ],
   "metadata": {
    "collapsed": false,
    "ExecuteTime": {
     "end_time": "2024-04-02T10:30:54.704371Z",
     "start_time": "2024-04-02T10:30:54.679445Z"
    }
   },
   "id": "b54659aa81a9d1e6"
  },
  {
   "cell_type": "code",
   "execution_count": 42,
   "outputs": [],
   "source": [
    "# ML/AI Analysis\n",
    "y = df['SUBTYPES'] # <--- Target (Case/Control)\n",
    "x = df[significant_biomarkers_list] # <--- Features (Significant Biomarkers)\n",
    "\n",
    "x_train, x_test, y_train, y_test = train_test_split(x, y, test_size = test_size, random_state = random_state) # <--  Test/Train"
   ],
   "metadata": {
    "collapsed": false,
    "ExecuteTime": {
     "end_time": "2024-04-02T10:31:19.720309Z",
     "start_time": "2024-04-02T10:31:19.660363Z"
    }
   },
   "id": "af702762609205a3"
  },
  {
   "cell_type": "code",
   "execution_count": 43,
   "outputs": [
    {
     "ename": "KeyboardInterrupt",
     "evalue": "",
     "output_type": "error",
     "traceback": [
      "\u001B[0;31m---------------------------------------------------------------------------\u001B[0m",
      "\u001B[0;31mKeyboardInterrupt\u001B[0m                         Traceback (most recent call last)",
      "Cell \u001B[0;32mIn[43], line 16\u001B[0m\n\u001B[1;32m      5\u001B[0m rf_parameter_grid \u001B[38;5;241m=\u001B[39m { \n\u001B[1;32m      6\u001B[0m     \u001B[38;5;124m'\u001B[39m\u001B[38;5;124mmax_features\u001B[39m\u001B[38;5;124m'\u001B[39m: np\u001B[38;5;241m.\u001B[39marange(\u001B[38;5;241m1\u001B[39m, x_train\u001B[38;5;241m.\u001B[39mshape[\u001B[38;5;241m1\u001B[39m] \u001B[38;5;241m+\u001B[39m \u001B[38;5;241m1\u001B[39m),\n\u001B[1;32m      7\u001B[0m     \u001B[38;5;124m'\u001B[39m\u001B[38;5;124mmin_samples_split\u001B[39m\u001B[38;5;124m'\u001B[39m: np\u001B[38;5;241m.\u001B[39marange(\u001B[38;5;241m2\u001B[39m, \u001B[38;5;241m11\u001B[39m),\n\u001B[1;32m      8\u001B[0m     \u001B[38;5;124m'\u001B[39m\u001B[38;5;124mmin_samples_leaf\u001B[39m\u001B[38;5;124m'\u001B[39m: np\u001B[38;5;241m.\u001B[39mconcatenate([np\u001B[38;5;241m.\u001B[39marange(\u001B[38;5;241m1\u001B[39m, \u001B[38;5;241m11\u001B[39m), [\u001B[38;5;241m100\u001B[39m, \u001B[38;5;241m150\u001B[39m]])\n\u001B[1;32m      9\u001B[0m } \u001B[38;5;66;03m# <--- Generate Parameter Grid\u001B[39;00m\n\u001B[1;32m     11\u001B[0m rf_best \u001B[38;5;241m=\u001B[39m GridSearchCV(\n\u001B[1;32m     12\u001B[0m     rf, param_grid \u001B[38;5;241m=\u001B[39m rf_parameter_grid, cv \u001B[38;5;241m=\u001B[39m kfold,\n\u001B[1;32m     13\u001B[0m     scoring \u001B[38;5;241m=\u001B[39m \u001B[38;5;124m'\u001B[39m\u001B[38;5;124maccuracy\u001B[39m\u001B[38;5;124m'\u001B[39m, n_jobs \u001B[38;5;241m=\u001B[39m \u001B[38;5;241m-\u001B[39m\u001B[38;5;241m1\u001B[39m, verbose \u001B[38;5;241m=\u001B[39m \u001B[38;5;241m0\u001B[39m\n\u001B[1;32m     14\u001B[0m ) \u001B[38;5;66;03m# <--- Hyperparameter Tuning \u001B[39;00m\n\u001B[0;32m---> 16\u001B[0m rf_best\u001B[38;5;241m.\u001B[39mfit(x_train, y_train) \u001B[38;5;66;03m# <--- Fit GridSearchCV\u001B[39;00m\n\u001B[1;32m     17\u001B[0m rf_best \u001B[38;5;241m=\u001B[39m rf_best\u001B[38;5;241m.\u001B[39mbest_estimator_ \u001B[38;5;66;03m# <--- Assign Best Estimator \u001B[39;00m\n\u001B[1;32m     18\u001B[0m rf_best\n",
      "File \u001B[0;32m~/anaconda3/lib/python3.11/site-packages/sklearn/base.py:1151\u001B[0m, in \u001B[0;36m_fit_context.<locals>.decorator.<locals>.wrapper\u001B[0;34m(estimator, *args, **kwargs)\u001B[0m\n\u001B[1;32m   1144\u001B[0m     estimator\u001B[38;5;241m.\u001B[39m_validate_params()\n\u001B[1;32m   1146\u001B[0m \u001B[38;5;28;01mwith\u001B[39;00m config_context(\n\u001B[1;32m   1147\u001B[0m     skip_parameter_validation\u001B[38;5;241m=\u001B[39m(\n\u001B[1;32m   1148\u001B[0m         prefer_skip_nested_validation \u001B[38;5;129;01mor\u001B[39;00m global_skip_validation\n\u001B[1;32m   1149\u001B[0m     )\n\u001B[1;32m   1150\u001B[0m ):\n\u001B[0;32m-> 1151\u001B[0m     \u001B[38;5;28;01mreturn\u001B[39;00m fit_method(estimator, \u001B[38;5;241m*\u001B[39margs, \u001B[38;5;241m*\u001B[39m\u001B[38;5;241m*\u001B[39mkwargs)\n",
      "File \u001B[0;32m~/anaconda3/lib/python3.11/site-packages/sklearn/model_selection/_search.py:898\u001B[0m, in \u001B[0;36mBaseSearchCV.fit\u001B[0;34m(self, X, y, groups, **fit_params)\u001B[0m\n\u001B[1;32m    892\u001B[0m     results \u001B[38;5;241m=\u001B[39m \u001B[38;5;28mself\u001B[39m\u001B[38;5;241m.\u001B[39m_format_results(\n\u001B[1;32m    893\u001B[0m         all_candidate_params, n_splits, all_out, all_more_results\n\u001B[1;32m    894\u001B[0m     )\n\u001B[1;32m    896\u001B[0m     \u001B[38;5;28;01mreturn\u001B[39;00m results\n\u001B[0;32m--> 898\u001B[0m \u001B[38;5;28mself\u001B[39m\u001B[38;5;241m.\u001B[39m_run_search(evaluate_candidates)\n\u001B[1;32m    900\u001B[0m \u001B[38;5;66;03m# multimetric is determined here because in the case of a callable\u001B[39;00m\n\u001B[1;32m    901\u001B[0m \u001B[38;5;66;03m# self.scoring the return type is only known after calling\u001B[39;00m\n\u001B[1;32m    902\u001B[0m first_test_score \u001B[38;5;241m=\u001B[39m all_out[\u001B[38;5;241m0\u001B[39m][\u001B[38;5;124m\"\u001B[39m\u001B[38;5;124mtest_scores\u001B[39m\u001B[38;5;124m\"\u001B[39m]\n",
      "File \u001B[0;32m~/anaconda3/lib/python3.11/site-packages/sklearn/model_selection/_search.py:1419\u001B[0m, in \u001B[0;36mGridSearchCV._run_search\u001B[0;34m(self, evaluate_candidates)\u001B[0m\n\u001B[1;32m   1417\u001B[0m \u001B[38;5;28;01mdef\u001B[39;00m \u001B[38;5;21m_run_search\u001B[39m(\u001B[38;5;28mself\u001B[39m, evaluate_candidates):\n\u001B[1;32m   1418\u001B[0m \u001B[38;5;250m    \u001B[39m\u001B[38;5;124;03m\"\"\"Search all candidates in param_grid\"\"\"\u001B[39;00m\n\u001B[0;32m-> 1419\u001B[0m     evaluate_candidates(ParameterGrid(\u001B[38;5;28mself\u001B[39m\u001B[38;5;241m.\u001B[39mparam_grid))\n",
      "File \u001B[0;32m~/anaconda3/lib/python3.11/site-packages/sklearn/model_selection/_search.py:845\u001B[0m, in \u001B[0;36mBaseSearchCV.fit.<locals>.evaluate_candidates\u001B[0;34m(candidate_params, cv, more_results)\u001B[0m\n\u001B[1;32m    837\u001B[0m \u001B[38;5;28;01mif\u001B[39;00m \u001B[38;5;28mself\u001B[39m\u001B[38;5;241m.\u001B[39mverbose \u001B[38;5;241m>\u001B[39m \u001B[38;5;241m0\u001B[39m:\n\u001B[1;32m    838\u001B[0m     \u001B[38;5;28mprint\u001B[39m(\n\u001B[1;32m    839\u001B[0m         \u001B[38;5;124m\"\u001B[39m\u001B[38;5;124mFitting \u001B[39m\u001B[38;5;132;01m{0}\u001B[39;00m\u001B[38;5;124m folds for each of \u001B[39m\u001B[38;5;132;01m{1}\u001B[39;00m\u001B[38;5;124m candidates,\u001B[39m\u001B[38;5;124m\"\u001B[39m\n\u001B[1;32m    840\u001B[0m         \u001B[38;5;124m\"\u001B[39m\u001B[38;5;124m totalling \u001B[39m\u001B[38;5;132;01m{2}\u001B[39;00m\u001B[38;5;124m fits\u001B[39m\u001B[38;5;124m\"\u001B[39m\u001B[38;5;241m.\u001B[39mformat(\n\u001B[1;32m    841\u001B[0m             n_splits, n_candidates, n_candidates \u001B[38;5;241m*\u001B[39m n_splits\n\u001B[1;32m    842\u001B[0m         )\n\u001B[1;32m    843\u001B[0m     )\n\u001B[0;32m--> 845\u001B[0m out \u001B[38;5;241m=\u001B[39m parallel(\n\u001B[1;32m    846\u001B[0m     delayed(_fit_and_score)(\n\u001B[1;32m    847\u001B[0m         clone(base_estimator),\n\u001B[1;32m    848\u001B[0m         X,\n\u001B[1;32m    849\u001B[0m         y,\n\u001B[1;32m    850\u001B[0m         train\u001B[38;5;241m=\u001B[39mtrain,\n\u001B[1;32m    851\u001B[0m         test\u001B[38;5;241m=\u001B[39mtest,\n\u001B[1;32m    852\u001B[0m         parameters\u001B[38;5;241m=\u001B[39mparameters,\n\u001B[1;32m    853\u001B[0m         split_progress\u001B[38;5;241m=\u001B[39m(split_idx, n_splits),\n\u001B[1;32m    854\u001B[0m         candidate_progress\u001B[38;5;241m=\u001B[39m(cand_idx, n_candidates),\n\u001B[1;32m    855\u001B[0m         \u001B[38;5;241m*\u001B[39m\u001B[38;5;241m*\u001B[39mfit_and_score_kwargs,\n\u001B[1;32m    856\u001B[0m     )\n\u001B[1;32m    857\u001B[0m     \u001B[38;5;28;01mfor\u001B[39;00m (cand_idx, parameters), (split_idx, (train, test)) \u001B[38;5;129;01min\u001B[39;00m product(\n\u001B[1;32m    858\u001B[0m         \u001B[38;5;28menumerate\u001B[39m(candidate_params), \u001B[38;5;28menumerate\u001B[39m(cv\u001B[38;5;241m.\u001B[39msplit(X, y, groups))\n\u001B[1;32m    859\u001B[0m     )\n\u001B[1;32m    860\u001B[0m )\n\u001B[1;32m    862\u001B[0m \u001B[38;5;28;01mif\u001B[39;00m \u001B[38;5;28mlen\u001B[39m(out) \u001B[38;5;241m<\u001B[39m \u001B[38;5;241m1\u001B[39m:\n\u001B[1;32m    863\u001B[0m     \u001B[38;5;28;01mraise\u001B[39;00m \u001B[38;5;167;01mValueError\u001B[39;00m(\n\u001B[1;32m    864\u001B[0m         \u001B[38;5;124m\"\u001B[39m\u001B[38;5;124mNo fits were performed. \u001B[39m\u001B[38;5;124m\"\u001B[39m\n\u001B[1;32m    865\u001B[0m         \u001B[38;5;124m\"\u001B[39m\u001B[38;5;124mWas the CV iterator empty? \u001B[39m\u001B[38;5;124m\"\u001B[39m\n\u001B[1;32m    866\u001B[0m         \u001B[38;5;124m\"\u001B[39m\u001B[38;5;124mWere there no candidates?\u001B[39m\u001B[38;5;124m\"\u001B[39m\n\u001B[1;32m    867\u001B[0m     )\n",
      "File \u001B[0;32m~/anaconda3/lib/python3.11/site-packages/sklearn/utils/parallel.py:65\u001B[0m, in \u001B[0;36mParallel.__call__\u001B[0;34m(self, iterable)\u001B[0m\n\u001B[1;32m     60\u001B[0m config \u001B[38;5;241m=\u001B[39m get_config()\n\u001B[1;32m     61\u001B[0m iterable_with_config \u001B[38;5;241m=\u001B[39m (\n\u001B[1;32m     62\u001B[0m     (_with_config(delayed_func, config), args, kwargs)\n\u001B[1;32m     63\u001B[0m     \u001B[38;5;28;01mfor\u001B[39;00m delayed_func, args, kwargs \u001B[38;5;129;01min\u001B[39;00m iterable\n\u001B[1;32m     64\u001B[0m )\n\u001B[0;32m---> 65\u001B[0m \u001B[38;5;28;01mreturn\u001B[39;00m \u001B[38;5;28msuper\u001B[39m()\u001B[38;5;241m.\u001B[39m\u001B[38;5;21m__call__\u001B[39m(iterable_with_config)\n",
      "File \u001B[0;32m~/anaconda3/lib/python3.11/site-packages/joblib/parallel.py:1098\u001B[0m, in \u001B[0;36mParallel.__call__\u001B[0;34m(self, iterable)\u001B[0m\n\u001B[1;32m   1095\u001B[0m     \u001B[38;5;28mself\u001B[39m\u001B[38;5;241m.\u001B[39m_iterating \u001B[38;5;241m=\u001B[39m \u001B[38;5;28;01mFalse\u001B[39;00m\n\u001B[1;32m   1097\u001B[0m \u001B[38;5;28;01mwith\u001B[39;00m \u001B[38;5;28mself\u001B[39m\u001B[38;5;241m.\u001B[39m_backend\u001B[38;5;241m.\u001B[39mretrieval_context():\n\u001B[0;32m-> 1098\u001B[0m     \u001B[38;5;28mself\u001B[39m\u001B[38;5;241m.\u001B[39mretrieve()\n\u001B[1;32m   1099\u001B[0m \u001B[38;5;66;03m# Make sure that we get a last message telling us we are done\u001B[39;00m\n\u001B[1;32m   1100\u001B[0m elapsed_time \u001B[38;5;241m=\u001B[39m time\u001B[38;5;241m.\u001B[39mtime() \u001B[38;5;241m-\u001B[39m \u001B[38;5;28mself\u001B[39m\u001B[38;5;241m.\u001B[39m_start_time\n",
      "File \u001B[0;32m~/anaconda3/lib/python3.11/site-packages/joblib/parallel.py:975\u001B[0m, in \u001B[0;36mParallel.retrieve\u001B[0;34m(self)\u001B[0m\n\u001B[1;32m    973\u001B[0m \u001B[38;5;28;01mtry\u001B[39;00m:\n\u001B[1;32m    974\u001B[0m     \u001B[38;5;28;01mif\u001B[39;00m \u001B[38;5;28mgetattr\u001B[39m(\u001B[38;5;28mself\u001B[39m\u001B[38;5;241m.\u001B[39m_backend, \u001B[38;5;124m'\u001B[39m\u001B[38;5;124msupports_timeout\u001B[39m\u001B[38;5;124m'\u001B[39m, \u001B[38;5;28;01mFalse\u001B[39;00m):\n\u001B[0;32m--> 975\u001B[0m         \u001B[38;5;28mself\u001B[39m\u001B[38;5;241m.\u001B[39m_output\u001B[38;5;241m.\u001B[39mextend(job\u001B[38;5;241m.\u001B[39mget(timeout\u001B[38;5;241m=\u001B[39m\u001B[38;5;28mself\u001B[39m\u001B[38;5;241m.\u001B[39mtimeout))\n\u001B[1;32m    976\u001B[0m     \u001B[38;5;28;01melse\u001B[39;00m:\n\u001B[1;32m    977\u001B[0m         \u001B[38;5;28mself\u001B[39m\u001B[38;5;241m.\u001B[39m_output\u001B[38;5;241m.\u001B[39mextend(job\u001B[38;5;241m.\u001B[39mget())\n",
      "File \u001B[0;32m~/anaconda3/lib/python3.11/site-packages/joblib/_parallel_backends.py:567\u001B[0m, in \u001B[0;36mLokyBackend.wrap_future_result\u001B[0;34m(future, timeout)\u001B[0m\n\u001B[1;32m    564\u001B[0m \u001B[38;5;250m\u001B[39m\u001B[38;5;124;03m\"\"\"Wrapper for Future.result to implement the same behaviour as\u001B[39;00m\n\u001B[1;32m    565\u001B[0m \u001B[38;5;124;03mAsyncResults.get from multiprocessing.\"\"\"\u001B[39;00m\n\u001B[1;32m    566\u001B[0m \u001B[38;5;28;01mtry\u001B[39;00m:\n\u001B[0;32m--> 567\u001B[0m     \u001B[38;5;28;01mreturn\u001B[39;00m future\u001B[38;5;241m.\u001B[39mresult(timeout\u001B[38;5;241m=\u001B[39mtimeout)\n\u001B[1;32m    568\u001B[0m \u001B[38;5;28;01mexcept\u001B[39;00m CfTimeoutError \u001B[38;5;28;01mas\u001B[39;00m e:\n\u001B[1;32m    569\u001B[0m     \u001B[38;5;28;01mraise\u001B[39;00m \u001B[38;5;167;01mTimeoutError\u001B[39;00m \u001B[38;5;28;01mfrom\u001B[39;00m \u001B[38;5;21;01me\u001B[39;00m\n",
      "File \u001B[0;32m~/anaconda3/lib/python3.11/concurrent/futures/_base.py:451\u001B[0m, in \u001B[0;36mFuture.result\u001B[0;34m(self, timeout)\u001B[0m\n\u001B[1;32m    448\u001B[0m \u001B[38;5;28;01melif\u001B[39;00m \u001B[38;5;28mself\u001B[39m\u001B[38;5;241m.\u001B[39m_state \u001B[38;5;241m==\u001B[39m FINISHED:\n\u001B[1;32m    449\u001B[0m     \u001B[38;5;28;01mreturn\u001B[39;00m \u001B[38;5;28mself\u001B[39m\u001B[38;5;241m.\u001B[39m__get_result()\n\u001B[0;32m--> 451\u001B[0m \u001B[38;5;28mself\u001B[39m\u001B[38;5;241m.\u001B[39m_condition\u001B[38;5;241m.\u001B[39mwait(timeout)\n\u001B[1;32m    453\u001B[0m \u001B[38;5;28;01mif\u001B[39;00m \u001B[38;5;28mself\u001B[39m\u001B[38;5;241m.\u001B[39m_state \u001B[38;5;129;01min\u001B[39;00m [CANCELLED, CANCELLED_AND_NOTIFIED]:\n\u001B[1;32m    454\u001B[0m     \u001B[38;5;28;01mraise\u001B[39;00m CancelledError()\n",
      "File \u001B[0;32m~/anaconda3/lib/python3.11/threading.py:320\u001B[0m, in \u001B[0;36mCondition.wait\u001B[0;34m(self, timeout)\u001B[0m\n\u001B[1;32m    318\u001B[0m \u001B[38;5;28;01mtry\u001B[39;00m:    \u001B[38;5;66;03m# restore state no matter what (e.g., KeyboardInterrupt)\u001B[39;00m\n\u001B[1;32m    319\u001B[0m     \u001B[38;5;28;01mif\u001B[39;00m timeout \u001B[38;5;129;01mis\u001B[39;00m \u001B[38;5;28;01mNone\u001B[39;00m:\n\u001B[0;32m--> 320\u001B[0m         waiter\u001B[38;5;241m.\u001B[39macquire()\n\u001B[1;32m    321\u001B[0m         gotit \u001B[38;5;241m=\u001B[39m \u001B[38;5;28;01mTrue\u001B[39;00m\n\u001B[1;32m    322\u001B[0m     \u001B[38;5;28;01melse\u001B[39;00m:\n",
      "\u001B[0;31mKeyboardInterrupt\u001B[0m: "
     ]
    }
   ],
   "source": [
    "# Random Forest Classifier (with Hyperparameter Tuning)\n",
    "rf = RandomForestClassifier(random_state = 42) # <--- Initialize RF \n",
    "rf.fit(x_train, y_train) # <--- Fit RF\n",
    "\n",
    "rf_parameter_grid = { \n",
    "    'max_features': np.arange(1, x_train.shape[1] + 1),\n",
    "    'min_samples_split': np.arange(2, 11),\n",
    "    'min_samples_leaf': np.concatenate([np.arange(1, 11), [100, 150]])\n",
    "} # <--- Generate Parameter Grid\n",
    "\n",
    "rf_best = GridSearchCV(\n",
    "    rf, param_grid = rf_parameter_grid, cv = kfold,\n",
    "    scoring = 'accuracy', n_jobs = -1, verbose = 0\n",
    ") # <--- Hyperparameter Tuning \n",
    "\n",
    "rf_best.fit(x_train, y_train) # <--- Fit GridSearchCV\n",
    "rf_best = rf_best.best_estimator_ # <--- Assign Best Estimator \n",
    "rf_best"
   ],
   "metadata": {
    "collapsed": false,
    "ExecuteTime": {
     "end_time": "2024-04-02T10:36:04.363700Z",
     "start_time": "2024-04-02T10:31:36.967995Z"
    }
   },
   "id": "b6eca2098f5f7b8d"
  },
  {
   "cell_type": "code",
   "execution_count": null,
   "outputs": [],
   "source": [],
   "metadata": {
    "collapsed": false
   },
   "id": "bb797cf64168fb0"
  }
 ],
 "metadata": {
  "kernelspec": {
   "display_name": "Python 3",
   "language": "python",
   "name": "python3"
  },
  "language_info": {
   "codemirror_mode": {
    "name": "ipython",
    "version": 2
   },
   "file_extension": ".py",
   "mimetype": "text/x-python",
   "name": "python",
   "nbconvert_exporter": "python",
   "pygments_lexer": "ipython2",
   "version": "2.7.6"
  }
 },
 "nbformat": 4,
 "nbformat_minor": 5
}
